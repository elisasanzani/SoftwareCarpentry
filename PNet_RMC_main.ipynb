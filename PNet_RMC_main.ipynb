{
  "nbformat": 4,
  "nbformat_minor": 0,
  "metadata": {
    "colab": {
      "name": "PNet-RMC_main.ipynb",
      "provenance": [],
      "authorship_tag": "ABX9TyN6RFWghce5MpPJuD23t8yO",
      "include_colab_link": true
    },
    "kernelspec": {
      "name": "python3",
      "display_name": "Python 3"
    },
    "language_info": {
      "name": "python"
    },
    "accelerator": "GPU",
    "gpuClass": "standard"
  },
  "cells": [
    {
      "cell_type": "markdown",
      "metadata": {
        "id": "view-in-github",
        "colab_type": "text"
      },
      "source": [
        "<a href=\"https://colab.research.google.com/github/elisasanzani/SoftwareCarpentry/blob/main/PNet_RMC_main.ipynb\" target=\"_parent\"><img src=\"https://colab.research.google.com/assets/colab-badge.svg\" alt=\"Open In Colab\"/></a>"
      ]
    },
    {
      "cell_type": "markdown",
      "source": [
        "# **Particle Net Lite Custom DG-CNN**"
      ],
      "metadata": {
        "id": "37uU1zmzDZ0d"
      }
    },
    {
      "cell_type": "code",
      "source": [
        "import logging\n",
        "logging.basicConfig(level=logging.INFO, format='[%(asctime)s] %(levelname)s: %(message)s')\n",
        "import numpy as np\n",
        "from sklearn.metrics import precision_recall_curve, auc\n",
        "import matplotlib.pyplot as plt"
      ],
      "metadata": {
        "id": "LiaWlth9DxWr"
      },
      "execution_count": 1,
      "outputs": []
    },
    {
      "cell_type": "markdown",
      "source": [
        "Data is downloaded in one go from Dropbox for simplicity. \n",
        "Unzipped version available in [main/data-PNet](https://github.com/elisasanzani/Software_and_Computing_Project/tree/main/data-PNet)"
      ],
      "metadata": {
        "id": "k4jHYYysHSVm"
      }
    },
    {
      "cell_type": "code",
      "source": [
        "!wget https://www.dropbox.com/s/ad08fg4c132nzvo/keras_input.zip?dl=0 -O keras_input.zip\n",
        "\n",
        "!unzip keras_input.zip\n",
        "\n",
        "data_folder = \".\""
      ],
      "metadata": {
        "colab": {
          "base_uri": "https://localhost:8080/"
        },
        "id": "b_RHVKIeG3uQ",
        "outputId": "23edb7f7-281f-4c16-9461-db6ea5fb201d"
      },
      "execution_count": 2,
      "outputs": [
        {
          "output_type": "stream",
          "name": "stdout",
          "text": [
            "--2022-08-13 15:51:45--  https://www.dropbox.com/s/ad08fg4c132nzvo/keras_input.zip?dl=0\n",
            "Resolving www.dropbox.com (www.dropbox.com)... 162.125.6.18, 2620:100:601d:18::a27d:512\n",
            "Connecting to www.dropbox.com (www.dropbox.com)|162.125.6.18|:443... connected.\n",
            "HTTP request sent, awaiting response... 301 Moved Permanently\n",
            "Location: /s/raw/ad08fg4c132nzvo/keras_input.zip [following]\n",
            "--2022-08-13 15:51:46--  https://www.dropbox.com/s/raw/ad08fg4c132nzvo/keras_input.zip\n",
            "Reusing existing connection to www.dropbox.com:443.\n",
            "HTTP request sent, awaiting response... 302 Found\n",
            "Location: https://uc9c18ab8b1426f0d22c7996586a.dl.dropboxusercontent.com/cd/0/inline/Bq9SHTcg5O4eLyo12TLz0w5OfWWDO8EtD5_J9OUkFkouKErLFhuH1MBwAosY9r8i3_wWKyV9sxjAdx3ZxSZUVWHg16llerA0NCFLHEUe96wdpCRM9g29eERZug0aSqSQxhA7I0k8cleb_aXL9OCjl-z0HXVmEKQaDQm_zsvYTDYwGQ/file# [following]\n",
            "--2022-08-13 15:51:46--  https://uc9c18ab8b1426f0d22c7996586a.dl.dropboxusercontent.com/cd/0/inline/Bq9SHTcg5O4eLyo12TLz0w5OfWWDO8EtD5_J9OUkFkouKErLFhuH1MBwAosY9r8i3_wWKyV9sxjAdx3ZxSZUVWHg16llerA0NCFLHEUe96wdpCRM9g29eERZug0aSqSQxhA7I0k8cleb_aXL9OCjl-z0HXVmEKQaDQm_zsvYTDYwGQ/file\n",
            "Resolving uc9c18ab8b1426f0d22c7996586a.dl.dropboxusercontent.com (uc9c18ab8b1426f0d22c7996586a.dl.dropboxusercontent.com)... 162.125.6.15, 2620:100:6019:15::a27d:40f\n",
            "Connecting to uc9c18ab8b1426f0d22c7996586a.dl.dropboxusercontent.com (uc9c18ab8b1426f0d22c7996586a.dl.dropboxusercontent.com)|162.125.6.15|:443... connected.\n",
            "HTTP request sent, awaiting response... 302 Found\n",
            "Location: /cd/0/inline2/Bq9FM1MmGDjc6LNp4PADpUn_H1C56WZvcmexSSPovR053P5fXNKzdUMQChmjICoV54lhFcoRpNgJmqeV9JBOkyhiQvpEOI85m3z5r8q7XHjtMQjJjkAUbX3u3Y_jtxD5oCPjmnm2ElVum-ruaXMmSk5OASqxgzQOyUnC0i_63DculxmzjpxU1C4Iz2jIjPWUGr7-lcXs0FHk6jCNKvN-YOtZITDHIbZppiHuE_j7zFIuF4qq1u04FvZirCrizNH97Df7gHuZXpNxjKVXrSU-MsHIyrU189KTQXw7rKtIrUWwQAIgXE4K9Q3_yr7e_t5oEtxRJ0y6k_DilYTfcUVRWIoP3Q9mG7oUiqzHXcJz8AcR-jbbADODva_R_nujHwioXv_OQGXd9TMA-sKJumkkieJSiEM6FTz3FiT3nuPW9WJryA/file [following]\n",
            "--2022-08-13 15:51:46--  https://uc9c18ab8b1426f0d22c7996586a.dl.dropboxusercontent.com/cd/0/inline2/Bq9FM1MmGDjc6LNp4PADpUn_H1C56WZvcmexSSPovR053P5fXNKzdUMQChmjICoV54lhFcoRpNgJmqeV9JBOkyhiQvpEOI85m3z5r8q7XHjtMQjJjkAUbX3u3Y_jtxD5oCPjmnm2ElVum-ruaXMmSk5OASqxgzQOyUnC0i_63DculxmzjpxU1C4Iz2jIjPWUGr7-lcXs0FHk6jCNKvN-YOtZITDHIbZppiHuE_j7zFIuF4qq1u04FvZirCrizNH97Df7gHuZXpNxjKVXrSU-MsHIyrU189KTQXw7rKtIrUWwQAIgXE4K9Q3_yr7e_t5oEtxRJ0y6k_DilYTfcUVRWIoP3Q9mG7oUiqzHXcJz8AcR-jbbADODva_R_nujHwioXv_OQGXd9TMA-sKJumkkieJSiEM6FTz3FiT3nuPW9WJryA/file\n",
            "Reusing existing connection to uc9c18ab8b1426f0d22c7996586a.dl.dropboxusercontent.com:443.\n",
            "HTTP request sent, awaiting response... 200 OK\n",
            "Length: 208745172 (199M) [application/zip]\n",
            "Saving to: ‘keras_input.zip’\n",
            "\n",
            "keras_input.zip     100%[===================>] 199.07M   124MB/s    in 1.6s    \n",
            "\n",
            "2022-08-13 15:51:48 (124 MB/s) - ‘keras_input.zip’ saved [208745172/208745172]\n",
            "\n",
            "Archive:  keras_input.zip\n",
            "warning:  stripped absolute path spec from /\n",
            "mapname:  conversion of  failed\n",
            " extracting: mnbs_et.npy             \n",
            " extracting: mnbs_xy.npy             \n",
            " extracting: mnbs_mask.npy           \n",
            " extracting: mnbs_rphi.npy           \n",
            " extracting: mnbs_etrn.npy           \n",
            " extracting: signal_xy.npy           \n",
            " extracting: signal_et.npy           \n",
            " extracting: cosmics_xy.npy          \n",
            " extracting: cosmics_et.npy          \n",
            " extracting: signal_rphi.npy         \n",
            " extracting: signal_etrn.npy         \n",
            " extracting: signal_mask.npy         \n",
            " extracting: cosmics_rphi.npy        \n",
            " extracting: cosmics_mask.npy        \n",
            " extracting: cosmics_etrn.npy        \n"
          ]
        }
      ]
    },
    {
      "cell_type": "markdown",
      "source": [
        "The three datasets are saved as dictionaries with 4 components:\n",
        "<u1 type=\"circle\">\n",
        "<li>\"points\": Point Cloud (xy coordinates of each hit of a cluster) - 50 maximum hits </li>\n",
        "<li>\"features\": Energy and Time of each hit of a cluster - 50 maximum hits</li>\n",
        "<li>\"mask\": Mask to distinguish real hits (filled with 1, the others are filled with 0) in a cluster</li>\n",
        "<li>\"summary\": Energy, Time, Centroid Radius, and Number of active cells for a cluster</li>\n",
        "<br>\n",
        "The MC data has been filtered with ROOT\n",
        "using two pre-selection cuts:\n",
        "E > 50 MeV  &&  R > 480 mm <br>\n",
        "The cuts are necessary because in the low-energy and low-radius region the \n",
        "background due to the beam is too high\n"
      ],
      "metadata": {
        "id": "mZmezFRRIyC7"
      }
    },
    {
      "cell_type": "code",
      "source": [
        "name_map = {\"points\": \"xy\", \"features\": \"et\", \"mask\": \"mask\", \"summary\": \"etrn\"}\n",
        "\n",
        "signal  = {key: np.load(f\"{data_folder}/signal_{ name_map[key]}.npy\") for key in name_map}\n",
        "\n",
        "mnbs    = {key: np.load(f\"{data_folder}/mnbs_{   name_map[key]}.npy\") for key in name_map}\n",
        "\n",
        "cosmics = {key: np.load(f\"{data_folder}/cosmics_{name_map[key]}.npy\") for key in name_map}"
      ],
      "metadata": {
        "id": "PoBFuNxFIPd-"
      },
      "execution_count": 3,
      "outputs": []
    },
    {
      "cell_type": "markdown",
      "source": [
        "# Data Visualization\n",
        "Hits on the calorimeter for N = 10 random events per each event type are shown"
      ],
      "metadata": {
        "id": "bsCqUqleJy6G"
      }
    },
    {
      "cell_type": "code",
      "source": [
        "channels = [signal, mnbs, cosmics]\n",
        "ch_names = [\"signal\", \"min-bias\", \"cosmic\"]\n",
        "\n",
        "cmap = plt.get_cmap('viridis', 20)\n",
        "cmap.set_under('white')\n",
        "\n",
        "N = 10\n",
        "\n",
        "for ch, name in zip(channels, ch_names):\n",
        "  evs = np.random.randint(0, high=len(ch[\"points\"]), size=N, dtype=int)\n",
        "  print(len(evs))\n",
        "  plt.figure(figsize=(15, 10), dpi=60)\n",
        "  plt.scatter(cosmics[\"points\"][:, :, 0], cosmics[\"points\"][:, :, 1], marker=\"s\", s=80, color=\"lightgrey\")\n",
        "  arr_xy = ch[\"points\"][evs]\n",
        "  x, y = arr_xy[:, :, 0], arr_xy[:, :, 1]\n",
        "  e = ch[\"features\"][evs][:, :, 0]\n",
        "  plt.scatter(x, y, c=e, cmap=cmap, vmin=1, marker=\"s\", s=80)\n",
        "  plt.title(f\"{N} random clusters from {name} events\", fontsize=22)\n",
        "  plt.xlabel(\"X [mm]\", fontsize=22)\n",
        "  plt.ylabel(\"Y [mm]\", fontsize=22)\n",
        "  plt.xticks(fontsize=22)\n",
        "  plt.yticks(fontsize=22)\n",
        "  clb = plt.colorbar()\n",
        "  clb.ax.set_title('Energy [MeV]',fontsize=22)\n",
        "  clb.ax.tick_params(labelsize=22)\n",
        "  plt.show()"
      ],
      "metadata": {
        "colab": {
          "base_uri": "https://localhost:8080/",
          "height": 1000
        },
        "id": "5urXL2LZKO1U",
        "outputId": "6d961d81-8c33-45e7-a5e2-84e973d456fa"
      },
      "execution_count": 4,
      "outputs": [
        {
          "output_type": "stream",
          "name": "stdout",
          "text": [
            "10\n"
          ]
        },
        {
          "output_type": "display_data",
          "data": {
            "text/plain": [
              "<Figure size 900x600 with 2 Axes>"
            ],
            "image/png": "[encoded data removed]"
          },
          "metadata": {
            "needs_background": "light"
          }
        },
        {
          "output_type": "stream",
          "name": "stdout",
          "text": [
            "10\n"
          ]
        },
        {
          "output_type": "display_data",
          "data": {
            "text/plain": [
              "<Figure size 900x600 with 2 Axes>"
            ],
            "image/png": "[encoded data removed]"
          },
          "metadata": {
            "needs_background": "light"
          }
        },
        {
          "output_type": "stream",
          "name": "stdout",
          "text": [
            "10\n"
          ]
        },
        {
          "output_type": "display_data",
          "data": {
            "text/plain": [
              "<Figure size 900x600 with 2 Axes>"
            ],
            "image/png": "[encoded data removed]"
          },
          "metadata": {
            "needs_background": "light"
          }
        }
      ]
    },
    {
      "cell_type": "markdown",
      "source": [
        "# Training\n",
        "The MC samples are weighted to match the expected ratios in one Mu2e injection cycle (1.333 s). \n",
        "\n",
        "\n",
        "Real expected cluster on upstream disk in one injection cycle:<br>\n",
        "RMC: 330 <br>\n",
        "MNBS: 1.3M <br>\n",
        "cosmics: 4 <br> <br>\n",
        "\n",
        "MC cluster on upstream disk:<br>\n",
        "RMC: 150k<br>\n",
        "MNBS: 1.05M<br>\n",
        "cosmics: 53k\n",
        "\n",
        "\n"
      ],
      "metadata": {
        "id": "B2dh0-3CZ58D"
      }
    },
    {
      "cell_type": "code",
      "source": [
        "signal_weight = 330/150e3 * 100\n",
        "mnbs_weight = 0.24 * 100\n",
        "cosmics_weight = 4/53e3 * 100"
      ],
      "metadata": {
        "id": "o3Y3bYYxKh4S"
      },
      "execution_count": 5,
      "outputs": []
    },
    {
      "cell_type": "markdown",
      "source": [
        "The samples are merged into a unique dataset, which is then shuffled, saving also labels and weights\n"
      ],
      "metadata": {
        "id": "O_iGVIMplvJI"
      }
    },
    {
      "cell_type": "code",
      "source": [
        "S =  signal[\"mask\"].shape[0] \n",
        "F =    mnbs[\"mask\"].shape[0] \n",
        "C = cosmics[\"mask\"].shape[0]\n",
        "\n",
        "N = S + F + C\n",
        "\n",
        "p = np.random.permutation(N) "
      ],
      "metadata": {
        "id": "WfOLGgislrte"
      },
      "execution_count": 6,
      "outputs": []
    },
    {
      "cell_type": "code",
      "source": [
        "data = {key: np.concatenate( (signal[key], mnbs[key], cosmics[key]) )[p] for key in name_map}\n",
        "\n",
        "label_list = [1, 0, 0]\n",
        "entries_list = [S, F, C]\n",
        "weight_list = [signal_weight, mnbs_weight, cosmics_weight]\n",
        "\n",
        "print(f\"- Entries for signal, mnbs and cosmics:{entries_list}\")\n",
        "print(f\"- Weigths for signal, mnbs and cosmics:{weight_list}\")\n",
        "\n",
        "label = np.concatenate( \n",
        "    [ np.ones((e))*l for e, l in zip(entries_list,  label_list) ]\n",
        ")[p]\n",
        "\n",
        "sample_weight = np.concatenate( \n",
        "    [ np.ones((e))*w for e, w in zip(entries_list, weight_list) ]\n",
        ")[p]\n"
      ],
      "metadata": {
        "colab": {
          "base_uri": "https://localhost:8080/"
        },
        "id": "gKB57M30l2eD",
        "outputId": "16ca07d0-a48f-42fd-c205-58b0f77196ef"
      },
      "execution_count": 7,
      "outputs": [
        {
          "output_type": "stream",
          "name": "stdout",
          "text": [
            "- Entries for signal, mnbs and cosmics:[41372, 1132, 41598]\n",
            "- Weigths for signal, mnbs and cosmics:[0.22, 24.0, 0.007547169811320755]\n"
          ]
        }
      ]
    },
    {
      "cell_type": "markdown",
      "source": [
        "Data is normalized to help the training"
      ],
      "metadata": {
        "id": "cyci22mbmglv"
      }
    },
    {
      "cell_type": "code",
      "source": [
        "from sklearn.preprocessing import StandardScaler\n",
        "import copy\n",
        "scaler = StandardScaler()\n",
        "\n",
        "virgin_data = copy.deepcopy(data)\n",
        "\n",
        "for key in [\"points\", \"features\"]:\n",
        "  data[key][data[\"mask\"].reshape(N, 50)] = scaler.fit_transform(data[key][data[\"mask\"].reshape(N, 50)])\n",
        "\n",
        "data[\"summary\"] = scaler.fit_transform(data[\"summary\"])"
      ],
      "metadata": {
        "id": "ok4VwPS7mbGC"
      },
      "execution_count": 8,
      "outputs": []
    },
    {
      "cell_type": "markdown",
      "source": [
        "The dataset is divided in training, test and validation with a ratio 7:2:1"
      ],
      "metadata": {
        "id": "KCMYU5ykmwY2"
      }
    },
    {
      "cell_type": "code",
      "source": [
        "train_data  = {key: data[key][int(N*0.0) : int(N*0.7)] for key in name_map}\n",
        "test_data   = {key: data[key][int(N*0.7) : int(N*0.9)] for key in name_map}\n",
        "val_data    = {key: data[key][int(N*0.9) : int(N*1.0)] for key in name_map}\n",
        "\n",
        "train_label = label[int(N*0.0) : int(N*0.7)]\n",
        "test_label  = label[int(N*0.7) : int(N*0.9)]\n",
        "val_label   = label[int(N*0.9) : int(N*1.0)]\n",
        "\n",
        "train_weight = sample_weight[int(N*0.0) : int(N*0.7)]\n",
        "test_weight  = sample_weight[int(N*0.7) : int(N*0.9)]\n",
        "val_weight   = sample_weight[int(N*0.9) : int(N*1.0)]"
      ],
      "metadata": {
        "id": "DHfxelTFmpO8"
      },
      "execution_count": 9,
      "outputs": []
    },
    {
      "cell_type": "markdown",
      "source": [
        "The custom model is imported from the GitHub repo (working on it)"
      ],
      "metadata": {
        "id": "mELi2kJrnOYs"
      }
    },
    {
      "cell_type": "code",
      "source": [
        "!wget https://raw.githubusercontent.com/elisasanzani/Software_and_Computing_Project/main/tf_keras_model.py -O tf_keras_model.py\n",
        "\n",
        "import tensorflow as tf\n",
        "from tensorflow import keras\n",
        "from tf_keras_model import get_particle_net_lite_custom"
      ],
      "metadata": {
        "colab": {
          "base_uri": "https://localhost:8080/"
        },
        "id": "g9C55js5nEqo",
        "outputId": "f4ffe613-1511-4ea2-b283-cb3d043cca6f"
      },
      "execution_count": 10,
      "outputs": [
        {
          "output_type": "stream",
          "name": "stdout",
          "text": [
            "--2022-08-13 15:52:09--  https://raw.githubusercontent.com/elisasanzani/Software_and_Computing_Project/main/tf_keras_model.py\n",
            "Resolving raw.githubusercontent.com (raw.githubusercontent.com)... 185.199.108.133, 185.199.109.133, 185.199.110.133, ...\n",
            "Connecting to raw.githubusercontent.com (raw.githubusercontent.com)|185.199.108.133|:443... connected.\n",
            "HTTP request sent, awaiting response... 200 OK\n",
            "Length: 8743 (8.5K) [text/plain]\n",
            "Saving to: ‘tf_keras_model.py’\n",
            "\n",
            "\rtf_keras_model.py     0%[                    ]       0  --.-KB/s               \rtf_keras_model.py   100%[===================>]   8.54K  --.-KB/s    in 0s      \n",
            "\n",
            "2022-08-13 15:52:09 (80.9 MB/s) - ‘tf_keras_model.py’ saved [8743/8743]\n",
            "\n"
          ]
        }
      ]
    },
    {
      "cell_type": "code",
      "source": [
        "input_shapes = {'points': (50, 2), 'features': (50, 2), 'mask':(50, 1)}\n",
        "\n",
        "model = get_particle_net_lite_custom(input_shapes)"
      ],
      "metadata": {
        "id": "9STunRi1f3Zd"
      },
      "execution_count": 11,
      "outputs": []
    },
    {
      "cell_type": "code",
      "source": [
        "# Training parameters\n",
        "\n",
        "batch_size = 1024\n",
        "epochs = 30"
      ],
      "metadata": {
        "id": "WaBntnAbjrsm"
      },
      "execution_count": 12,
      "outputs": []
    },
    {
      "cell_type": "markdown",
      "source": [
        "Learning rate is exponentially decreased by a factor 0.1 every the epochs, for a maximum of 30 epochs.<br>\n"
      ],
      "metadata": {
        "id": "KbPHs58rjwcu"
      }
    },
    {
      "cell_type": "code",
      "source": [
        "def lr_schedule(epoch):\n",
        "    lr = 1e-2\n",
        "    if epoch > 10:\n",
        "        lr *= 0.1\n",
        "    elif epoch > 20:\n",
        "        lr *= 0.01\n",
        "    logging.info('Learning rate: %f'%lr)\n",
        "    return lr"
      ],
      "metadata": {
        "id": "nbIKYKYKlA2Z"
      },
      "execution_count": 13,
      "outputs": []
    },
    {
      "cell_type": "code",
      "source": [
        "model.compile(loss='binary_crossentropy',\n",
        "              optimizer=keras.optimizers.Adam(learning_rate=lr_schedule(0)),\n",
        "              weighted_metrics=[keras.metrics.AUC(curve=\"PR\")],\n",
        ")\n",
        "model.summary()"
      ],
      "metadata": {
        "colab": {
          "base_uri": "https://localhost:8080/"
        },
        "id": "K0A4UkoXtCCQ",
        "outputId": "7fcce13b-acdd-439a-b5c1-d174d6999696"
      },
      "execution_count": 14,
      "outputs": [
        {
          "output_type": "stream",
          "name": "stdout",
          "text": [
            "Model: \"ParticleNet\"\n",
            "__________________________________________________________________________________________________\n",
            " Layer (type)                   Output Shape         Param #     Connected to                     \n",
            "==================================================================================================\n",
            " mask (InputLayer)              [(None, 50, 1)]      0           []                               \n",
            "                                                                                                  \n",
            " tf.math.not_equal (TFOpLambda)  (None, 50, 1)       0           ['mask[0][0]']                   \n",
            "                                                                                                  \n",
            " tf.cast (TFOpLambda)           (None, 50, 1)        0           ['tf.math.not_equal[0][0]']      \n",
            "                                                                                                  \n",
            " tf.math.equal (TFOpLambda)     (None, 50, 1)        0           ['tf.cast[0][0]']                \n",
            "                                                                                                  \n",
            " tf.cast_1 (TFOpLambda)         (None, 50, 1)        0           ['tf.math.equal[0][0]']          \n",
            "                                                                                                  \n",
            " tf.math.multiply (TFOpLambda)  (None, 50, 1)        0           ['tf.cast_1[0][0]']              \n",
            "                                                                                                  \n",
            " points (InputLayer)            [(None, 50, 2)]      0           []                               \n",
            "                                                                                                  \n",
            " tf.math.add (TFOpLambda)       (None, 50, 2)        0           ['tf.math.multiply[0][0]',       \n",
            "                                                                  'points[0][0]']                 \n",
            "                                                                                                  \n",
            " features (InputLayer)          [(None, 50, 2)]      0           []                               \n",
            "                                                                                                  \n",
            " tf.compat.v1.transpose (TFOpLa  (None, 2, 50)       0           ['tf.math.add[0][0]']            \n",
            " mbda)                                                                                            \n",
            "                                                                                                  \n",
            " tf.expand_dims (TFOpLambda)    (None, 50, 1, 2)     0           ['features[0][0]']               \n",
            "                                                                                                  \n",
            " tf.math.multiply_1 (TFOpLambda  (None, 50, 2)       0           ['tf.math.add[0][0]',            \n",
            " )                                                                'tf.math.add[0][0]']            \n",
            "                                                                                                  \n",
            " tf.linalg.matmul (TFOpLambda)  (None, 50, 50)       0           ['tf.math.add[0][0]',            \n",
            "                                                                  'tf.compat.v1.transpose[0][0]'] \n",
            "                                                                                                  \n",
            " tf.math.multiply_2 (TFOpLambda  (None, 50, 2)       0           ['tf.math.add[0][0]',            \n",
            " )                                                                'tf.math.add[0][0]']            \n",
            "                                                                                                  \n",
            " ParticleNet_fts_bn (BatchNorma  (None, 50, 1, 2)    8           ['tf.expand_dims[0][0]']         \n",
            " lization)                                                                                        \n",
            "                                                                                                  \n",
            " tf.math.reduce_sum (TFOpLambda  (None, 50, 1)       0           ['tf.math.multiply_1[0][0]']     \n",
            " )                                                                                                \n",
            "                                                                                                  \n",
            " tf.math.multiply_3 (TFOpLambda  (None, 50, 50)      0           ['tf.linalg.matmul[0][0]']       \n",
            " )                                                                                                \n",
            "                                                                                                  \n",
            " tf.math.reduce_sum_1 (TFOpLamb  (None, 50, 1)       0           ['tf.math.multiply_2[0][0]']     \n",
            " da)                                                                                              \n",
            "                                                                                                  \n",
            " tf.compat.v1.squeeze (TFOpLamb  (None, 50, 2)       0           ['ParticleNet_fts_bn[0][0]']     \n",
            " da)                                                                                              \n",
            "                                                                                                  \n",
            " tf.math.subtract (TFOpLambda)  (None, 50, 50)       0           ['tf.math.reduce_sum[0][0]',     \n",
            "                                                                  'tf.math.multiply_3[0][0]']     \n",
            "                                                                                                  \n",
            " tf.compat.v1.transpose_1 (TFOp  (None, 1, 50)       0           ['tf.math.reduce_sum_1[0][0]']   \n",
            " Lambda)                                                                                          \n",
            "                                                                                                  \n",
            " tf.compat.v1.shape (TFOpLambda  (3,)                0           ['tf.compat.v1.squeeze[0][0]']   \n",
            " )                                                                                                \n",
            "                                                                                                  \n",
            " tf.__operators__.add (TFOpLamb  (None, 50, 50)      0           ['tf.math.subtract[0][0]',       \n",
            " da)                                                              'tf.compat.v1.transpose_1[0][0]'\n",
            "                                                                 ]                                \n",
            "                                                                                                  \n",
            " tf.__operators__.getitem_1 (Sl  ()                  0           ['tf.compat.v1.shape[0][0]']     \n",
            " icingOpLambda)                                                                                   \n",
            "                                                                                                  \n",
            " tf.math.negative (TFOpLambda)  (None, 50, 50)       0           ['tf.__operators__.add[0][0]']   \n",
            "                                                                                                  \n",
            " tf.range (TFOpLambda)          (None,)              0           ['tf.__operators__.getitem_1[0][0\n",
            "                                                                 ]']                              \n",
            "                                                                                                  \n",
            " tf.math.top_k (TFOpLambda)     TopKV2(values=(None  0           ['tf.math.negative[0][0]']       \n",
            "                                , 50, 4),                                                         \n",
            "                                 indices=(None, 50,                                               \n",
            "                                 4))                                                              \n",
            "                                                                                                  \n",
            " tf.reshape (TFOpLambda)        (None, 1, 1, 1)      0           ['tf.range[0][0]']               \n",
            "                                                                                                  \n",
            " tf.__operators__.getitem (Slic  (None, 50, 3)       0           ['tf.math.top_k[0][1]']          \n",
            " ingOpLambda)                                                                                     \n",
            "                                                                                                  \n",
            " tf.tile (TFOpLambda)           (None, 50, 3, 1)     0           ['tf.reshape[0][0]']             \n",
            "                                                                                                  \n",
            " tf.expand_dims_1 (TFOpLambda)  (None, 50, 3, 1)     0           ['tf.__operators__.getitem[0][0]'\n",
            "                                                                 ]                                \n",
            "                                                                                                  \n",
            " tf.expand_dims_2 (TFOpLambda)  (None, 50, 1, 2)     0           ['tf.compat.v1.squeeze[0][0]']   \n",
            "                                                                                                  \n",
            " tf.concat (TFOpLambda)         (None, 50, 3, 2)     0           ['tf.tile[0][0]',                \n",
            "                                                                  'tf.expand_dims_1[0][0]']       \n",
            "                                                                                                  \n",
            " tf.tile_1 (TFOpLambda)         (None, 50, 3, 2)     0           ['tf.expand_dims_2[0][0]']       \n",
            "                                                                                                  \n",
            " tf.compat.v1.gather_nd (TFOpLa  (None, 50, 3, 2)    0           ['tf.compat.v1.squeeze[0][0]',   \n",
            " mbda)                                                            'tf.concat[0][0]']              \n",
            "                                                                                                  \n",
            " tf.math.subtract_1 (TFOpLambda  (None, 50, 3, 2)    0           ['tf.compat.v1.gather_nd[0][0]', \n",
            " )                                                                'tf.tile_1[0][0]']              \n",
            "                                                                                                  \n",
            " tf.concat_1 (TFOpLambda)       (None, 50, 3, 4)     0           ['tf.tile_1[0][0]',              \n",
            "                                                                  'tf.math.subtract_1[0][0]']     \n",
            "                                                                                                  \n",
            " ParticleNet_EdgeConv0_conv0 (C  (None, 50, 3, 16)   64          ['tf.concat_1[0][0]']            \n",
            " onv2D)                                                                                           \n",
            "                                                                                                  \n",
            " ParticleNet_EdgeConv0_bn0 (Bat  (None, 50, 3, 16)   64          ['ParticleNet_EdgeConv0_conv0[0][\n",
            " chNormalization)                                                0]']                             \n",
            "                                                                                                  \n",
            " ParticleNet_EdgeConv0_act0 (Ac  (None, 50, 3, 16)   0           ['ParticleNet_EdgeConv0_bn0[0][0]\n",
            " tivation)                                                       ']                               \n",
            "                                                                                                  \n",
            " ParticleNet_EdgeConv0_conv1 (C  (None, 50, 3, 16)   256         ['ParticleNet_EdgeConv0_act0[0][0\n",
            " onv2D)                                                          ]']                              \n",
            "                                                                                                  \n",
            " ParticleNet_EdgeConv0_bn1 (Bat  (None, 50, 3, 16)   64          ['ParticleNet_EdgeConv0_conv1[0][\n",
            " chNormalization)                                                0]']                             \n",
            "                                                                                                  \n",
            " ParticleNet_EdgeConv0_act1 (Ac  (None, 50, 3, 16)   0           ['ParticleNet_EdgeConv0_bn1[0][0]\n",
            " tivation)                                                       ']                               \n",
            "                                                                                                  \n",
            " tf.expand_dims_3 (TFOpLambda)  (None, 50, 1, 2)     0           ['tf.compat.v1.squeeze[0][0]']   \n",
            "                                                                                                  \n",
            " ParticleNet_EdgeConv0_conv2 (C  (None, 50, 3, 16)   256         ['ParticleNet_EdgeConv0_act1[0][0\n",
            " onv2D)                                                          ]']                              \n",
            "                                                                                                  \n",
            " ParticleNet_EdgeConv0_sc_conv   (None, 50, 1, 16)   32          ['tf.expand_dims_3[0][0]']       \n",
            " (Conv2D)                                                                                         \n",
            "                                                                                                  \n",
            " ParticleNet_EdgeConv0_bn2 (Bat  (None, 50, 3, 16)   64          ['ParticleNet_EdgeConv0_conv2[0][\n",
            " chNormalization)                                                0]']                             \n",
            "                                                                                                  \n",
            " ParticleNet_EdgeConv0_sc_bn (B  (None, 50, 1, 16)   64          ['ParticleNet_EdgeConv0_sc_conv[0\n",
            " atchNormalization)                                              ][0]']                           \n",
            "                                                                                                  \n",
            " ParticleNet_EdgeConv0_act2 (Ac  (None, 50, 3, 16)   0           ['ParticleNet_EdgeConv0_bn2[0][0]\n",
            " tivation)                                                       ']                               \n",
            "                                                                                                  \n",
            " tf.compat.v1.squeeze_1 (TFOpLa  (None, 50, 16)      0           ['ParticleNet_EdgeConv0_sc_bn[0][\n",
            " mbda)                                                           0]']                             \n",
            "                                                                                                  \n",
            " tf.math.reduce_max (TFOpLambda  (None, 50, 16)      0           ['ParticleNet_EdgeConv0_act2[0][0\n",
            " )                                                               ]']                              \n",
            "                                                                                                  \n",
            " tf.__operators__.add_1 (TFOpLa  (None, 50, 16)      0           ['tf.compat.v1.squeeze_1[0][0]', \n",
            " mbda)                                                            'tf.math.reduce_max[0][0]']     \n",
            "                                                                                                  \n",
            " ParticleNet_EdgeConv0_sc_act (  (None, 50, 16)      0           ['tf.__operators__.add_1[0][0]'] \n",
            " Activation)                                                                                      \n",
            "                                                                                                  \n",
            " tf.math.add_1 (TFOpLambda)     (None, 50, 16)       0           ['tf.math.multiply[0][0]',       \n",
            "                                                                  'ParticleNet_EdgeConv0_sc_act[0]\n",
            "                                                                 [0]']                            \n",
            "                                                                                                  \n",
            " tf.compat.v1.transpose_2 (TFOp  (None, 16, 50)      0           ['tf.math.add_1[0][0]']          \n",
            " Lambda)                                                                                          \n",
            "                                                                                                  \n",
            " tf.math.multiply_4 (TFOpLambda  (None, 50, 16)      0           ['tf.math.add_1[0][0]',          \n",
            " )                                                                'tf.math.add_1[0][0]']          \n",
            "                                                                                                  \n",
            " tf.linalg.matmul_1 (TFOpLambda  (None, 50, 50)      0           ['tf.math.add_1[0][0]',          \n",
            " )                                                                'tf.compat.v1.transpose_2[0][0]'\n",
            "                                                                 ]                                \n",
            "                                                                                                  \n",
            " tf.math.multiply_5 (TFOpLambda  (None, 50, 16)      0           ['tf.math.add_1[0][0]',          \n",
            " )                                                                'tf.math.add_1[0][0]']          \n",
            "                                                                                                  \n",
            " tf.math.reduce_sum_2 (TFOpLamb  (None, 50, 1)       0           ['tf.math.multiply_4[0][0]']     \n",
            " da)                                                                                              \n",
            "                                                                                                  \n",
            " tf.math.multiply_6 (TFOpLambda  (None, 50, 50)      0           ['tf.linalg.matmul_1[0][0]']     \n",
            " )                                                                                                \n",
            "                                                                                                  \n",
            " tf.math.reduce_sum_3 (TFOpLamb  (None, 50, 1)       0           ['tf.math.multiply_5[0][0]']     \n",
            " da)                                                                                              \n",
            "                                                                                                  \n",
            " tf.math.subtract_2 (TFOpLambda  (None, 50, 50)      0           ['tf.math.reduce_sum_2[0][0]',   \n",
            " )                                                                'tf.math.multiply_6[0][0]']     \n",
            "                                                                                                  \n",
            " tf.compat.v1.transpose_3 (TFOp  (None, 1, 50)       0           ['tf.math.reduce_sum_3[0][0]']   \n",
            " Lambda)                                                                                          \n",
            "                                                                                                  \n",
            " tf.compat.v1.shape_1 (TFOpLamb  (3,)                0           ['ParticleNet_EdgeConv0_sc_act[0]\n",
            " da)                                                             [0]']                            \n",
            "                                                                                                  \n",
            " tf.__operators__.add_2 (TFOpLa  (None, 50, 50)      0           ['tf.math.subtract_2[0][0]',     \n",
            " mbda)                                                            'tf.compat.v1.transpose_3[0][0]'\n",
            "                                                                 ]                                \n",
            "                                                                                                  \n",
            " tf.__operators__.getitem_3 (Sl  ()                  0           ['tf.compat.v1.shape_1[0][0]']   \n",
            " icingOpLambda)                                                                                   \n",
            "                                                                                                  \n",
            " tf.math.negative_1 (TFOpLambda  (None, 50, 50)      0           ['tf.__operators__.add_2[0][0]'] \n",
            " )                                                                                                \n",
            "                                                                                                  \n",
            " tf.range_1 (TFOpLambda)        (None,)              0           ['tf.__operators__.getitem_3[0][0\n",
            "                                                                 ]']                              \n",
            "                                                                                                  \n",
            " tf.math.top_k_1 (TFOpLambda)   TopKV2(values=(None  0           ['tf.math.negative_1[0][0]']     \n",
            "                                , 50, 4),                                                         \n",
            "                                 indices=(None, 50,                                               \n",
            "                                 4))                                                              \n",
            "                                                                                                  \n",
            " tf.reshape_1 (TFOpLambda)      (None, 1, 1, 1)      0           ['tf.range_1[0][0]']             \n",
            "                                                                                                  \n",
            " tf.__operators__.getitem_2 (Sl  (None, 50, 3)       0           ['tf.math.top_k_1[0][1]']        \n",
            " icingOpLambda)                                                                                   \n",
            "                                                                                                  \n",
            " tf.tile_2 (TFOpLambda)         (None, 50, 3, 1)     0           ['tf.reshape_1[0][0]']           \n",
            "                                                                                                  \n",
            " tf.expand_dims_4 (TFOpLambda)  (None, 50, 3, 1)     0           ['tf.__operators__.getitem_2[0][0\n",
            "                                                                 ]']                              \n",
            "                                                                                                  \n",
            " tf.expand_dims_5 (TFOpLambda)  (None, 50, 1, 16)    0           ['ParticleNet_EdgeConv0_sc_act[0]\n",
            "                                                                 [0]']                            \n",
            "                                                                                                  \n",
            " tf.concat_2 (TFOpLambda)       (None, 50, 3, 2)     0           ['tf.tile_2[0][0]',              \n",
            "                                                                  'tf.expand_dims_4[0][0]']       \n",
            "                                                                                                  \n",
            " tf.tile_3 (TFOpLambda)         (None, 50, 3, 16)    0           ['tf.expand_dims_5[0][0]']       \n",
            "                                                                                                  \n",
            " tf.compat.v1.gather_nd_1 (TFOp  (None, 50, 3, 16)   0           ['ParticleNet_EdgeConv0_sc_act[0]\n",
            " Lambda)                                                         [0]',                            \n",
            "                                                                  'tf.concat_2[0][0]']            \n",
            "                                                                                                  \n",
            " tf.math.subtract_3 (TFOpLambda  (None, 50, 3, 16)   0           ['tf.compat.v1.gather_nd_1[0][0]'\n",
            " )                                                               , 'tf.tile_3[0][0]']             \n",
            "                                                                                                  \n",
            " tf.concat_3 (TFOpLambda)       (None, 50, 3, 32)    0           ['tf.tile_3[0][0]',              \n",
            "                                                                  'tf.math.subtract_3[0][0]']     \n",
            "                                                                                                  \n",
            " ParticleNet_EdgeConv1_conv0 (C  (None, 50, 3, 32)   1024        ['tf.concat_3[0][0]']            \n",
            " onv2D)                                                                                           \n",
            "                                                                                                  \n",
            " ParticleNet_EdgeConv1_bn0 (Bat  (None, 50, 3, 32)   128         ['ParticleNet_EdgeConv1_conv0[0][\n",
            " chNormalization)                                                0]']                             \n",
            "                                                                                                  \n",
            " ParticleNet_EdgeConv1_act0 (Ac  (None, 50, 3, 32)   0           ['ParticleNet_EdgeConv1_bn0[0][0]\n",
            " tivation)                                                       ']                               \n",
            "                                                                                                  \n",
            " ParticleNet_EdgeConv1_conv1 (C  (None, 50, 3, 32)   1024        ['ParticleNet_EdgeConv1_act0[0][0\n",
            " onv2D)                                                          ]']                              \n",
            "                                                                                                  \n",
            " ParticleNet_EdgeConv1_bn1 (Bat  (None, 50, 3, 32)   128         ['ParticleNet_EdgeConv1_conv1[0][\n",
            " chNormalization)                                                0]']                             \n",
            "                                                                                                  \n",
            " ParticleNet_EdgeConv1_act1 (Ac  (None, 50, 3, 32)   0           ['ParticleNet_EdgeConv1_bn1[0][0]\n",
            " tivation)                                                       ']                               \n",
            "                                                                                                  \n",
            " tf.expand_dims_6 (TFOpLambda)  (None, 50, 1, 16)    0           ['ParticleNet_EdgeConv0_sc_act[0]\n",
            "                                                                 [0]']                            \n",
            "                                                                                                  \n",
            " ParticleNet_EdgeConv1_conv2 (C  (None, 50, 3, 32)   1024        ['ParticleNet_EdgeConv1_act1[0][0\n",
            " onv2D)                                                          ]']                              \n",
            "                                                                                                  \n",
            " ParticleNet_EdgeConv1_sc_conv   (None, 50, 1, 32)   512         ['tf.expand_dims_6[0][0]']       \n",
            " (Conv2D)                                                                                         \n",
            "                                                                                                  \n",
            " ParticleNet_EdgeConv1_bn2 (Bat  (None, 50, 3, 32)   128         ['ParticleNet_EdgeConv1_conv2[0][\n",
            " chNormalization)                                                0]']                             \n",
            "                                                                                                  \n",
            " ParticleNet_EdgeConv1_sc_bn (B  (None, 50, 1, 32)   128         ['ParticleNet_EdgeConv1_sc_conv[0\n",
            " atchNormalization)                                              ][0]']                           \n",
            "                                                                                                  \n",
            " ParticleNet_EdgeConv1_act2 (Ac  (None, 50, 3, 32)   0           ['ParticleNet_EdgeConv1_bn2[0][0]\n",
            " tivation)                                                       ']                               \n",
            "                                                                                                  \n",
            " tf.compat.v1.squeeze_2 (TFOpLa  (None, 50, 32)      0           ['ParticleNet_EdgeConv1_sc_bn[0][\n",
            " mbda)                                                           0]']                             \n",
            "                                                                                                  \n",
            " tf.math.reduce_max_1 (TFOpLamb  (None, 50, 32)      0           ['ParticleNet_EdgeConv1_act2[0][0\n",
            " da)                                                             ]']                              \n",
            "                                                                                                  \n",
            " tf.__operators__.add_3 (TFOpLa  (None, 50, 32)      0           ['tf.compat.v1.squeeze_2[0][0]', \n",
            " mbda)                                                            'tf.math.reduce_max_1[0][0]']   \n",
            "                                                                                                  \n",
            " ParticleNet_EdgeConv1_sc_act (  (None, 50, 32)      0           ['tf.__operators__.add_3[0][0]'] \n",
            " Activation)                                                                                      \n",
            "                                                                                                  \n",
            " tf.math.multiply_7 (TFOpLambda  (None, 50, 32)      0           ['ParticleNet_EdgeConv1_sc_act[0]\n",
            " )                                                               [0]',                            \n",
            "                                                                  'tf.cast[0][0]']                \n",
            "                                                                                                  \n",
            " tf.math.reduce_mean (TFOpLambd  (None, 32)          0           ['tf.math.multiply_7[0][0]']     \n",
            " a)                                                                                               \n",
            "                                                                                                  \n",
            " summary (InputLayer)           [(None, 4)]          0           []                               \n",
            "                                                                                                  \n",
            " tf.concat_4 (TFOpLambda)       (None, 36)           0           ['tf.math.reduce_mean[0][0]',    \n",
            "                                                                  'summary[0][0]']                \n",
            "                                                                                                  \n",
            " dense (Dense)                  (None, 64)           2368        ['tf.concat_4[0][0]']            \n",
            "                                                                                                  \n",
            " dropout (Dropout)              (None, 64)           0           ['dense[0][0]']                  \n",
            "                                                                                                  \n",
            " dense_1 (Dense)                (None, 1)            65          ['dropout[0][0]']                \n",
            "                                                                                                  \n",
            "==================================================================================================\n",
            "Total params: 7,401\n",
            "Trainable params: 7,013\n",
            "Non-trainable params: 388\n",
            "__________________________________________________________________________________________________\n"
          ]
        }
      ]
    },
    {
      "cell_type": "markdown",
      "source": [
        "Keras checkpoints are employed to save the model with the best validation AURPC"
      ],
      "metadata": {
        "id": "sVei9pOVuJ5n"
      }
    },
    {
      "cell_type": "code",
      "source": [
        "# Prepare model model saving directory.\n",
        "import os\n",
        "\n",
        "save_dir = 'model_checkpoints'\n",
        "model_name = 'lite_model-{val_auc:0.2f}-{epoch:03d}.h5'\n",
        "if not os.path.isdir(save_dir):\n",
        "    os.makedirs(save_dir)\n",
        "filepath = os.path.join(save_dir, model_name)\n",
        "print(filepath)\n",
        "\n",
        "# Prepare callbacks for model saving and for learning rate adjustment.\n",
        "checkpoint = keras.callbacks.ModelCheckpoint(\n",
        "    filepath=filepath,\n",
        "    monitor='val_auc',\n",
        "    verbose=1,\n",
        "    )\n",
        "\n",
        "lr_scheduler = keras.callbacks.LearningRateScheduler(lr_schedule)\n",
        "progress_bar = keras.callbacks.ProgbarLogger()\n",
        "callbacks = [checkpoint, progress_bar, lr_scheduler]"
      ],
      "metadata": {
        "colab": {
          "base_uri": "https://localhost:8080/"
        },
        "id": "7EhAnKNFuBus",
        "outputId": "6df7c312-2310-4980-b224-05054617bd51"
      },
      "execution_count": 15,
      "outputs": [
        {
          "output_type": "stream",
          "name": "stdout",
          "text": [
            "model_checkpoints/lite_model-{val_auc:0.2f}-{epoch:03d}.h5\n"
          ]
        }
      ]
    },
    {
      "cell_type": "markdown",
      "source": [
        "The model is trained, weighting the data to match the real statistics, by means of the sample_weight attribute (for the training). Also the validation set is weighted, in order to select the model with the best performances on the real statistics."
      ],
      "metadata": {
        "id": "FKNVKXbEur8R"
      }
    },
    {
      "cell_type": "code",
      "source": [
        "history = model.fit(\n",
        "    [train_data[\"points\"], train_data[\"features\"], train_data[\"mask\"], train_data[\"summary\"]], \n",
        "    train_label,\n",
        "    batch_size=batch_size,\n",
        "    epochs=epochs,\n",
        "    validation_data=([val_data[\"points\"], val_data[\"features\"], val_data[\"mask\"], val_data[\"summary\"]], val_label, val_weight),\n",
        "    shuffle=True,\n",
        "    sample_weight=train_weight,\n",
        "    callbacks=[callbacks]\n",
        ")"
      ],
      "metadata": {
        "colab": {
          "base_uri": "https://localhost:8080/"
        },
        "id": "cei7GFLjutDj",
        "outputId": "ceb90369-e2a4-4272-9097-71629d8ef2d8"
      },
      "execution_count": 16,
      "outputs": [
        {
          "output_type": "stream",
          "name": "stdout",
          "text": [
            "Epoch 1/30\n",
            "      0/Unknown - 23s 0s/sample - loss: 0.1385 - auc: 0.7847\n",
            "Epoch 1: saving model to model_checkpoints/lite_model-0.84-001.h5\n",
            "58/58 [==============================] - 27s 460ms/sample - loss: 0.1385 - auc: 0.7847 - val_loss: 0.1392 - val_auc: 0.8350\n",
            "Epoch 2/30\n",
            " 0/58 [..............................] - ETA: 0s - loss: 0.0876 - auc: 0.9046\n",
            "Epoch 2: saving model to model_checkpoints/lite_model-0.94-002.h5\n",
            "58/58 [==============================] - 9s 161ms/sample - loss: 0.0876 - auc: 0.9046 - val_loss: 0.1203 - val_auc: 0.9413\n",
            "Epoch 3/30\n",
            " 0/58 [..............................] - ETA: 0s - loss: 0.0773 - auc: 0.9283\n",
            "Epoch 3: saving model to model_checkpoints/lite_model-0.93-003.h5\n",
            "58/58 [==============================] - 9s 162ms/sample - loss: 0.0773 - auc: 0.9283 - val_loss: 0.1134 - val_auc: 0.9280\n",
            "Epoch 4/30\n",
            " 0/58 [..............................] - ETA: 0s - loss: 0.0653 - auc: 0.9489\n",
            "Epoch 4: saving model to model_checkpoints/lite_model-0.96-004.h5\n",
            "58/58 [==============================] - 9s 163ms/sample - loss: 0.0653 - auc: 0.9489 - val_loss: 0.0765 - val_auc: 0.9584\n",
            "Epoch 5/30\n",
            " 0/58 [..............................] - ETA: 0s - loss: 0.0630 - auc: 0.9548\n",
            "Epoch 5: saving model to model_checkpoints/lite_model-0.95-005.h5\n",
            "58/58 [==============================] - 10s 165ms/sample - loss: 0.0630 - auc: 0.9548 - val_loss: 0.0725 - val_auc: 0.9474\n",
            "Epoch 6/30\n",
            " 0/58 [..............................] - ETA: 0s - loss: 0.0723 - auc: 0.9354\n",
            "Epoch 6: saving model to model_checkpoints/lite_model-0.96-006.h5\n",
            "58/58 [==============================] - 10s 165ms/sample - loss: 0.0723 - auc: 0.9354 - val_loss: 0.0745 - val_auc: 0.9586\n",
            "Epoch 7/30\n",
            " 0/58 [..............................] - ETA: 0s - loss: 0.0629 - auc: 0.9536\n",
            "Epoch 7: saving model to model_checkpoints/lite_model-0.98-007.h5\n",
            "58/58 [==============================] - 10s 167ms/sample - loss: 0.0629 - auc: 0.9536 - val_loss: 0.0469 - val_auc: 0.9789\n",
            "Epoch 8/30\n",
            " 0/58 [..............................] - ETA: 0s - loss: 0.0642 - auc: 0.9514\n",
            "Epoch 8: saving model to model_checkpoints/lite_model-0.96-008.h5\n",
            "58/58 [==============================] - 10s 167ms/sample - loss: 0.0642 - auc: 0.9514 - val_loss: 0.0650 - val_auc: 0.9636\n",
            "Epoch 9/30\n",
            " 0/58 [..............................] - ETA: 0s - loss: 0.0568 - auc: 0.9624\n",
            "Epoch 9: saving model to model_checkpoints/lite_model-0.98-009.h5\n",
            "58/58 [==============================] - 10s 167ms/sample - loss: 0.0568 - auc: 0.9624 - val_loss: 0.0390 - val_auc: 0.9816\n",
            "Epoch 10/30\n",
            " 0/58 [..............................] - ETA: 0s - loss: 0.0538 - auc: 0.9658\n",
            "Epoch 10: saving model to model_checkpoints/lite_model-0.98-010.h5\n",
            "58/58 [==============================] - 10s 167ms/sample - loss: 0.0538 - auc: 0.9658 - val_loss: 0.0386 - val_auc: 0.9825\n",
            "Epoch 11/30\n",
            " 0/58 [..............................] - ETA: 0s - loss: 0.0524 - auc: 0.9632\n",
            "Epoch 11: saving model to model_checkpoints/lite_model-0.97-011.h5\n",
            "58/58 [==============================] - 10s 166ms/sample - loss: 0.0524 - auc: 0.9632 - val_loss: 0.0740 - val_auc: 0.9700\n",
            "Epoch 12/30\n",
            " 0/58 [..............................] - ETA: 0s - loss: 0.0473 - auc: 0.9744\n",
            "Epoch 12: saving model to model_checkpoints/lite_model-0.99-012.h5\n",
            "58/58 [==============================] - 10s 166ms/sample - loss: 0.0473 - auc: 0.9744 - val_loss: 0.0331 - val_auc: 0.9869\n",
            "Epoch 13/30\n",
            " 0/58 [..............................] - ETA: 0s - loss: 0.0426 - auc: 0.9785\n",
            "Epoch 13: saving model to model_checkpoints/lite_model-0.99-013.h5\n",
            "58/58 [==============================] - 10s 166ms/sample - loss: 0.0426 - auc: 0.9785 - val_loss: 0.0320 - val_auc: 0.9879\n",
            "Epoch 14/30\n",
            " 0/58 [..............................] - ETA: 0s - loss: 0.0405 - auc: 0.9804\n",
            "Epoch 14: saving model to model_checkpoints/lite_model-0.99-014.h5\n",
            "58/58 [==============================] - 10s 166ms/sample - loss: 0.0405 - auc: 0.9804 - val_loss: 0.0318 - val_auc: 0.9882\n",
            "Epoch 15/30\n",
            " 0/58 [..............................] - ETA: 0s - loss: 0.0395 - auc: 0.9814\n",
            "Epoch 15: saving model to model_checkpoints/lite_model-0.99-015.h5\n",
            "58/58 [==============================] - 10s 165ms/sample - loss: 0.0395 - auc: 0.9814 - val_loss: 0.0304 - val_auc: 0.9890\n",
            "Epoch 16/30\n",
            " 0/58 [..............................] - ETA: 0s - loss: 0.0389 - auc: 0.9814\n",
            "Epoch 16: saving model to model_checkpoints/lite_model-0.99-016.h5\n",
            "58/58 [==============================] - 10s 168ms/sample - loss: 0.0389 - auc: 0.9814 - val_loss: 0.0333 - val_auc: 0.9867\n",
            "Epoch 17/30\n",
            " 0/58 [..............................] - ETA: 0s - loss: 0.0377 - auc: 0.9826\n",
            "Epoch 17: saving model to model_checkpoints/lite_model-0.99-017.h5\n",
            "58/58 [==============================] - 10s 166ms/sample - loss: 0.0377 - auc: 0.9826 - val_loss: 0.0310 - val_auc: 0.9887\n",
            "Epoch 18/30\n",
            " 0/58 [..............................] - ETA: 0s - loss: 0.0397 - auc: 0.9810\n",
            "Epoch 18: saving model to model_checkpoints/lite_model-0.99-018.h5\n",
            "58/58 [==============================] - 10s 167ms/sample - loss: 0.0397 - auc: 0.9810 - val_loss: 0.0331 - val_auc: 0.9883\n",
            "Epoch 19/30\n",
            " 0/58 [..............................] - ETA: 0s - loss: 0.0381 - auc: 0.9823\n",
            "Epoch 19: saving model to model_checkpoints/lite_model-0.99-019.h5\n",
            "58/58 [==============================] - 10s 167ms/sample - loss: 0.0381 - auc: 0.9823 - val_loss: 0.0304 - val_auc: 0.9893\n",
            "Epoch 20/30\n",
            " 0/58 [..............................] - ETA: 0s - loss: 0.0383 - auc: 0.9819\n",
            "Epoch 20: saving model to model_checkpoints/lite_model-0.99-020.h5\n",
            "58/58 [==============================] - 10s 167ms/sample - loss: 0.0383 - auc: 0.9819 - val_loss: 0.0295 - val_auc: 0.9899\n",
            "Epoch 21/30\n",
            " 0/58 [..............................] - ETA: 0s - loss: 0.0376 - auc: 0.9826\n",
            "Epoch 21: saving model to model_checkpoints/lite_model-0.98-021.h5\n",
            "58/58 [==============================] - 10s 167ms/sample - loss: 0.0376 - auc: 0.9826 - val_loss: 0.0352 - val_auc: 0.9847\n",
            "Epoch 22/30\n",
            " 0/58 [..............................] - ETA: 0s - loss: 0.0380 - auc: 0.9822\n",
            "Epoch 22: saving model to model_checkpoints/lite_model-0.99-022.h5\n",
            "58/58 [==============================] - 10s 167ms/sample - loss: 0.0380 - auc: 0.9822 - val_loss: 0.0315 - val_auc: 0.9884\n",
            "Epoch 23/30\n",
            " 0/58 [..............................] - ETA: 0s - loss: 0.0361 - auc: 0.9838\n",
            "Epoch 23: saving model to model_checkpoints/lite_model-0.99-023.h5\n",
            "58/58 [==============================] - 10s 166ms/sample - loss: 0.0361 - auc: 0.9838 - val_loss: 0.0303 - val_auc: 0.9888\n",
            "Epoch 24/30\n",
            " 0/58 [..............................] - ETA: 0s - loss: 0.0357 - auc: 0.9841\n",
            "Epoch 24: saving model to model_checkpoints/lite_model-0.99-024.h5\n",
            "58/58 [==============================] - 10s 166ms/sample - loss: 0.0357 - auc: 0.9841 - val_loss: 0.0304 - val_auc: 0.9884\n",
            "Epoch 25/30\n",
            " 0/58 [..............................] - ETA: 0s - loss: 0.0379 - auc: 0.9823\n",
            "Epoch 25: saving model to model_checkpoints/lite_model-0.99-025.h5\n",
            "58/58 [==============================] - 10s 165ms/sample - loss: 0.0379 - auc: 0.9823 - val_loss: 0.0305 - val_auc: 0.9903\n",
            "Epoch 26/30\n",
            " 0/58 [..............................] - ETA: 0s - loss: 0.0360 - auc: 0.9838\n",
            "Epoch 26: saving model to model_checkpoints/lite_model-0.99-026.h5\n",
            "58/58 [==============================] - 10s 166ms/sample - loss: 0.0360 - auc: 0.9838 - val_loss: 0.0331 - val_auc: 0.9888\n",
            "Epoch 27/30\n",
            " 0/58 [..............................] - ETA: 0s - loss: 0.0355 - auc: 0.9843\n",
            "Epoch 27: saving model to model_checkpoints/lite_model-0.99-027.h5\n",
            "58/58 [==============================] - 10s 167ms/sample - loss: 0.0355 - auc: 0.9843 - val_loss: 0.0294 - val_auc: 0.9892\n",
            "Epoch 28/30\n",
            " 0/58 [..............................] - ETA: 0s - loss: 0.0368 - auc: 0.9831\n",
            "Epoch 28: saving model to model_checkpoints/lite_model-0.99-028.h5\n",
            "58/58 [==============================] - 10s 168ms/sample - loss: 0.0368 - auc: 0.9831 - val_loss: 0.0300 - val_auc: 0.9896\n",
            "Epoch 29/30\n",
            " 0/58 [..............................] - ETA: 0s - loss: 0.0348 - auc: 0.9849\n",
            "Epoch 29: saving model to model_checkpoints/lite_model-0.99-029.h5\n",
            "58/58 [==============================] - 10s 166ms/sample - loss: 0.0348 - auc: 0.9849 - val_loss: 0.0310 - val_auc: 0.9880\n",
            "Epoch 30/30\n",
            " 0/58 [..............................] - ETA: 0s - loss: 0.0357 - auc: 0.9841\n",
            "Epoch 30: saving model to model_checkpoints/lite_model-0.99-030.h5\n",
            "58/58 [==============================] - 10s 166ms/sample - loss: 0.0357 - auc: 0.9841 - val_loss: 0.0278 - val_auc: 0.9900\n"
          ]
        }
      ]
    },
    {
      "cell_type": "code",
      "source": [
        "plt.plot(history.history['loss'], label=\"Train Loss\")\n",
        "plt.plot(history.history['val_loss'], label=\"Validation Loss\")\n",
        "plt.legend()"
      ],
      "metadata": {
        "colab": {
          "base_uri": "https://localhost:8080/",
          "height": 282
        },
        "id": "K91bsTM4uxNJ",
        "outputId": "4653acb8-6bb5-4367-efed-f6d76b7a05aa"
      },
      "execution_count": 17,
      "outputs": [
        {
          "output_type": "execute_result",
          "data": {
            "text/plain": [
              "<matplotlib.legend.Legend at 0x7f6eda193ed0>"
            ]
          },
          "metadata": {},
          "execution_count": 17
        },
        {
          "output_type": "display_data",
          "data": {
            "text/plain": [
              "<Figure size 432x288 with 1 Axes>"
            ],
            "image/png": "[encoded data removed]"
          },
          "metadata": {
            "needs_background": "light"
          }
        }
      ]
    },
    {
      "cell_type": "code",
      "source": [
        "plt.plot(history.history['auc'], label=\"Train AUPRC\")\n",
        "plt.plot(history.history['val_auc'], label=\"Validation AURPC\")\n",
        "plt.legend()"
      ],
      "metadata": {
        "colab": {
          "base_uri": "https://localhost:8080/",
          "height": 286
        },
        "id": "NRlrWmxYHW6h",
        "outputId": "b2507c8e-d5bb-4ae6-deca-5061da9e4459"
      },
      "execution_count": 18,
      "outputs": [
        {
          "output_type": "execute_result",
          "data": {
            "text/plain": [
              "<matplotlib.legend.Legend at 0x7f6eda156f90>"
            ]
          },
          "metadata": {},
          "execution_count": 18
        },
        {
          "output_type": "display_data",
          "data": {
            "text/plain": [
              "<Figure size 432x288 with 1 Axes>"
            ],
            "image/png": "[encoded data removed]"
          },
          "metadata": {
            "needs_background": "light"
          }
        }
      ]
    },
    {
      "cell_type": "markdown",
      "source": [
        ""
      ],
      "metadata": {
        "id": "KOxmCPbuHc1p"
      }
    },
    {
      "cell_type": "code",
      "source": [
        "# Select the model with the best val_auc (save_best_only=True in ModelCheckpoint not working)\n",
        "! ls -1 model_checkpoints/*model*.h5 | sort -n | tail -n 1\n",
        "!cp $(ls -1 model_checkpoints/*model*.h5 | sort -n | tail -n 1) model_checkpoints/last.h5"
      ],
      "metadata": {
        "colab": {
          "base_uri": "https://localhost:8080/"
        },
        "id": "KCdeC-qIHdBT",
        "outputId": "e55e7e26-2b99-41a7-99ee-a7535863d8c0"
      },
      "execution_count": 19,
      "outputs": [
        {
          "output_type": "stream",
          "name": "stdout",
          "text": [
            "model_checkpoints/lite_model-0.99-030.h5\n"
          ]
        }
      ]
    },
    {
      "cell_type": "code",
      "source": [
        "model.load_weights(\"model_checkpoints/last.h5\")"
      ],
      "metadata": {
        "id": "Z8Ngv5qQH8Sx"
      },
      "execution_count": 20,
      "outputs": []
    },
    {
      "cell_type": "code",
      "source": [
        "probs = model.predict_on_batch(test_data)"
      ],
      "metadata": {
        "id": "10gQ4kaRICu7"
      },
      "execution_count": 21,
      "outputs": []
    },
    {
      "cell_type": "code",
      "source": [
        "precision, recall, thresholds = precision_recall_curve(test_label, probs, sample_weight=test_weight)\n",
        "plt.plot(recall, precision)\n",
        "plt.xlabel(\"Recall\")\n",
        "plt.ylabel(\"Precision\")\n",
        "print(\"Area under precision-recall curve: \", auc(recall, precision))"
      ],
      "metadata": {
        "colab": {
          "base_uri": "https://localhost:8080/",
          "height": 296
        },
        "id": "uYECrIy_KECt",
        "outputId": "5f7876f2-6d7e-403e-ab4e-41afedcb8e28"
      },
      "execution_count": 22,
      "outputs": [
        {
          "output_type": "stream",
          "name": "stdout",
          "text": [
            "Area under precision-recall curve:  0.9721390188559736\n"
          ]
        },
        {
          "output_type": "display_data",
          "data": {
            "text/plain": [
              "<Figure size 432x288 with 1 Axes>"
            ],
            "image/png": "[encoded data removed]"
          },
          "metadata": {
            "needs_background": "light"
          }
        }
      ]
    },
    {
      "cell_type": "code",
      "source": [
        "bin = model.predict(test_data)\n",
        "bin_sig = bin[test_label == 1][:, 0]\n",
        "bin_bkg = bin[test_label == 0][:, 0]\n",
        "weight_sig = test_weight[test_label == 1]\n",
        "weight_bkg = test_weight[test_label == 0]\n",
        "\n",
        "test_virgin_data = {key: virgin_data[key][int(N*0.7) : int(N*0.9)] for key in name_map}\n",
        "\n",
        "en = test_virgin_data[\"summary\"][:, 0]\n",
        "en_sig = en[test_label == 1]\n",
        "en_bkg = en[test_label == 0]\n",
        "\n",
        "plt.hist(en_sig, range=(50, 100), bins=50, weights=weight_sig * bin_sig, color=\"blue\")\n",
        "plt.hist(en_bkg, range=(50, 100), bins=50, weights=weight_bkg * bin_bkg, color=\"red\")"
      ],
      "metadata": {
        "colab": {
          "base_uri": "https://localhost:8080/",
          "height": 595
        },
        "id": "3aL-GOTMPP4I",
        "outputId": "54504768-0cd0-4867-c66e-608aa96a67e1"
      },
      "execution_count": 23,
      "outputs": [
        {
          "output_type": "execute_result",
          "data": {
            "text/plain": [
              "(array([2.58380106e+01, 6.17966671e+01, 1.34811200e+01, 8.76022201e+01,\n",
              "        1.38699477e+00, 2.53403014e+01, 1.99086924e+01, 4.90559968e+00,\n",
              "        2.69710537e+00, 6.63678493e+00, 3.98477774e-01, 3.59910186e+00,\n",
              "        4.71019986e-01, 1.62999303e-01, 1.95002572e-01, 1.66265468e-01,\n",
              "        3.89090733e-01, 1.73633358e+01, 1.98462673e-01, 1.70646395e-01,\n",
              "        1.15943428e-01, 1.54553952e-01, 2.27865626e-01, 1.29259638e-01,\n",
              "        1.38433370e-01, 1.84042311e-01, 1.48105282e-01, 1.69599370e+01,\n",
              "        2.28337037e+00, 1.07741723e-01, 1.14043727e-01, 1.03334962e-01,\n",
              "        1.15758104e-01, 2.00178854e+01, 7.88237144e+00, 8.02849651e-02,\n",
              "        5.45344244e-02, 5.00281328e-02, 4.95026335e-02, 6.92700573e-02,\n",
              "        4.80472140e-02, 4.90512946e-02, 3.48639990e-02, 4.66941806e-02,\n",
              "        2.95234611e-02, 4.37173604e-02, 3.98253751e-02, 3.16993679e-02,\n",
              "        1.86470010e-02, 2.18742442e-02]),\n",
              " array([ 50.,  51.,  52.,  53.,  54.,  55.,  56.,  57.,  58.,  59.,  60.,\n",
              "         61.,  62.,  63.,  64.,  65.,  66.,  67.,  68.,  69.,  70.,  71.,\n",
              "         72.,  73.,  74.,  75.,  76.,  77.,  78.,  79.,  80.,  81.,  82.,\n",
              "         83.,  84.,  85.,  86.,  87.,  88.,  89.,  90.,  91.,  92.,  93.,\n",
              "         94.,  95.,  96.,  97.,  98.,  99., 100.]),\n",
              " <a list of 50 Patch objects>)"
            ]
          },
          "metadata": {},
          "execution_count": 23
        },
        {
          "output_type": "display_data",
          "data": {
            "text/plain": [
              "<Figure size 432x288 with 1 Axes>"
            ],
            "image/png": "[encoded data removed]"
          },
          "metadata": {
            "needs_background": "light"
          }
        }
      ]
    },
    {
      "cell_type": "code",
      "source": [
        ""
      ],
      "metadata": {
        "id": "SaZ-YIqyPRR7"
      },
      "execution_count": 23,
      "outputs": []
    }
  ]
}