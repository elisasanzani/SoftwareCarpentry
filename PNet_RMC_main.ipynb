{
  "nbformat": 4,
  "nbformat_minor": 0,
  "metadata": {
    "colab": {
      "name": "PNet-RMC_main.ipynb",
      "provenance": [],
      "authorship_tag": "ABX9TyN+z1fSkw01k3u2t/DJd9UI",
      "include_colab_link": true
    },
    "kernelspec": {
      "name": "python3",
      "display_name": "Python 3"
    },
    "language_info": {
      "name": "python"
    },
    "accelerator": "GPU",
    "gpuClass": "standard"
  },
  "cells": [
    {
      "cell_type": "markdown",
      "metadata": {
        "id": "view-in-github",
        "colab_type": "text"
      },
      "source": [
        "<a href=\"https://colab.research.google.com/github/elisasanzani/SoftwareCarpentry/blob/main/PNet_RMC_main.ipynb\" target=\"_parent\"><img src=\"https://colab.research.google.com/assets/colab-badge.svg\" alt=\"Open In Colab\"/></a>"
      ]
    },
    {
      "cell_type": "markdown",
      "source": [
        "# **Particle Net Lite Custom DG-CNN**"
      ],
      "metadata": {
        "id": "37uU1zmzDZ0d"
      }
    },
    {
      "cell_type": "code",
      "source": [
        "import logging\n",
        "logging.basicConfig(level=logging.INFO, format='[%(asctime)s] %(levelname)s: %(message)s')\n",
        "import numpy as np\n",
        "from sklearn.metrics import precision_recall_curve, auc\n",
        "import matplotlib.pyplot as plt"
      ],
      "metadata": {
        "id": "LiaWlth9DxWr"
      },
      "execution_count": 1,
      "outputs": []
    },
    {
      "cell_type": "markdown",
      "source": [
        "Data is downloaded in one go from Dropbox for simplicity. \n",
        "Unzipped version available in [main/data-PNet](https://github.com/elisasanzani/Software_and_Computing_Project/tree/main/data-PNet)"
      ],
      "metadata": {
        "id": "k4jHYYysHSVm"
      }
    },
    {
      "cell_type": "code",
      "source": [
        "!wget https://www.dropbox.com/s/ad08fg4c132nzvo/keras_input.zip?dl=0 -O keras_input.zip\n",
        "\n",
        "!unzip keras_input.zip\n",
        "\n",
        "data_folder = \".\""
      ],
      "metadata": {
        "colab": {
          "base_uri": "https://localhost:8080/"
        },
        "id": "b_RHVKIeG3uQ",
        "outputId": "a7163d50-b977-45d7-c0f3-05c901faa881"
      },
      "execution_count": 2,
      "outputs": [
        {
          "output_type": "stream",
          "name": "stdout",
          "text": [
            "--2022-08-13 13:18:28--  https://www.dropbox.com/s/ad08fg4c132nzvo/keras_input.zip?dl=0\n",
            "Resolving www.dropbox.com (www.dropbox.com)... 162.125.81.18, 2620:100:6031:18::a27d:5112\n",
            "Connecting to www.dropbox.com (www.dropbox.com)|162.125.81.18|:443... connected.\n",
            "HTTP request sent, awaiting response... 301 Moved Permanently\n",
            "Location: /s/raw/ad08fg4c132nzvo/keras_input.zip [following]\n",
            "--2022-08-13 13:18:28--  https://www.dropbox.com/s/raw/ad08fg4c132nzvo/keras_input.zip\n",
            "Reusing existing connection to www.dropbox.com:443.\n",
            "HTTP request sent, awaiting response... 302 Found\n",
            "Location: https://ucf5e18aa71b5a0639abc99b096b.dl.dropboxusercontent.com/cd/0/inline/Bq7EizVi_RX1Bt25VQ6x6KSCkb0Qateh2S3idzxZrc_1hyJzwF3QaTRpN6rCeMDrhxCM519rhYTOG0OeCv-WL4CpQcRPEy7f79y7X1lV3Ma2c3gc-c-GnqiNN6ScIONFOatgg4fgUYa2I48FE7Wbwl2cc6ETvEkj7t73ULBNEsOIXw/file# [following]\n",
            "--2022-08-13 13:18:28--  https://ucf5e18aa71b5a0639abc99b096b.dl.dropboxusercontent.com/cd/0/inline/Bq7EizVi_RX1Bt25VQ6x6KSCkb0Qateh2S3idzxZrc_1hyJzwF3QaTRpN6rCeMDrhxCM519rhYTOG0OeCv-WL4CpQcRPEy7f79y7X1lV3Ma2c3gc-c-GnqiNN6ScIONFOatgg4fgUYa2I48FE7Wbwl2cc6ETvEkj7t73ULBNEsOIXw/file\n",
            "Resolving ucf5e18aa71b5a0639abc99b096b.dl.dropboxusercontent.com (ucf5e18aa71b5a0639abc99b096b.dl.dropboxusercontent.com)... 162.125.81.15, 2620:100:6031:15::a27d:510f\n",
            "Connecting to ucf5e18aa71b5a0639abc99b096b.dl.dropboxusercontent.com (ucf5e18aa71b5a0639abc99b096b.dl.dropboxusercontent.com)|162.125.81.15|:443... connected.\n",
            "HTTP request sent, awaiting response... 302 Found\n",
            "Location: /cd/0/inline2/Bq6F_QAVjk5A0nfNdYhAqPXHl0-0lzLDSJhunst-BVt-iK0zRQlLlgE99Q-p3Dx_tPnzDeSqNM1fnzxbccxnvuAAa1eTLVyFck5_PPUX2eS_tRV_vIwSzOOLyYdR1lcjn7l-mF029gfNaMwnSWF3WW2PnoGxRkMkO-4ns3s_VgFDbfEcvB9ngeekDf9yFz-NfkYb5P4Iqys98caQEq6HZG4EwKl68k7W_6cr4jWpVv8Hpncjn3pQn0x7fZYWSW6oB2_SH6-Fw5GDrAKreUs3cek0nFhSNPppqF82Qvk2TKAmuqPaD-wXZ8Ce7iBHTFBjxmti7E4xNyqv0xQcVV440FcA7nFrgYOwOjI2ZT9t5_43S0TEcvLVvuboHAyT9zuM4KGnGoHkDhg60w-uuWDrsLjMGB5AmKAcd7OTsPZRaX0Eyg/file [following]\n",
            "--2022-08-13 13:18:29--  https://ucf5e18aa71b5a0639abc99b096b.dl.dropboxusercontent.com/cd/0/inline2/Bq6F_QAVjk5A0nfNdYhAqPXHl0-0lzLDSJhunst-BVt-iK0zRQlLlgE99Q-p3Dx_tPnzDeSqNM1fnzxbccxnvuAAa1eTLVyFck5_PPUX2eS_tRV_vIwSzOOLyYdR1lcjn7l-mF029gfNaMwnSWF3WW2PnoGxRkMkO-4ns3s_VgFDbfEcvB9ngeekDf9yFz-NfkYb5P4Iqys98caQEq6HZG4EwKl68k7W_6cr4jWpVv8Hpncjn3pQn0x7fZYWSW6oB2_SH6-Fw5GDrAKreUs3cek0nFhSNPppqF82Qvk2TKAmuqPaD-wXZ8Ce7iBHTFBjxmti7E4xNyqv0xQcVV440FcA7nFrgYOwOjI2ZT9t5_43S0TEcvLVvuboHAyT9zuM4KGnGoHkDhg60w-uuWDrsLjMGB5AmKAcd7OTsPZRaX0Eyg/file\n",
            "Reusing existing connection to ucf5e18aa71b5a0639abc99b096b.dl.dropboxusercontent.com:443.\n",
            "HTTP request sent, awaiting response... 200 OK\n",
            "Length: 208745172 (199M) [application/zip]\n",
            "Saving to: ‘keras_input.zip’\n",
            "\n",
            "keras_input.zip     100%[===================>] 199.07M  16.2MB/s    in 12s     \n",
            "\n",
            "2022-08-13 13:18:42 (16.2 MB/s) - ‘keras_input.zip’ saved [208745172/208745172]\n",
            "\n",
            "Archive:  keras_input.zip\n",
            "warning:  stripped absolute path spec from /\n",
            "mapname:  conversion of  failed\n",
            " extracting: mnbs_et.npy             \n",
            " extracting: mnbs_xy.npy             \n",
            " extracting: mnbs_mask.npy           \n",
            " extracting: mnbs_rphi.npy           \n",
            " extracting: mnbs_etrn.npy           \n",
            " extracting: signal_xy.npy           \n",
            " extracting: signal_et.npy           \n",
            " extracting: cosmics_xy.npy          \n",
            " extracting: cosmics_et.npy          \n",
            " extracting: signal_rphi.npy         \n",
            " extracting: signal_etrn.npy         \n",
            " extracting: signal_mask.npy         \n",
            " extracting: cosmics_rphi.npy        \n",
            " extracting: cosmics_mask.npy        \n",
            " extracting: cosmics_etrn.npy        \n"
          ]
        }
      ]
    },
    {
      "cell_type": "markdown",
      "source": [
        "The three datasets are saved as dictionaries with 4 components:\n",
        "<u1 type=\"circle\">\n",
        "<li>\"points\": Point Cloud (xy coordinates of each hit of a cluster) - 50 maximum hits </li>\n",
        "<li>\"features\": Energy and Time of each hit of a cluster - 50 maximum hits</li>\n",
        "<li>\"mask\": Mask to distinguish real hits (filled with 1, the others are filled with 0) in a cluster</li>\n",
        "<li>\"summary\": Energy, Time, Centroid Radius, and Number of active cells for a cluster</li>\n",
        "<br>\n",
        "The MC data has been filtered with ROOT\n",
        "using two pre-selection cuts:\n",
        "E > 50 MeV  &&  R > 480 mm <br>\n",
        "The cuts are necessary because in the low-energy and low-radius region the \n",
        "background due to the beam is too high\n"
      ],
      "metadata": {
        "id": "mZmezFRRIyC7"
      }
    },
    {
      "cell_type": "code",
      "source": [
        "name_map = {\"points\": \"xy\", \"features\": \"et\", \"mask\": \"mask\", \"summary\": \"etrn\"}\n",
        "\n",
        "signal  = {key: np.load(f\"{data_folder}/signal_{ name_map[key]}.npy\") for key in name_map}\n",
        "\n",
        "mnbs    = {key: np.load(f\"{data_folder}/mnbs_{   name_map[key]}.npy\") for key in name_map}\n",
        "\n",
        "cosmics = {key: np.load(f\"{data_folder}/cosmics_{name_map[key]}.npy\") for key in name_map}"
      ],
      "metadata": {
        "id": "PoBFuNxFIPd-"
      },
      "execution_count": 3,
      "outputs": []
    },
    {
      "cell_type": "markdown",
      "source": [
        "# Data Visualization\n",
        "Hits on the calorimeter for N = 10 random events per each event type are shown"
      ],
      "metadata": {
        "id": "bsCqUqleJy6G"
      }
    },
    {
      "cell_type": "code",
      "source": [
        "channels = [signal, mnbs, cosmics]\n",
        "ch_names = [\"signal\", \"min-bias\", \"cosmic\"]\n",
        "\n",
        "cmap = plt.get_cmap('viridis', 20)\n",
        "cmap.set_under('white')\n",
        "\n",
        "N = 10\n",
        "\n",
        "for ch, name in zip(channels, ch_names):\n",
        "  evs = np.random.randint(0, high=len(ch[\"points\"]), size=N, dtype=int)\n",
        "  print(len(evs))\n",
        "  plt.figure(figsize=(15, 10), dpi=60)\n",
        "  plt.scatter(cosmics[\"points\"][:, :, 0], cosmics[\"points\"][:, :, 1], marker=\"s\", s=80, color=\"lightgrey\")\n",
        "  arr_xy = ch[\"points\"][evs]\n",
        "  x, y = arr_xy[:, :, 0], arr_xy[:, :, 1]\n",
        "  e = ch[\"features\"][evs][:, :, 0]\n",
        "  plt.scatter(x, y, c=e, cmap=cmap, vmin=1, marker=\"s\", s=80)\n",
        "  plt.title(f\"{N} random clusters from {name} events\", fontsize=22)\n",
        "  plt.xlabel(\"X [mm]\", fontsize=22)\n",
        "  plt.ylabel(\"Y [mm]\", fontsize=22)\n",
        "  plt.xticks(fontsize=22)\n",
        "  plt.yticks(fontsize=22)\n",
        "  clb = plt.colorbar()\n",
        "  clb.ax.set_title('Energy [MeV]',fontsize=22)\n",
        "  clb.ax.tick_params(labelsize=22)\n",
        "  plt.show()"
      ],
      "metadata": {
        "colab": {
          "base_uri": "https://localhost:8080/",
          "height": 1000
        },
        "id": "5urXL2LZKO1U",
        "outputId": "fb7e81f7-6089-461f-8e2f-ff0e035764bb"
      },
      "execution_count": 4,
      "outputs": [
        {
          "output_type": "stream",
          "name": "stdout",
          "text": [
            "10\n"
          ]
        },
        {
          "output_type": "display_data",
          "data": {
            "text/plain": [
              "<Figure size 900x600 with 2 Axes>"
            ],
            "image/png": "[encoded data removed]"
          },
          "metadata": {
            "needs_background": "light"
          }
        },
        {
          "output_type": "stream",
          "name": "stdout",
          "text": [
            "10\n"
          ]
        },
        {
          "output_type": "display_data",
          "data": {
            "text/plain": [
              "<Figure size 900x600 with 2 Axes>"
            ],
            "image/png": "[encoded data removed]"
          },
          "metadata": {
            "needs_background": "light"
          }
        },
        {
          "output_type": "stream",
          "name": "stdout",
          "text": [
            "10\n"
          ]
        },
        {
          "output_type": "display_data",
          "data": {
            "text/plain": [
              "<Figure size 900x600 with 2 Axes>"
            ],
            "image/png": "[encoded data removed]"
          },
          "metadata": {
            "needs_background": "light"
          }
        }
      ]
    },
    {
      "cell_type": "markdown",
      "source": [
        "# Training\n",
        "The MC samples are weighted to match the expected ratios in one Mu2e injection cycle (1.333 s). \n",
        "\n",
        "\n",
        "Real expected cluster on upstream disk in one injection cycle:<br>\n",
        "RMC: 330 <br>\n",
        "MNBS: 1.3M <br>\n",
        "cosmics: 4 <br> <br>\n",
        "\n",
        "MC cluster on upstream disk:<br>\n",
        "RMC: 150k<br>\n",
        "MNBS: 1.05M<br>\n",
        "cosmics: 53k\n",
        "\n",
        "\n"
      ],
      "metadata": {
        "id": "B2dh0-3CZ58D"
      }
    },
    {
      "cell_type": "code",
      "source": [
        "signal_weight = 330/150e3 * 100\n",
        "mnbs_weight = 0.24 * 100\n",
        "cosmics_weight = 4/53e3 * 100\n",
        "\n",
        "print(end=\"\")"
      ],
      "metadata": {
        "id": "o3Y3bYYxKh4S"
      },
      "execution_count": 5,
      "outputs": []
    },
    {
      "cell_type": "markdown",
      "source": [
        "The samples are merged into a unique dataset, which is then shuffled, saving also labels and weights\n"
      ],
      "metadata": {
        "id": "O_iGVIMplvJI"
      }
    },
    {
      "cell_type": "code",
      "source": [
        "S =  signal[\"mask\"].shape[0] \n",
        "F =    mnbs[\"mask\"].shape[0] \n",
        "C = cosmics[\"mask\"].shape[0]\n",
        "\n",
        "N = S + F + C\n",
        "\n",
        "p = np.random.permutation(N) "
      ],
      "metadata": {
        "id": "WfOLGgislrte"
      },
      "execution_count": 6,
      "outputs": []
    },
    {
      "cell_type": "code",
      "source": [
        "data = {key: np.concatenate( (signal[key], mnbs[key], cosmics[key]) )[p] for key in name_map}\n",
        "\n",
        "label_list = [1, 0, 0]\n",
        "entries_list = [S, F, C]\n",
        "weight_list = [signal_weight, mnbs_weight, cosmics_weight]\n",
        "\n",
        "print(f\"- Entries for signal, mnbs and cosmics:{entries_list}\")\n",
        "print(f\"- Weigths for signal, mnbs and cosmics:{weight_list}\")\n",
        "\n",
        "label = np.concatenate( \n",
        "    [ np.ones((e))*l for e, l in zip(entries_list,  label_list) ]\n",
        ")[p]\n",
        "\n",
        "sample_weight = np.concatenate( \n",
        "    [ np.ones((e))*w for e, w in zip(entries_list, weight_list) ]\n",
        ")[p]\n"
      ],
      "metadata": {
        "colab": {
          "base_uri": "https://localhost:8080/"
        },
        "id": "gKB57M30l2eD",
        "outputId": "ac5884cc-8f87-4e8a-a783-e4e352d4ad3c"
      },
      "execution_count": 7,
      "outputs": [
        {
          "output_type": "stream",
          "name": "stdout",
          "text": [
            "- Entries for signal, mnbs and cosmics:[41372, 1132, 41598]\n",
            "- Weigths for signal, mnbs and cosmics:[0.22, 24.0, 0.007547169811320755]\n"
          ]
        }
      ]
    },
    {
      "cell_type": "markdown",
      "source": [
        "Data is normalized to help the training"
      ],
      "metadata": {
        "id": "cyci22mbmglv"
      }
    },
    {
      "cell_type": "code",
      "source": [
        "from sklearn.preprocessing import StandardScaler\n",
        "import copy\n",
        "scaler = StandardScaler()\n",
        "\n",
        "virgin_data = copy.deepcopy(data)\n",
        "\n",
        "for key in [\"points\", \"features\"]:\n",
        "  data[key][data[\"mask\"].reshape(N, 50)] = scaler.fit_transform(data[key][data[\"mask\"].reshape(N, 50)])\n",
        "\n",
        "data[\"summary\"] = scaler.fit_transform(data[\"summary\"])"
      ],
      "metadata": {
        "id": "ok4VwPS7mbGC"
      },
      "execution_count": 8,
      "outputs": []
    },
    {
      "cell_type": "markdown",
      "source": [
        "The dataset is divided in training, test and validation with a ratio 7:2:1"
      ],
      "metadata": {
        "id": "KCMYU5ykmwY2"
      }
    },
    {
      "cell_type": "code",
      "source": [
        "train_data  = {key: data[key][int(N*0.0) : int(N*0.7)] for key in name_map}\n",
        "test_data   = {key: data[key][int(N*0.7) : int(N*0.9)] for key in name_map}\n",
        "val_data    = {key: data[key][int(N*0.9) : int(N*1.0)] for key in name_map}\n",
        "\n",
        "train_label = label[int(N*0.0) : int(N*0.7)]\n",
        "test_label  = label[int(N*0.7) : int(N*0.9)]\n",
        "val_label   = label[int(N*0.9) : int(N*1.0)]\n",
        "\n",
        "train_weight = sample_weight[int(N*0.0) : int(N*0.7)]\n",
        "test_weight  = sample_weight[int(N*0.7) : int(N*0.9)]\n",
        "val_weight   = sample_weight[int(N*0.9) : int(N*1.0)]"
      ],
      "metadata": {
        "id": "DHfxelTFmpO8"
      },
      "execution_count": 9,
      "outputs": []
    },
    {
      "cell_type": "markdown",
      "source": [
        "The custom model is imported from the GitHub repo (working on it)"
      ],
      "metadata": {
        "id": "mELi2kJrnOYs"
      }
    },
    {
      "cell_type": "code",
      "source": [
        "!wget https://raw.githubusercontent.com/elisasanzani/Software_and_Computing_Project/main/tf_keras_model.py -O tf_keras_model.py\n",
        "\n",
        "#!wget https://raw.githubusercontent.com/raeubaen/RadioMonteCarlo/main/tf_keras_model.py -O tf_keras_model.py\n",
        "\n",
        "import tensorflow as tf\n",
        "from tensorflow import keras\n",
        "from tf_keras_model import get_particle_net_lite_custom"
      ],
      "metadata": {
        "colab": {
          "base_uri": "https://localhost:8080/"
        },
        "id": "g9C55js5nEqo",
        "outputId": "adf14fa5-15ac-4766-f291-71c177f135fd"
      },
      "execution_count": 10,
      "outputs": [
        {
          "output_type": "stream",
          "name": "stdout",
          "text": [
            "--2022-08-13 13:19:00--  https://raw.githubusercontent.com/elisasanzani/Software_and_Computing_Project/main/tf_keras_model.py\n",
            "Resolving raw.githubusercontent.com (raw.githubusercontent.com)... 185.199.108.133, 185.199.110.133, 185.199.111.133, ...\n",
            "Connecting to raw.githubusercontent.com (raw.githubusercontent.com)|185.199.108.133|:443... connected.\n",
            "HTTP request sent, awaiting response... 200 OK\n",
            "Length: 8743 (8.5K) [text/plain]\n",
            "Saving to: ‘tf_keras_model.py’\n",
            "\n",
            "tf_keras_model.py   100%[===================>]   8.54K  --.-KB/s    in 0s      \n",
            "\n",
            "2022-08-13 13:19:00 (75.9 MB/s) - ‘tf_keras_model.py’ saved [8743/8743]\n",
            "\n"
          ]
        }
      ]
    },
    {
      "cell_type": "code",
      "source": [
        "input_shapes = {'points': (50, 2), 'features': (50, 2), 'mask':(50, 1)}\n",
        "\n",
        "model = get_particle_net_lite_custom(input_shapes)"
      ],
      "metadata": {
        "id": "9STunRi1f3Zd"
      },
      "execution_count": 11,
      "outputs": []
    },
    {
      "cell_type": "code",
      "source": [
        "# Training parameters\n",
        "\n",
        "batch_size = 1024\n",
        "epochs = 30"
      ],
      "metadata": {
        "id": "WaBntnAbjrsm"
      },
      "execution_count": 12,
      "outputs": []
    },
    {
      "cell_type": "markdown",
      "source": [
        "Learning rate is exponentially decreased by a factor 0.1 every the epochs, for a maximum of 30 epochs.<br>\n",
        "\n",
        "The best starting learning rate has been estimated using the [learning rate finder](https://colab.research.google.com/github/sachinruk/blog/blob/master/_notebooks/2021-02-15-Tensorflow-Learning-Rate-Finder.ipynb) <br>\n",
        "The used version in available [here](metter link)\n",
        "\n",
        "Original starting lr = 1e(-3)"
      ],
      "metadata": {
        "id": "KbPHs58rjwcu"
      }
    },
    {
      "cell_type": "code",
      "source": [
        "def lr_schedule(epoch):\n",
        "    lr = 1e-3 #custom: 1e-2\n",
        "    if epoch > 10:\n",
        "        lr *= 0.1\n",
        "    elif epoch > 20:\n",
        "        lr *= 0.01\n",
        "    logging.info('Learning rate: %f'%lr)\n",
        "    return lr"
      ],
      "metadata": {
        "id": "nbIKYKYKlA2Z"
      },
      "execution_count": 13,
      "outputs": []
    },
    {
      "cell_type": "code",
      "source": [
        "model.compile(loss='binary_crossentropy',\n",
        "              optimizer=keras.optimizers.Adam(learning_rate=lr_schedule(0)),\n",
        "              weighted_metrics=[keras.metrics.AUC(curve=\"PR\")],\n",
        ")\n",
        "model.summary()"
      ],
      "metadata": {
        "colab": {
          "base_uri": "https://localhost:8080/"
        },
        "id": "K0A4UkoXtCCQ",
        "outputId": "e87283ea-ca67-4213-c861-7b548a89f66c"
      },
      "execution_count": 14,
      "outputs": [
        {
          "output_type": "stream",
          "name": "stdout",
          "text": [
            "Model: \"ParticleNet\"\n",
            "__________________________________________________________________________________________________\n",
            " Layer (type)                   Output Shape         Param #     Connected to                     \n",
            "==================================================================================================\n",
            " mask (InputLayer)              [(None, 50, 1)]      0           []                               \n",
            "                                                                                                  \n",
            " tf.math.not_equal (TFOpLambda)  (None, 50, 1)       0           ['mask[0][0]']                   \n",
            "                                                                                                  \n",
            " tf.cast (TFOpLambda)           (None, 50, 1)        0           ['tf.math.not_equal[0][0]']      \n",
            "                                                                                                  \n",
            " tf.math.equal (TFOpLambda)     (None, 50, 1)        0           ['tf.cast[0][0]']                \n",
            "                                                                                                  \n",
            " tf.cast_1 (TFOpLambda)         (None, 50, 1)        0           ['tf.math.equal[0][0]']          \n",
            "                                                                                                  \n",
            " tf.math.multiply (TFOpLambda)  (None, 50, 1)        0           ['tf.cast_1[0][0]']              \n",
            "                                                                                                  \n",
            " points (InputLayer)            [(None, 50, 2)]      0           []                               \n",
            "                                                                                                  \n",
            " tf.math.add (TFOpLambda)       (None, 50, 2)        0           ['tf.math.multiply[0][0]',       \n",
            "                                                                  'points[0][0]']                 \n",
            "                                                                                                  \n",
            " features (InputLayer)          [(None, 50, 2)]      0           []                               \n",
            "                                                                                                  \n",
            " tf.compat.v1.transpose (TFOpLa  (None, 2, 50)       0           ['tf.math.add[0][0]']            \n",
            " mbda)                                                                                            \n",
            "                                                                                                  \n",
            " tf.expand_dims (TFOpLambda)    (None, 50, 1, 2)     0           ['features[0][0]']               \n",
            "                                                                                                  \n",
            " tf.math.multiply_1 (TFOpLambda  (None, 50, 2)       0           ['tf.math.add[0][0]',            \n",
            " )                                                                'tf.math.add[0][0]']            \n",
            "                                                                                                  \n",
            " tf.linalg.matmul (TFOpLambda)  (None, 50, 50)       0           ['tf.math.add[0][0]',            \n",
            "                                                                  'tf.compat.v1.transpose[0][0]'] \n",
            "                                                                                                  \n",
            " tf.math.multiply_2 (TFOpLambda  (None, 50, 2)       0           ['tf.math.add[0][0]',            \n",
            " )                                                                'tf.math.add[0][0]']            \n",
            "                                                                                                  \n",
            " ParticleNet_fts_bn (BatchNorma  (None, 50, 1, 2)    8           ['tf.expand_dims[0][0]']         \n",
            " lization)                                                                                        \n",
            "                                                                                                  \n",
            " tf.math.reduce_sum (TFOpLambda  (None, 50, 1)       0           ['tf.math.multiply_1[0][0]']     \n",
            " )                                                                                                \n",
            "                                                                                                  \n",
            " tf.math.multiply_3 (TFOpLambda  (None, 50, 50)      0           ['tf.linalg.matmul[0][0]']       \n",
            " )                                                                                                \n",
            "                                                                                                  \n",
            " tf.math.reduce_sum_1 (TFOpLamb  (None, 50, 1)       0           ['tf.math.multiply_2[0][0]']     \n",
            " da)                                                                                              \n",
            "                                                                                                  \n",
            " tf.compat.v1.squeeze (TFOpLamb  (None, 50, 2)       0           ['ParticleNet_fts_bn[0][0]']     \n",
            " da)                                                                                              \n",
            "                                                                                                  \n",
            " tf.math.subtract (TFOpLambda)  (None, 50, 50)       0           ['tf.math.reduce_sum[0][0]',     \n",
            "                                                                  'tf.math.multiply_3[0][0]']     \n",
            "                                                                                                  \n",
            " tf.compat.v1.transpose_1 (TFOp  (None, 1, 50)       0           ['tf.math.reduce_sum_1[0][0]']   \n",
            " Lambda)                                                                                          \n",
            "                                                                                                  \n",
            " tf.compat.v1.shape (TFOpLambda  (3,)                0           ['tf.compat.v1.squeeze[0][0]']   \n",
            " )                                                                                                \n",
            "                                                                                                  \n",
            " tf.__operators__.add (TFOpLamb  (None, 50, 50)      0           ['tf.math.subtract[0][0]',       \n",
            " da)                                                              'tf.compat.v1.transpose_1[0][0]'\n",
            "                                                                 ]                                \n",
            "                                                                                                  \n",
            " tf.__operators__.getitem_1 (Sl  ()                  0           ['tf.compat.v1.shape[0][0]']     \n",
            " icingOpLambda)                                                                                   \n",
            "                                                                                                  \n",
            " tf.math.negative (TFOpLambda)  (None, 50, 50)       0           ['tf.__operators__.add[0][0]']   \n",
            "                                                                                                  \n",
            " tf.range (TFOpLambda)          (None,)              0           ['tf.__operators__.getitem_1[0][0\n",
            "                                                                 ]']                              \n",
            "                                                                                                  \n",
            " tf.math.top_k (TFOpLambda)     TopKV2(values=(None  0           ['tf.math.negative[0][0]']       \n",
            "                                , 50, 4),                                                         \n",
            "                                 indices=(None, 50,                                               \n",
            "                                 4))                                                              \n",
            "                                                                                                  \n",
            " tf.reshape (TFOpLambda)        (None, 1, 1, 1)      0           ['tf.range[0][0]']               \n",
            "                                                                                                  \n",
            " tf.__operators__.getitem (Slic  (None, 50, 3)       0           ['tf.math.top_k[0][1]']          \n",
            " ingOpLambda)                                                                                     \n",
            "                                                                                                  \n",
            " tf.tile (TFOpLambda)           (None, 50, 3, 1)     0           ['tf.reshape[0][0]']             \n",
            "                                                                                                  \n",
            " tf.expand_dims_1 (TFOpLambda)  (None, 50, 3, 1)     0           ['tf.__operators__.getitem[0][0]'\n",
            "                                                                 ]                                \n",
            "                                                                                                  \n",
            " tf.expand_dims_2 (TFOpLambda)  (None, 50, 1, 2)     0           ['tf.compat.v1.squeeze[0][0]']   \n",
            "                                                                                                  \n",
            " tf.concat (TFOpLambda)         (None, 50, 3, 2)     0           ['tf.tile[0][0]',                \n",
            "                                                                  'tf.expand_dims_1[0][0]']       \n",
            "                                                                                                  \n",
            " tf.tile_1 (TFOpLambda)         (None, 50, 3, 2)     0           ['tf.expand_dims_2[0][0]']       \n",
            "                                                                                                  \n",
            " tf.compat.v1.gather_nd (TFOpLa  (None, 50, 3, 2)    0           ['tf.compat.v1.squeeze[0][0]',   \n",
            " mbda)                                                            'tf.concat[0][0]']              \n",
            "                                                                                                  \n",
            " tf.math.subtract_1 (TFOpLambda  (None, 50, 3, 2)    0           ['tf.compat.v1.gather_nd[0][0]', \n",
            " )                                                                'tf.tile_1[0][0]']              \n",
            "                                                                                                  \n",
            " tf.concat_1 (TFOpLambda)       (None, 50, 3, 4)     0           ['tf.tile_1[0][0]',              \n",
            "                                                                  'tf.math.subtract_1[0][0]']     \n",
            "                                                                                                  \n",
            " ParticleNet_EdgeConv0_conv0 (C  (None, 50, 3, 16)   64          ['tf.concat_1[0][0]']            \n",
            " onv2D)                                                                                           \n",
            "                                                                                                  \n",
            " ParticleNet_EdgeConv0_bn0 (Bat  (None, 50, 3, 16)   64          ['ParticleNet_EdgeConv0_conv0[0][\n",
            " chNormalization)                                                0]']                             \n",
            "                                                                                                  \n",
            " ParticleNet_EdgeConv0_act0 (Ac  (None, 50, 3, 16)   0           ['ParticleNet_EdgeConv0_bn0[0][0]\n",
            " tivation)                                                       ']                               \n",
            "                                                                                                  \n",
            " ParticleNet_EdgeConv0_conv1 (C  (None, 50, 3, 16)   256         ['ParticleNet_EdgeConv0_act0[0][0\n",
            " onv2D)                                                          ]']                              \n",
            "                                                                                                  \n",
            " ParticleNet_EdgeConv0_bn1 (Bat  (None, 50, 3, 16)   64          ['ParticleNet_EdgeConv0_conv1[0][\n",
            " chNormalization)                                                0]']                             \n",
            "                                                                                                  \n",
            " ParticleNet_EdgeConv0_act1 (Ac  (None, 50, 3, 16)   0           ['ParticleNet_EdgeConv0_bn1[0][0]\n",
            " tivation)                                                       ']                               \n",
            "                                                                                                  \n",
            " tf.expand_dims_3 (TFOpLambda)  (None, 50, 1, 2)     0           ['tf.compat.v1.squeeze[0][0]']   \n",
            "                                                                                                  \n",
            " ParticleNet_EdgeConv0_conv2 (C  (None, 50, 3, 16)   256         ['ParticleNet_EdgeConv0_act1[0][0\n",
            " onv2D)                                                          ]']                              \n",
            "                                                                                                  \n",
            " ParticleNet_EdgeConv0_sc_conv   (None, 50, 1, 16)   32          ['tf.expand_dims_3[0][0]']       \n",
            " (Conv2D)                                                                                         \n",
            "                                                                                                  \n",
            " ParticleNet_EdgeConv0_bn2 (Bat  (None, 50, 3, 16)   64          ['ParticleNet_EdgeConv0_conv2[0][\n",
            " chNormalization)                                                0]']                             \n",
            "                                                                                                  \n",
            " ParticleNet_EdgeConv0_sc_bn (B  (None, 50, 1, 16)   64          ['ParticleNet_EdgeConv0_sc_conv[0\n",
            " atchNormalization)                                              ][0]']                           \n",
            "                                                                                                  \n",
            " ParticleNet_EdgeConv0_act2 (Ac  (None, 50, 3, 16)   0           ['ParticleNet_EdgeConv0_bn2[0][0]\n",
            " tivation)                                                       ']                               \n",
            "                                                                                                  \n",
            " tf.compat.v1.squeeze_1 (TFOpLa  (None, 50, 16)      0           ['ParticleNet_EdgeConv0_sc_bn[0][\n",
            " mbda)                                                           0]']                             \n",
            "                                                                                                  \n",
            " tf.math.reduce_max (TFOpLambda  (None, 50, 16)      0           ['ParticleNet_EdgeConv0_act2[0][0\n",
            " )                                                               ]']                              \n",
            "                                                                                                  \n",
            " tf.__operators__.add_1 (TFOpLa  (None, 50, 16)      0           ['tf.compat.v1.squeeze_1[0][0]', \n",
            " mbda)                                                            'tf.math.reduce_max[0][0]']     \n",
            "                                                                                                  \n",
            " ParticleNet_EdgeConv0_sc_act (  (None, 50, 16)      0           ['tf.__operators__.add_1[0][0]'] \n",
            " Activation)                                                                                      \n",
            "                                                                                                  \n",
            " tf.math.add_1 (TFOpLambda)     (None, 50, 16)       0           ['tf.math.multiply[0][0]',       \n",
            "                                                                  'ParticleNet_EdgeConv0_sc_act[0]\n",
            "                                                                 [0]']                            \n",
            "                                                                                                  \n",
            " tf.compat.v1.transpose_2 (TFOp  (None, 16, 50)      0           ['tf.math.add_1[0][0]']          \n",
            " Lambda)                                                                                          \n",
            "                                                                                                  \n",
            " tf.math.multiply_4 (TFOpLambda  (None, 50, 16)      0           ['tf.math.add_1[0][0]',          \n",
            " )                                                                'tf.math.add_1[0][0]']          \n",
            "                                                                                                  \n",
            " tf.linalg.matmul_1 (TFOpLambda  (None, 50, 50)      0           ['tf.math.add_1[0][0]',          \n",
            " )                                                                'tf.compat.v1.transpose_2[0][0]'\n",
            "                                                                 ]                                \n",
            "                                                                                                  \n",
            " tf.math.multiply_5 (TFOpLambda  (None, 50, 16)      0           ['tf.math.add_1[0][0]',          \n",
            " )                                                                'tf.math.add_1[0][0]']          \n",
            "                                                                                                  \n",
            " tf.math.reduce_sum_2 (TFOpLamb  (None, 50, 1)       0           ['tf.math.multiply_4[0][0]']     \n",
            " da)                                                                                              \n",
            "                                                                                                  \n",
            " tf.math.multiply_6 (TFOpLambda  (None, 50, 50)      0           ['tf.linalg.matmul_1[0][0]']     \n",
            " )                                                                                                \n",
            "                                                                                                  \n",
            " tf.math.reduce_sum_3 (TFOpLamb  (None, 50, 1)       0           ['tf.math.multiply_5[0][0]']     \n",
            " da)                                                                                              \n",
            "                                                                                                  \n",
            " tf.math.subtract_2 (TFOpLambda  (None, 50, 50)      0           ['tf.math.reduce_sum_2[0][0]',   \n",
            " )                                                                'tf.math.multiply_6[0][0]']     \n",
            "                                                                                                  \n",
            " tf.compat.v1.transpose_3 (TFOp  (None, 1, 50)       0           ['tf.math.reduce_sum_3[0][0]']   \n",
            " Lambda)                                                                                          \n",
            "                                                                                                  \n",
            " tf.compat.v1.shape_1 (TFOpLamb  (3,)                0           ['ParticleNet_EdgeConv0_sc_act[0]\n",
            " da)                                                             [0]']                            \n",
            "                                                                                                  \n",
            " tf.__operators__.add_2 (TFOpLa  (None, 50, 50)      0           ['tf.math.subtract_2[0][0]',     \n",
            " mbda)                                                            'tf.compat.v1.transpose_3[0][0]'\n",
            "                                                                 ]                                \n",
            "                                                                                                  \n",
            " tf.__operators__.getitem_3 (Sl  ()                  0           ['tf.compat.v1.shape_1[0][0]']   \n",
            " icingOpLambda)                                                                                   \n",
            "                                                                                                  \n",
            " tf.math.negative_1 (TFOpLambda  (None, 50, 50)      0           ['tf.__operators__.add_2[0][0]'] \n",
            " )                                                                                                \n",
            "                                                                                                  \n",
            " tf.range_1 (TFOpLambda)        (None,)              0           ['tf.__operators__.getitem_3[0][0\n",
            "                                                                 ]']                              \n",
            "                                                                                                  \n",
            " tf.math.top_k_1 (TFOpLambda)   TopKV2(values=(None  0           ['tf.math.negative_1[0][0]']     \n",
            "                                , 50, 4),                                                         \n",
            "                                 indices=(None, 50,                                               \n",
            "                                 4))                                                              \n",
            "                                                                                                  \n",
            " tf.reshape_1 (TFOpLambda)      (None, 1, 1, 1)      0           ['tf.range_1[0][0]']             \n",
            "                                                                                                  \n",
            " tf.__operators__.getitem_2 (Sl  (None, 50, 3)       0           ['tf.math.top_k_1[0][1]']        \n",
            " icingOpLambda)                                                                                   \n",
            "                                                                                                  \n",
            " tf.tile_2 (TFOpLambda)         (None, 50, 3, 1)     0           ['tf.reshape_1[0][0]']           \n",
            "                                                                                                  \n",
            " tf.expand_dims_4 (TFOpLambda)  (None, 50, 3, 1)     0           ['tf.__operators__.getitem_2[0][0\n",
            "                                                                 ]']                              \n",
            "                                                                                                  \n",
            " tf.expand_dims_5 (TFOpLambda)  (None, 50, 1, 16)    0           ['ParticleNet_EdgeConv0_sc_act[0]\n",
            "                                                                 [0]']                            \n",
            "                                                                                                  \n",
            " tf.concat_2 (TFOpLambda)       (None, 50, 3, 2)     0           ['tf.tile_2[0][0]',              \n",
            "                                                                  'tf.expand_dims_4[0][0]']       \n",
            "                                                                                                  \n",
            " tf.tile_3 (TFOpLambda)         (None, 50, 3, 16)    0           ['tf.expand_dims_5[0][0]']       \n",
            "                                                                                                  \n",
            " tf.compat.v1.gather_nd_1 (TFOp  (None, 50, 3, 16)   0           ['ParticleNet_EdgeConv0_sc_act[0]\n",
            " Lambda)                                                         [0]',                            \n",
            "                                                                  'tf.concat_2[0][0]']            \n",
            "                                                                                                  \n",
            " tf.math.subtract_3 (TFOpLambda  (None, 50, 3, 16)   0           ['tf.compat.v1.gather_nd_1[0][0]'\n",
            " )                                                               , 'tf.tile_3[0][0]']             \n",
            "                                                                                                  \n",
            " tf.concat_3 (TFOpLambda)       (None, 50, 3, 32)    0           ['tf.tile_3[0][0]',              \n",
            "                                                                  'tf.math.subtract_3[0][0]']     \n",
            "                                                                                                  \n",
            " ParticleNet_EdgeConv1_conv0 (C  (None, 50, 3, 32)   1024        ['tf.concat_3[0][0]']            \n",
            " onv2D)                                                                                           \n",
            "                                                                                                  \n",
            " ParticleNet_EdgeConv1_bn0 (Bat  (None, 50, 3, 32)   128         ['ParticleNet_EdgeConv1_conv0[0][\n",
            " chNormalization)                                                0]']                             \n",
            "                                                                                                  \n",
            " ParticleNet_EdgeConv1_act0 (Ac  (None, 50, 3, 32)   0           ['ParticleNet_EdgeConv1_bn0[0][0]\n",
            " tivation)                                                       ']                               \n",
            "                                                                                                  \n",
            " ParticleNet_EdgeConv1_conv1 (C  (None, 50, 3, 32)   1024        ['ParticleNet_EdgeConv1_act0[0][0\n",
            " onv2D)                                                          ]']                              \n",
            "                                                                                                  \n",
            " ParticleNet_EdgeConv1_bn1 (Bat  (None, 50, 3, 32)   128         ['ParticleNet_EdgeConv1_conv1[0][\n",
            " chNormalization)                                                0]']                             \n",
            "                                                                                                  \n",
            " ParticleNet_EdgeConv1_act1 (Ac  (None, 50, 3, 32)   0           ['ParticleNet_EdgeConv1_bn1[0][0]\n",
            " tivation)                                                       ']                               \n",
            "                                                                                                  \n",
            " tf.expand_dims_6 (TFOpLambda)  (None, 50, 1, 16)    0           ['ParticleNet_EdgeConv0_sc_act[0]\n",
            "                                                                 [0]']                            \n",
            "                                                                                                  \n",
            " ParticleNet_EdgeConv1_conv2 (C  (None, 50, 3, 32)   1024        ['ParticleNet_EdgeConv1_act1[0][0\n",
            " onv2D)                                                          ]']                              \n",
            "                                                                                                  \n",
            " ParticleNet_EdgeConv1_sc_conv   (None, 50, 1, 32)   512         ['tf.expand_dims_6[0][0]']       \n",
            " (Conv2D)                                                                                         \n",
            "                                                                                                  \n",
            " ParticleNet_EdgeConv1_bn2 (Bat  (None, 50, 3, 32)   128         ['ParticleNet_EdgeConv1_conv2[0][\n",
            " chNormalization)                                                0]']                             \n",
            "                                                                                                  \n",
            " ParticleNet_EdgeConv1_sc_bn (B  (None, 50, 1, 32)   128         ['ParticleNet_EdgeConv1_sc_conv[0\n",
            " atchNormalization)                                              ][0]']                           \n",
            "                                                                                                  \n",
            " ParticleNet_EdgeConv1_act2 (Ac  (None, 50, 3, 32)   0           ['ParticleNet_EdgeConv1_bn2[0][0]\n",
            " tivation)                                                       ']                               \n",
            "                                                                                                  \n",
            " tf.compat.v1.squeeze_2 (TFOpLa  (None, 50, 32)      0           ['ParticleNet_EdgeConv1_sc_bn[0][\n",
            " mbda)                                                           0]']                             \n",
            "                                                                                                  \n",
            " tf.math.reduce_max_1 (TFOpLamb  (None, 50, 32)      0           ['ParticleNet_EdgeConv1_act2[0][0\n",
            " da)                                                             ]']                              \n",
            "                                                                                                  \n",
            " tf.__operators__.add_3 (TFOpLa  (None, 50, 32)      0           ['tf.compat.v1.squeeze_2[0][0]', \n",
            " mbda)                                                            'tf.math.reduce_max_1[0][0]']   \n",
            "                                                                                                  \n",
            " ParticleNet_EdgeConv1_sc_act (  (None, 50, 32)      0           ['tf.__operators__.add_3[0][0]'] \n",
            " Activation)                                                                                      \n",
            "                                                                                                  \n",
            " tf.math.multiply_7 (TFOpLambda  (None, 50, 32)      0           ['ParticleNet_EdgeConv1_sc_act[0]\n",
            " )                                                               [0]',                            \n",
            "                                                                  'tf.cast[0][0]']                \n",
            "                                                                                                  \n",
            " tf.math.reduce_mean (TFOpLambd  (None, 32)          0           ['tf.math.multiply_7[0][0]']     \n",
            " a)                                                                                               \n",
            "                                                                                                  \n",
            " summary (InputLayer)           [(None, 4)]          0           []                               \n",
            "                                                                                                  \n",
            " tf.concat_4 (TFOpLambda)       (None, 36)           0           ['tf.math.reduce_mean[0][0]',    \n",
            "                                                                  'summary[0][0]']                \n",
            "                                                                                                  \n",
            " dense (Dense)                  (None, 64)           2368        ['tf.concat_4[0][0]']            \n",
            "                                                                                                  \n",
            " dropout (Dropout)              (None, 64)           0           ['dense[0][0]']                  \n",
            "                                                                                                  \n",
            " dense_1 (Dense)                (None, 1)            65          ['dropout[0][0]']                \n",
            "                                                                                                  \n",
            "==================================================================================================\n",
            "Total params: 7,401\n",
            "Trainable params: 7,013\n",
            "Non-trainable params: 388\n",
            "__________________________________________________________________________________________________\n"
          ]
        }
      ]
    },
    {
      "cell_type": "markdown",
      "source": [
        "Keras checkpoints are employed to save the model with the best validation AURPC"
      ],
      "metadata": {
        "id": "sVei9pOVuJ5n"
      }
    },
    {
      "cell_type": "code",
      "source": [
        "# Prepare model model saving directory.\n",
        "import os\n",
        "\n",
        "save_dir = 'model_checkpoints'\n",
        "model_name = 'lite_model-{val_auc:0.2f}-{epoch:03d}.h5'\n",
        "if not os.path.isdir(save_dir):\n",
        "    os.makedirs(save_dir)\n",
        "filepath = os.path.join(save_dir, model_name)\n",
        "print(filepath)\n",
        "\n",
        "# Prepare callbacks for model saving and for learning rate adjustment.\n",
        "checkpoint = keras.callbacks.ModelCheckpoint(\n",
        "    filepath=filepath,\n",
        "    monitor='val_auc',\n",
        "    verbose=1,\n",
        "    )\n",
        "\n",
        "lr_scheduler = keras.callbacks.LearningRateScheduler(lr_schedule)\n",
        "progress_bar = keras.callbacks.ProgbarLogger()\n",
        "callbacks = [checkpoint, progress_bar, lr_scheduler]"
      ],
      "metadata": {
        "colab": {
          "base_uri": "https://localhost:8080/"
        },
        "id": "7EhAnKNFuBus",
        "outputId": "1436ec8c-0f37-4d52-f091-2b01d2894b4f"
      },
      "execution_count": 15,
      "outputs": [
        {
          "output_type": "stream",
          "name": "stdout",
          "text": [
            "model_checkpoints/lite_model-{val_auc:0.2f}-{epoch:03d}.h5\n"
          ]
        }
      ]
    },
    {
      "cell_type": "markdown",
      "source": [
        "The model is trained, weighting the data to match the real statistics, by means of the sample_weight attribute (for the training). Also the validation set is weighted, in order to select the model with the best performances on the real statistics."
      ],
      "metadata": {
        "id": "FKNVKXbEur8R"
      }
    },
    {
      "cell_type": "code",
      "source": [
        "history = model.fit(\n",
        "    [train_data[\"points\"], train_data[\"features\"], train_data[\"mask\"], train_data[\"summary\"]], \n",
        "    train_label,\n",
        "    batch_size=batch_size,\n",
        "    epochs=epochs,\n",
        "    validation_data=([val_data[\"points\"], val_data[\"features\"], val_data[\"mask\"], val_data[\"summary\"]], val_label, val_weight),\n",
        "    shuffle=True,\n",
        "    sample_weight=train_weight,\n",
        "    callbacks=[callbacks]\n",
        ")"
      ],
      "metadata": {
        "colab": {
          "base_uri": "https://localhost:8080/"
        },
        "id": "cei7GFLjutDj",
        "outputId": "e0603430-3bf3-4757-9b88-f9481cff8e95"
      },
      "execution_count": 16,
      "outputs": [
        {
          "output_type": "stream",
          "name": "stdout",
          "text": [
            "Epoch 1/30\n",
            "      0/Unknown - 25s 0s/sample - loss: 0.2008 - auc: 0.5341\n",
            "Epoch 1: saving model to model_checkpoints/lite_model-0.73-001.h5\n",
            "58/58 [==============================] - 28s 487ms/sample - loss: 0.2008 - auc: 0.5341 - val_loss: 0.2060 - val_auc: 0.7269\n",
            "Epoch 2/30\n",
            " 0/58 [..............................] - ETA: 0s - loss: 0.1311 - auc: 0.8076\n",
            "Epoch 2: saving model to model_checkpoints/lite_model-0.74-002.h5\n",
            "58/58 [==============================] - 9s 156ms/sample - loss: 0.1311 - auc: 0.8076 - val_loss: 0.1983 - val_auc: 0.7405\n",
            "Epoch 3/30\n",
            " 0/58 [..............................] - ETA: 0s - loss: 0.0993 - auc: 0.8825\n",
            "Epoch 3: saving model to model_checkpoints/lite_model-0.78-003.h5\n",
            "58/58 [==============================] - 9s 156ms/sample - loss: 0.0993 - auc: 0.8825 - val_loss: 0.1764 - val_auc: 0.7813\n",
            "Epoch 4/30\n",
            " 0/58 [..............................] - ETA: 0s - loss: 0.0837 - auc: 0.9198\n",
            "Epoch 4: saving model to model_checkpoints/lite_model-0.82-004.h5\n",
            "58/58 [==============================] - 9s 156ms/sample - loss: 0.0837 - auc: 0.9198 - val_loss: 0.1465 - val_auc: 0.8219\n",
            "Epoch 5/30\n",
            " 0/58 [..............................] - ETA: 0s - loss: 0.0775 - auc: 0.9345\n",
            "Epoch 5: saving model to model_checkpoints/lite_model-0.90-005.h5\n",
            "58/58 [==============================] - 9s 157ms/sample - loss: 0.0775 - auc: 0.9345 - val_loss: 0.1184 - val_auc: 0.9047\n",
            "Epoch 6/30\n",
            " 0/58 [..............................] - ETA: 0s - loss: 0.0726 - auc: 0.9414\n",
            "Epoch 6: saving model to model_checkpoints/lite_model-0.93-006.h5\n",
            "58/58 [==============================] - 9s 158ms/sample - loss: 0.0726 - auc: 0.9414 - val_loss: 0.1041 - val_auc: 0.9270\n",
            "Epoch 7/30\n",
            " 0/58 [..............................] - ETA: 0s - loss: 0.0653 - auc: 0.9519\n",
            "Epoch 7: saving model to model_checkpoints/lite_model-0.95-007.h5\n",
            "58/58 [==============================] - 9s 158ms/sample - loss: 0.0653 - auc: 0.9519 - val_loss: 0.0739 - val_auc: 0.9549\n",
            "Epoch 8/30\n",
            " 0/58 [..............................] - ETA: 0s - loss: 0.0655 - auc: 0.9513\n",
            "Epoch 8: saving model to model_checkpoints/lite_model-0.95-008.h5\n",
            "58/58 [==============================] - 9s 158ms/sample - loss: 0.0655 - auc: 0.9513 - val_loss: 0.0661 - val_auc: 0.9523\n",
            "Epoch 9/30\n",
            " 0/58 [..............................] - ETA: 0s - loss: 0.0644 - auc: 0.9505\n",
            "Epoch 9: saving model to model_checkpoints/lite_model-0.95-009.h5\n",
            "58/58 [==============================] - 9s 160ms/sample - loss: 0.0644 - auc: 0.9505 - val_loss: 0.0612 - val_auc: 0.9535\n",
            "Epoch 10/30\n",
            " 0/58 [..............................] - ETA: 0s - loss: 0.0641 - auc: 0.9522\n",
            "Epoch 10: saving model to model_checkpoints/lite_model-0.96-010.h5\n",
            "58/58 [==============================] - 9s 161ms/sample - loss: 0.0641 - auc: 0.9522 - val_loss: 0.0683 - val_auc: 0.9577\n",
            "Epoch 11/30\n",
            " 0/58 [..............................] - ETA: 0s - loss: 0.0577 - auc: 0.9609\n",
            "Epoch 11: saving model to model_checkpoints/lite_model-0.96-011.h5\n",
            "58/58 [==============================] - 9s 162ms/sample - loss: 0.0577 - auc: 0.9609 - val_loss: 0.0648 - val_auc: 0.9604\n",
            "Epoch 12/30\n",
            " 0/58 [..............................] - ETA: 0s - loss: 0.0535 - auc: 0.9665\n",
            "Epoch 12: saving model to model_checkpoints/lite_model-0.96-012.h5\n",
            "58/58 [==============================] - 9s 160ms/sample - loss: 0.0535 - auc: 0.9665 - val_loss: 0.0547 - val_auc: 0.9634\n",
            "Epoch 13/30\n",
            " 0/58 [..............................] - ETA: 0s - loss: 0.0499 - auc: 0.9710\n",
            "Epoch 13: saving model to model_checkpoints/lite_model-0.96-013.h5\n",
            "58/58 [==============================] - 9s 161ms/sample - loss: 0.0499 - auc: 0.9710 - val_loss: 0.0544 - val_auc: 0.9637\n",
            "Epoch 14/30\n",
            " 0/58 [..............................] - ETA: 0s - loss: 0.0504 - auc: 0.9700\n",
            "Epoch 14: saving model to model_checkpoints/lite_model-0.96-014.h5\n",
            "58/58 [==============================] - 9s 161ms/sample - loss: 0.0504 - auc: 0.9700 - val_loss: 0.0545 - val_auc: 0.9623\n",
            "Epoch 15/30\n",
            " 0/58 [..............................] - ETA: 0s - loss: 0.0497 - auc: 0.9713\n",
            "Epoch 15: saving model to model_checkpoints/lite_model-0.96-015.h5\n",
            "58/58 [==============================] - 9s 161ms/sample - loss: 0.0497 - auc: 0.9713 - val_loss: 0.0542 - val_auc: 0.9638\n",
            "Epoch 16/30\n",
            " 0/58 [..............................] - ETA: 0s - loss: 0.0487 - auc: 0.9723\n",
            "Epoch 16: saving model to model_checkpoints/lite_model-0.96-016.h5\n",
            "58/58 [==============================] - 9s 161ms/sample - loss: 0.0487 - auc: 0.9723 - val_loss: 0.0542 - val_auc: 0.9627\n",
            "Epoch 17/30\n",
            " 0/58 [..............................] - ETA: 0s - loss: 0.0480 - auc: 0.9730\n",
            "Epoch 17: saving model to model_checkpoints/lite_model-0.96-017.h5\n",
            "58/58 [==============================] - 9s 162ms/sample - loss: 0.0480 - auc: 0.9730 - val_loss: 0.0539 - val_auc: 0.9638\n",
            "Epoch 18/30\n",
            " 0/58 [..............................] - ETA: 0s - loss: 0.0488 - auc: 0.9726\n",
            "Epoch 18: saving model to model_checkpoints/lite_model-0.96-018.h5\n",
            "58/58 [==============================] - 9s 162ms/sample - loss: 0.0488 - auc: 0.9726 - val_loss: 0.0539 - val_auc: 0.9628\n",
            "Epoch 19/30\n",
            " 0/58 [..............................] - ETA: 0s - loss: 0.0482 - auc: 0.9727\n",
            "Epoch 19: saving model to model_checkpoints/lite_model-0.96-019.h5\n",
            "58/58 [==============================] - 9s 162ms/sample - loss: 0.0482 - auc: 0.9727 - val_loss: 0.0541 - val_auc: 0.9640\n",
            "Epoch 20/30\n",
            " 0/58 [..............................] - ETA: 0s - loss: 0.0487 - auc: 0.9714\n",
            "Epoch 20: saving model to model_checkpoints/lite_model-0.96-020.h5\n",
            "58/58 [==============================] - 9s 162ms/sample - loss: 0.0487 - auc: 0.9714 - val_loss: 0.0530 - val_auc: 0.9637\n",
            "Epoch 21/30\n",
            " 0/58 [..............................] - ETA: 0s - loss: 0.0498 - auc: 0.9695\n",
            "Epoch 21: saving model to model_checkpoints/lite_model-0.96-021.h5\n",
            "58/58 [==============================] - 9s 163ms/sample - loss: 0.0498 - auc: 0.9695 - val_loss: 0.0541 - val_auc: 0.9625\n",
            "Epoch 22/30\n",
            " 0/58 [..............................] - ETA: 0s - loss: 0.0476 - auc: 0.9736\n",
            "Epoch 22: saving model to model_checkpoints/lite_model-0.96-022.h5\n",
            "58/58 [==============================] - 10s 165ms/sample - loss: 0.0476 - auc: 0.9736 - val_loss: 0.0539 - val_auc: 0.9623\n",
            "Epoch 23/30\n",
            " 0/58 [..............................] - ETA: 0s - loss: 0.0478 - auc: 0.9729\n",
            "Epoch 23: saving model to model_checkpoints/lite_model-0.96-023.h5\n",
            "58/58 [==============================] - 9s 164ms/sample - loss: 0.0478 - auc: 0.9729 - val_loss: 0.0534 - val_auc: 0.9640\n",
            "Epoch 24/30\n",
            " 0/58 [..............................] - ETA: 0s - loss: 0.0479 - auc: 0.9731\n",
            "Epoch 24: saving model to model_checkpoints/lite_model-0.96-024.h5\n",
            "58/58 [==============================] - 10s 164ms/sample - loss: 0.0479 - auc: 0.9731 - val_loss: 0.0532 - val_auc: 0.9637\n",
            "Epoch 25/30\n",
            " 0/58 [..............................] - ETA: 0s - loss: 0.0471 - auc: 0.9740\n",
            "Epoch 25: saving model to model_checkpoints/lite_model-0.96-025.h5\n",
            "58/58 [==============================] - 10s 164ms/sample - loss: 0.0471 - auc: 0.9740 - val_loss: 0.0540 - val_auc: 0.9634\n",
            "Epoch 26/30\n",
            " 0/58 [..............................] - ETA: 0s - loss: 0.0463 - auc: 0.9744\n",
            "Epoch 26: saving model to model_checkpoints/lite_model-0.96-026.h5\n",
            "58/58 [==============================] - 10s 165ms/sample - loss: 0.0463 - auc: 0.9744 - val_loss: 0.0536 - val_auc: 0.9631\n",
            "Epoch 27/30\n",
            " 0/58 [..............................] - ETA: 0s - loss: 0.0470 - auc: 0.9735\n",
            "Epoch 27: saving model to model_checkpoints/lite_model-0.96-027.h5\n",
            "58/58 [==============================] - 10s 164ms/sample - loss: 0.0470 - auc: 0.9735 - val_loss: 0.0535 - val_auc: 0.9640\n",
            "Epoch 28/30\n",
            " 0/58 [..............................] - ETA: 0s - loss: 0.0461 - auc: 0.9749\n",
            "Epoch 28: saving model to model_checkpoints/lite_model-0.96-028.h5\n",
            "58/58 [==============================] - 10s 164ms/sample - loss: 0.0461 - auc: 0.9749 - val_loss: 0.0535 - val_auc: 0.9639\n",
            "Epoch 29/30\n",
            " 0/58 [..............................] - ETA: 0s - loss: 0.0463 - auc: 0.9746\n",
            "Epoch 29: saving model to model_checkpoints/lite_model-0.96-029.h5\n",
            "58/58 [==============================] - 10s 165ms/sample - loss: 0.0463 - auc: 0.9746 - val_loss: 0.0523 - val_auc: 0.9646\n",
            "Epoch 30/30\n",
            " 0/58 [..............................] - ETA: 0s - loss: 0.0464 - auc: 0.9742\n",
            "Epoch 30: saving model to model_checkpoints/lite_model-0.96-030.h5\n",
            "58/58 [==============================] - 10s 165ms/sample - loss: 0.0464 - auc: 0.9742 - val_loss: 0.0543 - val_auc: 0.9635\n"
          ]
        }
      ]
    },
    {
      "cell_type": "code",
      "source": [
        "plt.plot(history.history['loss'], label=\"Train Loss\")\n",
        "plt.plot(history.history['val_loss'], label=\"Validation Loss\")\n",
        "plt.legend()"
      ],
      "metadata": {
        "colab": {
          "base_uri": "https://localhost:8080/",
          "height": 282
        },
        "id": "K91bsTM4uxNJ",
        "outputId": "2aeb8c33-a89e-4314-ca05-6446c4b143ee"
      },
      "execution_count": 17,
      "outputs": [
        {
          "output_type": "execute_result",
          "data": {
            "text/plain": [
              "<matplotlib.legend.Legend at 0x7f145b85a490>"
            ]
          },
          "metadata": {},
          "execution_count": 17
        },
        {
          "output_type": "display_data",
          "data": {
            "text/plain": [
              "<Figure size 432x288 with 1 Axes>"
            ],
            "image/png": "[encoded data removed]"
          },
          "metadata": {
            "needs_background": "light"
          }
        }
      ]
    },
    {
      "cell_type": "code",
      "source": [
        "plt.plot(history.history['auc'], label=\"Train AUPRC\")\n",
        "plt.plot(history.history['val_auc'], label=\"Validation AURPC\")\n",
        "plt.legend()"
      ],
      "metadata": {
        "colab": {
          "base_uri": "https://localhost:8080/",
          "height": 282
        },
        "id": "NRlrWmxYHW6h",
        "outputId": "8b814827-3774-446c-8ef1-dc4dfdb0b432"
      },
      "execution_count": 18,
      "outputs": [
        {
          "output_type": "execute_result",
          "data": {
            "text/plain": [
              "<matplotlib.legend.Legend at 0x7f147b37ebd0>"
            ]
          },
          "metadata": {},
          "execution_count": 18
        },
        {
          "output_type": "display_data",
          "data": {
            "text/plain": [
              "<Figure size 432x288 with 1 Axes>"
            ],
            "image/png": "[encoded data removed]"
          },
          "metadata": {
            "needs_background": "light"
          }
        }
      ]
    },
    {
      "cell_type": "markdown",
      "source": [
        ""
      ],
      "metadata": {
        "id": "KOxmCPbuHc1p"
      }
    },
    {
      "cell_type": "code",
      "source": [
        "# Select the model with the best val_auc (save_best_only=True in ModelCheckpoint not working)\n",
        "! ls -1 model_checkpoints/*model*.h5 | sort -n | tail -n 1\n",
        "!cp $(ls -1 model_checkpoints/*model*.h5 | sort -n | tail -n 1) model_checkpoints/last.h5"
      ],
      "metadata": {
        "colab": {
          "base_uri": "https://localhost:8080/"
        },
        "id": "KCdeC-qIHdBT",
        "outputId": "88aeed97-6488-43e6-a707-9eb71ed138f3"
      },
      "execution_count": 19,
      "outputs": [
        {
          "output_type": "stream",
          "name": "stdout",
          "text": [
            "model_checkpoints/lite_model-0.96-030.h5\n"
          ]
        }
      ]
    },
    {
      "cell_type": "code",
      "source": [
        "model.load_weights(\"model_checkpoints/last.h5\")"
      ],
      "metadata": {
        "id": "Z8Ngv5qQH8Sx"
      },
      "execution_count": 20,
      "outputs": []
    },
    {
      "cell_type": "code",
      "source": [
        "probs = model.predict_on_batch(test_data)"
      ],
      "metadata": {
        "id": "10gQ4kaRICu7"
      },
      "execution_count": 21,
      "outputs": []
    },
    {
      "cell_type": "code",
      "source": [
        "precision, recall, thresholds = precision_recall_curve(test_label, probs, sample_weight=test_weight)\n",
        "plt.plot(recall, precision)\n",
        "plt.xlabel(\"Recall\")\n",
        "plt.ylabel(\"Precision\")\n",
        "print(\"Area under precision-recall curve: \", auc(recall, precision))"
      ],
      "metadata": {
        "colab": {
          "base_uri": "https://localhost:8080/",
          "height": 296
        },
        "id": "uYECrIy_KECt",
        "outputId": "94b78edd-2eec-471d-a679-2640c0833aa8"
      },
      "execution_count": 22,
      "outputs": [
        {
          "output_type": "stream",
          "name": "stdout",
          "text": [
            "Area under precision-recall curve:  0.9676979076711236\n"
          ]
        },
        {
          "output_type": "display_data",
          "data": {
            "text/plain": [
              "<Figure size 432x288 with 1 Axes>"
            ],
            "image/png": "[encoded data removed]"
          },
          "metadata": {
            "needs_background": "light"
          }
        }
      ]
    },
    {
      "cell_type": "code",
      "source": [
        "bin = model.predict(test_data)\n",
        "bin_sig = bin[test_label == 1][:, 0]\n",
        "bin_bkg = bin[test_label == 0][:, 0]\n",
        "weight_sig = test_weight[test_label == 1]\n",
        "weight_bkg = test_weight[test_label == 0]\n",
        "\n",
        "test_virgin_data = {key: virgin_data[key][int(N*0.7) : int(N*0.9)] for key in name_map}\n",
        "\n",
        "en = test_virgin_data[\"summary\"][:, 0]\n",
        "en_sig = en[test_label == 1]\n",
        "en_bkg = en[test_label == 0]\n",
        "\n",
        "plt.hist(en_sig, range=(50, 100), bins=50, weights=weight_sig * bin_sig, color=\"blue\")\n",
        "plt.hist(en_bkg, range=(50, 100), bins=50, weights=weight_bkg * bin_bkg, color=\"red\")"
      ],
      "metadata": {
        "colab": {
          "base_uri": "https://localhost:8080/",
          "height": 543
        },
        "id": "3aL-GOTMPP4I",
        "outputId": "37b825f8-d26a-4c71-a542-1a9ad072ed5a"
      },
      "execution_count": 23,
      "outputs": [
        {
          "output_type": "execute_result",
          "data": {
            "text/plain": [
              "(array([35.19928426, 71.35750101, 40.77339904, 17.21528153, 10.54880846,\n",
              "        37.10397066, 14.05285864,  6.97982869, 18.15781298, 18.21615615,\n",
              "         0.36741536,  2.03986337, 17.07322331,  2.27591857,  0.15180331,\n",
              "         0.17052048,  8.83927494,  0.19415336,  0.2228992 ,  0.22708358,\n",
              "         0.1905208 ,  0.14001154, 17.69865845,  0.21793446,  0.16371385,\n",
              "         0.21419249,  0.13295248,  0.1675413 ,  0.19685573,  0.63616568,\n",
              "         0.15478292,  0.14752721,  0.18070115,  0.12899803,  0.16670467,\n",
              "         0.19451631,  0.12885881,  0.19609811,  0.11919616,  0.1793359 ,\n",
              "         0.18335464,  0.13482248,  0.12833901,  0.1711923 ,  0.20718723,\n",
              "         0.17903906,  0.14123967,  0.16347245,  0.13126745,  0.14739814]),\n",
              " array([ 50.,  51.,  52.,  53.,  54.,  55.,  56.,  57.,  58.,  59.,  60.,\n",
              "         61.,  62.,  63.,  64.,  65.,  66.,  67.,  68.,  69.,  70.,  71.,\n",
              "         72.,  73.,  74.,  75.,  76.,  77.,  78.,  79.,  80.,  81.,  82.,\n",
              "         83.,  84.,  85.,  86.,  87.,  88.,  89.,  90.,  91.,  92.,  93.,\n",
              "         94.,  95.,  96.,  97.,  98.,  99., 100.]),\n",
              " <a list of 50 Patch objects>)"
            ]
          },
          "metadata": {},
          "execution_count": 23
        },
        {
          "output_type": "display_data",
          "data": {
            "text/plain": [
              "<Figure size 432x288 with 1 Axes>"
            ],
            "image/png": "[encoded data removed]"
          },
          "metadata": {
            "needs_background": "light"
          }
        }
      ]
    },
    {
      "cell_type": "code",
      "source": [
        ""
      ],
      "metadata": {
        "id": "SaZ-YIqyPRR7"
      },
      "execution_count": 23,
      "outputs": []
    }
  ]
}