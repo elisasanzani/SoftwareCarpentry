{
 "cells": [
  {
   "cell_type": "markdown",
   "id": "ed863865",
   "metadata": {},
   "source": [
    "Yesterday summary:\n",
    "- define variables\n",
    "- basic data types\n",
    "- built in functions\n",
    "- lists=complex data structure, sequential data type\n",
    "- import, plots"
   ]
  },
  {
   "cell_type": "code",
   "execution_count": 1,
   "id": "a7c283f3",
   "metadata": {},
   "outputs": [
    {
     "name": "stdout",
     "output_type": "stream",
     "text": [
      "gapminder_all.csv\t  gapminder_gdp_americas.csv  gapminder_gdp_europe.csv\r\n",
      "gapminder_gdp_africa.csv  gapminder_gdp_asia.csv      gapminder_gdp_oceania.csv\r\n"
     ]
    }
   ],
   "source": [
    "#Today: FOR LOOPS, control conditions, functions\n",
    "!ls data"
   ]
  },
  {
   "cell_type": "code",
   "execution_count": 2,
   "id": "9166690c",
   "metadata": {},
   "outputs": [],
   "source": [
    "import glob #to list files"
   ]
  },
  {
   "cell_type": "code",
   "execution_count": 3,
   "id": "a7ca8e36",
   "metadata": {},
   "outputs": [
    {
     "name": "stdout",
     "output_type": "stream",
     "text": [
      "Help on module glob:\n",
      "\n",
      "NAME\n",
      "    glob - Filename globbing utility.\n",
      "\n",
      "MODULE REFERENCE\n",
      "    https://docs.python.org/3.9/library/glob\n",
      "    \n",
      "    The following documentation is automatically generated from the Python\n",
      "    source files.  It may be incomplete, incorrect or include features that\n",
      "    are considered implementation detail and may vary between Python\n",
      "    implementations.  When in doubt, consult the module reference at the\n",
      "    location listed above.\n",
      "\n",
      "FUNCTIONS\n",
      "    escape(pathname)\n",
      "        Escape all special characters.\n",
      "    \n",
      "    glob(pathname, *, recursive=False)\n",
      "        Return a list of paths matching a pathname pattern.\n",
      "        \n",
      "        The pattern may contain simple shell-style wildcards a la\n",
      "        fnmatch. However, unlike fnmatch, filenames starting with a\n",
      "        dot are special cases that are not matched by '*' and '?'\n",
      "        patterns.\n",
      "        \n",
      "        If recursive is true, the pattern '**' will match any files and\n",
      "        zero or more directories and subdirectories.\n",
      "    \n",
      "    iglob(pathname, *, recursive=False)\n",
      "        Return an iterator which yields the paths matching a pathname pattern.\n",
      "        \n",
      "        The pattern may contain simple shell-style wildcards a la\n",
      "        fnmatch. However, unlike fnmatch, filenames starting with a\n",
      "        dot are special cases that are not matched by '*' and '?'\n",
      "        patterns.\n",
      "        \n",
      "        If recursive is true, the pattern '**' will match any files and\n",
      "        zero or more directories and subdirectories.\n",
      "\n",
      "DATA\n",
      "    __all__ = ['glob', 'iglob', 'escape']\n",
      "\n",
      "FILE\n",
      "    /usr/lib64/python3.9/glob.py\n",
      "\n",
      "\n"
     ]
    }
   ],
   "source": [
    "help(glob)"
   ]
  },
  {
   "cell_type": "code",
   "execution_count": 4,
   "id": "ec39e390",
   "metadata": {},
   "outputs": [
    {
     "name": "stdout",
     "output_type": "stream",
     "text": [
      "Help on function glob in module glob:\n",
      "\n",
      "glob(pathname, *, recursive=False)\n",
      "    Return a list of paths matching a pathname pattern.\n",
      "    \n",
      "    The pattern may contain simple shell-style wildcards a la\n",
      "    fnmatch. However, unlike fnmatch, filenames starting with a\n",
      "    dot are special cases that are not matched by '*' and '?'\n",
      "    patterns.\n",
      "    \n",
      "    If recursive is true, the pattern '**' will match any files and\n",
      "    zero or more directories and subdirectories.\n",
      "\n"
     ]
    }
   ],
   "source": [
    "help(glob.glob) #module.function"
   ]
  },
  {
   "cell_type": "code",
   "execution_count": 6,
   "id": "abb89ddf",
   "metadata": {},
   "outputs": [
    {
     "data": {
      "text/plain": [
       "['data/gapminder_all.csv',\n",
       " 'data/gapminder_gdp_africa.csv',\n",
       " 'data/gapminder_gdp_americas.csv',\n",
       " 'data/gapminder_gdp_asia.csv',\n",
       " 'data/gapminder_gdp_europe.csv',\n",
       " 'data/gapminder_gdp_oceania.csv',\n",
       " 'data/dummy.txt']"
      ]
     },
     "execution_count": 6,
     "metadata": {},
     "output_type": "execute_result"
    }
   ],
   "source": [
    "glob.glob('data/*')"
   ]
  },
  {
   "cell_type": "code",
   "execution_count": 9,
   "id": "06fa742d",
   "metadata": {},
   "outputs": [],
   "source": [
    "file_list = glob.glob('data/*.csv')"
   ]
  },
  {
   "cell_type": "code",
   "execution_count": 10,
   "id": "d7789ec0",
   "metadata": {},
   "outputs": [
    {
     "data": {
      "text/plain": [
       "6"
      ]
     },
     "execution_count": 10,
     "metadata": {},
     "output_type": "execute_result"
    }
   ],
   "source": [
    "len(file_list)"
   ]
  },
  {
   "cell_type": "code",
   "execution_count": 13,
   "id": "25229980",
   "metadata": {},
   "outputs": [
    {
     "name": "stdout",
     "output_type": "stream",
     "text": [
      "data/gapminder_all.csv\n",
      "data/gapminder_gdp_africa.csv\n",
      "data/gapminder_gdp_americas.csv\n",
      "data/gapminder_gdp_asia.csv\n",
      "data/gapminder_gdp_europe.csv\n",
      "data/gapminder_gdp_oceania.csv\n"
     ]
    }
   ],
   "source": [
    "for i in file_list:\n",
    "    print(i)"
   ]
  },
  {
   "cell_type": "code",
   "execution_count": 20,
   "id": "50a491fc",
   "metadata": {},
   "outputs": [
    {
     "name": "stdout",
     "output_type": "stream",
     "text": [
      "38 data/gapminder_all.csv\n",
      "13 data/gapminder_gdp_africa.csv\n",
      "14 data/gapminder_gdp_americas.csv\n",
      "13 data/gapminder_gdp_asia.csv\n",
      "13 data/gapminder_gdp_europe.csv\n",
      "13 data/gapminder_gdp_oceania.csv\n"
     ]
    }
   ],
   "source": [
    "import pandas as pd\n",
    "for file_name in file_list:\n",
    "    data = pd.read_csv(file_name)\n",
    "    columns = list(data)\n",
    "    print(len(columns), file_name)"
   ]
  },
  {
   "cell_type": "code",
   "execution_count": 21,
   "id": "37500659",
   "metadata": {},
   "outputs": [
    {
     "data": {
      "text/plain": [
       "13"
      ]
     },
     "execution_count": 21,
     "metadata": {},
     "output_type": "execute_result"
    }
   ],
   "source": [
    "len(columns) \n",
    "#scope of columns is the for loop, but still functions in the global scope and remain so it has its last value"
   ]
  },
  {
   "cell_type": "code",
   "execution_count": 23,
   "id": "62c902da",
   "metadata": {},
   "outputs": [
    {
     "name": "stdout",
     "output_type": "stream",
     "text": [
      "data/gapminder_all.csv\n",
      "data/gapminder_gdp_americas.csv 14\n",
      "data/gapminder_gdp_europe.csv 30\n"
     ]
    }
   ],
   "source": [
    "# if .. else .. = flow control\n",
    "# oppure elif\n",
    "for file_name in file_list:\n",
    "    data = pd.read_csv(file_name)\n",
    "    if 'americas' in file_name:\n",
    "        print(file_name, len(list(data)))\n",
    "    elif 'europe' in file_name:\n",
    "        print(file_name, len(list(data.index)))\n",
    "    elif 'all' in file_name:\n",
    "        print(file_name)\n",
    "    else:\n",
    "        pass"
   ]
  },
  {
   "cell_type": "code",
   "execution_count": 31,
   "id": "e3fc85d5",
   "metadata": {},
   "outputs": [
    {
     "name": "stdout",
     "output_type": "stream",
     "text": [
      "4 8\n",
      "(4, 8)\n"
     ]
    },
    {
     "data": {
      "text/plain": [
       "tuple"
      ]
     },
     "execution_count": 31,
     "metadata": {},
     "output_type": "execute_result"
    }
   ],
   "source": [
    "x,y,z = 1,3,18\n",
    "#print(x,y,z)\n",
    "def process(x):\n",
    "    square = x*x\n",
    "    cubic = square * x\n",
    "    return square, cubic\n",
    "\n",
    "a,b = process(2)\n",
    "print(a,b)\n",
    "\n",
    "r=process(2)\n",
    "print(r)\n",
    "type(r)"
   ]
  },
  {
   "cell_type": "code",
   "execution_count": 33,
   "id": "a242739a",
   "metadata": {},
   "outputs": [
    {
     "name": "stdout",
     "output_type": "stream",
     "text": [
      "(4, 8, 16)\n"
     ]
    }
   ],
   "source": [
    "def process_3(x):\n",
    "    return x*x, x**3, x**4\n",
    "r3 = process_3(2)\n",
    "print(r3)"
   ]
  },
  {
   "cell_type": "code",
   "execution_count": 34,
   "id": "7bf72219",
   "metadata": {},
   "outputs": [
    {
     "name": "stdout",
     "output_type": "stream",
     "text": [
      "['__add__', '__class__', '__class_getitem__', '__contains__', '__delattr__', '__dir__', '__doc__', '__eq__', '__format__', '__ge__', '__getattribute__', '__getitem__', '__getnewargs__', '__gt__', '__hash__', '__init__', '__init_subclass__', '__iter__', '__le__', '__len__', '__lt__', '__mul__', '__ne__', '__new__', '__reduce__', '__reduce_ex__', '__repr__', '__rmul__', '__setattr__', '__sizeof__', '__str__', '__subclasshook__', 'count', 'index']\n"
     ]
    }
   ],
   "source": [
    "print(dir(r3))"
   ]
  },
  {
   "cell_type": "code",
   "execution_count": 36,
   "id": "58911f9b",
   "metadata": {},
   "outputs": [
    {
     "name": "stdout",
     "output_type": "stream",
     "text": [
      "['__add__', '__class__', '__class_getitem__', '__contains__', '__delattr__', '__delitem__', '__dir__', '__doc__', '__eq__', '__format__', '__ge__', '__getattribute__', '__getitem__', '__gt__', '__hash__', '__iadd__', '__imul__', '__init__', '__init_subclass__', '__iter__', '__le__', '__len__', '__lt__', '__mul__', '__ne__', '__new__', '__reduce__', '__reduce_ex__', '__repr__', '__reversed__', '__rmul__', '__setattr__', '__setitem__', '__sizeof__', '__str__', '__subclasshook__', 'append', 'clear', 'copy', 'count', 'extend', 'index', 'insert', 'pop', 'remove', 'reverse', 'sort']\n"
     ]
    }
   ],
   "source": [
    "print(dir(file_list))"
   ]
  },
  {
   "cell_type": "code",
   "execution_count": 37,
   "id": "d3b51f24",
   "metadata": {},
   "outputs": [],
   "source": [
    "def process_no(x):\n",
    "    square = x*x\n",
    "    \n",
    "r_no = process_no(2)"
   ]
  },
  {
   "cell_type": "code",
   "execution_count": 38,
   "id": "f3265381",
   "metadata": {},
   "outputs": [
    {
     "name": "stdout",
     "output_type": "stream",
     "text": [
      "None\n"
     ]
    }
   ],
   "source": [
    "print(r_no)"
   ]
  },
  {
   "cell_type": "code",
   "execution_count": 58,
   "id": "588fcb5b",
   "metadata": {},
   "outputs": [
    {
     "name": "stdout",
     "output_type": "stream",
     "text": [
      "4\n",
      "8\n",
      "16\n"
     ]
    }
   ],
   "source": [
    "for item in r3:\n",
    "    print(item)"
   ]
  },
  {
   "cell_type": "code",
   "execution_count": 59,
   "id": "4a2b0dbb",
   "metadata": {},
   "outputs": [
    {
     "name": "stdout",
     "output_type": "stream",
     "text": [
      "count_down 5\n",
      "count_down 4\n",
      "count_down 3\n",
      "count_down 2\n",
      "count_down 1\n"
     ]
    }
   ],
   "source": [
    "def count_down(x):\n",
    "    timer = x\n",
    "    while timer > 0:\n",
    "        print('count_down', timer)\n",
    "        timer = timer -1\n",
    "    return\n",
    "count_down(5)"
   ]
  },
  {
   "cell_type": "code",
   "execution_count": 60,
   "id": "32448db0",
   "metadata": {},
   "outputs": [
    {
     "name": "stdout",
     "output_type": "stream",
     "text": [
      "count_down 5\n",
      "count_down 4\n",
      "count_down 3\n",
      "count_down 2\n",
      "count_down 1\n"
     ]
    }
   ],
   "source": [
    "def count_down(x, label):\n",
    "    timer = x\n",
    "    while timer > 0 and label=='count':\n",
    "        print('count_down', timer)\n",
    "        timer = timer -1\n",
    "    return\n",
    "\n",
    "count_down(5, 'count')"
   ]
  },
  {
   "cell_type": "code",
   "execution_count": 61,
   "id": "2939edfe",
   "metadata": {},
   "outputs": [
    {
     "name": "stdout",
     "output_type": "stream",
     "text": [
      "None\n"
     ]
    }
   ],
   "source": [
    "print ( count_down(5, 'skip') )"
   ]
  },
  {
   "cell_type": "code",
   "execution_count": 62,
   "id": "8c2a139c",
   "metadata": {},
   "outputs": [
    {
     "name": "stdout",
     "output_type": "stream",
     "text": [
      "5\n",
      "4\n",
      "3\n",
      "2\n",
      "1\n"
     ]
    }
   ],
   "source": [
    "def count_down(x):\n",
    "    for timer in range(x,0,-1):\n",
    "        print(timer)\n",
    "        \n",
    "count_down(5)"
   ]
  },
  {
   "cell_type": "code",
   "execution_count": 71,
   "id": "15468b92",
   "metadata": {},
   "outputs": [
    {
     "name": "stdout",
     "output_type": "stream",
     "text": [
      "[0, 1, 2]\n",
      "(4, 8, 16)\n"
     ]
    }
   ],
   "source": [
    "index_list = list(range(0,len(r3),1)) \n",
    "print(index_list)\n",
    "print(r3)"
   ]
  },
  {
   "cell_type": "code",
   "execution_count": 72,
   "id": "9108b67d",
   "metadata": {},
   "outputs": [
    {
     "name": "stdout",
     "output_type": "stream",
     "text": [
      "0 4\n",
      "1 8\n",
      "2 16\n"
     ]
    }
   ],
   "source": [
    "#zip combines 2 things toegether\n",
    "for index, value in zip(index_list, r3):\n",
    "    print(index, value)"
   ]
  },
  {
   "cell_type": "markdown",
   "id": "f001b0ef",
   "metadata": {},
   "source": [
    "Summary:\n",
    "- for vs while loops\n",
    "- if elif else\n",
    "- how to define a function"
   ]
  },
  {
   "cell_type": "code",
   "execution_count": null,
   "id": "b4b62e12",
   "metadata": {},
   "outputs": [],
   "source": []
  }
 ],
 "metadata": {
  "kernelspec": {
   "display_name": "Python 3 (ipykernel)",
   "language": "python",
   "name": "python3"
  },
  "language_info": {
   "codemirror_mode": {
    "name": "ipython",
    "version": 3
   },
   "file_extension": ".py",
   "mimetype": "text/x-python",
   "name": "python",
   "nbconvert_exporter": "python",
   "pygments_lexer": "ipython3",
   "version": "3.9.9"
  }
 },
 "nbformat": 4,
 "nbformat_minor": 5
}
