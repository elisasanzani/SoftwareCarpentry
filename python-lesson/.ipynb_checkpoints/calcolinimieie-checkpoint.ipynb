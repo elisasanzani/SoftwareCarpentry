{
 "cells": [
  {
   "cell_type": "code",
   "execution_count": 1,
   "id": "fdd84cb1",
   "metadata": {},
   "outputs": [],
   "source": [
    "import math\n"
   ]
  },
  {
   "cell_type": "code",
   "execution_count": 19,
   "id": "c6581ee4",
   "metadata": {},
   "outputs": [],
   "source": [
    "p0=4.904E6\n",
    "errp0 = 1.227E5\n",
    "p1=-5.625E4\n",
    "errp1=4.704E3\n",
    "\n",
    "'''\n",
    "p0=6.058E6\n",
    "errp0 = 2.784E5\n",
    "p1=-9.362E4\n",
    "errp1=1.107E4\n",
    "'''\n"
   ]
  },
  {
   "cell_type": "code",
   "execution_count": 20,
   "id": "38b3a040",
   "metadata": {},
   "outputs": [
    {
     "name": "stdout",
     "output_type": "stream",
     "text": [
      "-0.011470228384991843\n"
     ]
    }
   ],
   "source": [
    "rat = p1/p0\n",
    "print(rat)"
   ]
  },
  {
   "cell_type": "code",
   "execution_count": 21,
   "id": "69abc69d",
   "metadata": {},
   "outputs": [
    {
     "name": "stdout",
     "output_type": "stream",
     "text": [
      "-0.0010012293547116404\n"
     ]
    }
   ],
   "source": [
    "errrat = math.sqrt( (errp0/p0)**2 + (errp1/p1)**2 ) *rat\n",
    "print(errrat)"
   ]
  },
  {
   "cell_type": "code",
   "execution_count": 22,
   "id": "01307758",
   "metadata": {},
   "outputs": [
    {
     "name": "stdout",
     "output_type": "stream",
     "text": [
      "-0.10012293547116405\n"
     ]
    }
   ],
   "source": [
    "print(errrat*100)"
   ]
  },
  {
   "cell_type": "code",
   "execution_count": null,
   "id": "ab8a4cd1",
   "metadata": {},
   "outputs": [],
   "source": []
  }
 ],
 "metadata": {
  "kernelspec": {
   "display_name": "Python 3 (ipykernel)",
   "language": "python",
   "name": "python3"
  },
  "language_info": {
   "codemirror_mode": {
    "name": "ipython",
    "version": 3
   },
   "file_extension": ".py",
   "mimetype": "text/x-python",
   "name": "python",
   "nbconvert_exporter": "python",
   "pygments_lexer": "ipython3",
   "version": "3.9.9"
  }
 },
 "nbformat": 4,
 "nbformat_minor": 5
}
