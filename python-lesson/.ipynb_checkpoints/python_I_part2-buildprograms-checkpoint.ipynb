{
 "cells": [
  {
   "cell_type": "markdown",
   "id": "b355447b",
   "metadata": {},
   "source": [
    "python libraries and modules https://docs.python.org/3/py-modindex.html#cap-m\n",
    "keywords\n",
    "complex data structures --> pandas\n",
    "work with files: generate data a nd files --> matplotlib"
   ]
  },
  {
   "cell_type": "code",
   "execution_count": 32,
   "id": "b0c27ebf",
   "metadata": {},
   "outputs": [
    {
     "name": "stdout",
     "output_type": "stream",
     "text": [
      "python_I.ipynb\tpython_I_part2-buildprograms.ipynb\r\n"
     ]
    }
   ],
   "source": [
    "!ls #fa comand su terminale"
   ]
  },
  {
   "cell_type": "code",
   "execution_count": 33,
   "id": "e25ede2b",
   "metadata": {},
   "outputs": [],
   "source": [
    "import math"
   ]
  },
  {
   "cell_type": "code",
   "execution_count": 34,
   "id": "ec9a58d4",
   "metadata": {},
   "outputs": [
    {
     "data": {
      "text/plain": [
       "<module 'math' from '/usr/lib64/python3.9/lib-dynload/math.cpython-39-x86_64-linux-gnu.so'>"
      ]
     },
     "execution_count": 34,
     "metadata": {},
     "output_type": "execute_result"
    }
   ],
   "source": [
    "math"
   ]
  },
  {
   "cell_type": "code",
   "execution_count": 35,
   "id": "1db99330",
   "metadata": {},
   "outputs": [
    {
     "data": {
      "text/plain": [
       "2.0"
      ]
     },
     "execution_count": 35,
     "metadata": {},
     "output_type": "execute_result"
    }
   ],
   "source": [
    "y = math.exp(2)\n",
    "math.log(y)"
   ]
  },
  {
   "cell_type": "code",
   "execution_count": 36,
   "id": "f9f6f183",
   "metadata": {},
   "outputs": [
    {
     "data": {
      "text/plain": [
       "3.0"
      ]
     },
     "execution_count": 36,
     "metadata": {},
     "output_type": "execute_result"
    }
   ],
   "source": [
    "import math as m\n",
    "m.log10(1E3)"
   ]
  },
  {
   "cell_type": "code",
   "execution_count": 37,
   "id": "b49ba330",
   "metadata": {},
   "outputs": [
    {
     "data": {
      "text/plain": [
       "4.0"
      ]
     },
     "execution_count": 37,
     "metadata": {},
     "output_type": "execute_result"
    }
   ],
   "source": [
    "from math import log10\n",
    "log10(1E4)"
   ]
  },
  {
   "cell_type": "code",
   "execution_count": 38,
   "id": "b22f1d48",
   "metadata": {},
   "outputs": [],
   "source": [
    "from math import * #use with caution because a lot of info is hissen inside the *\n",
    "import random as rd\n"
   ]
  },
  {
   "cell_type": "markdown",
   "id": "3945248a",
   "metadata": {},
   "source": [
    "IMP: ti fa usare parole riservate sue come tipo print come nomi di variabili ma poi si rompe tutto\n",
    "quindi: NON FARLO"
   ]
  },
  {
   "cell_type": "code",
   "execution_count": null,
   "id": "e37c075d",
   "metadata": {},
   "outputs": [],
   "source": [
    "Sequence types sono tutte le liste e similari"
   ]
  },
  {
   "cell_type": "code",
   "execution_count": 62,
   "id": "7eb616e8",
   "metadata": {},
   "outputs": [
    {
     "data": {
      "text/plain": [
       "['__doc__',\n",
       " '__file__',\n",
       " '__loader__',\n",
       " '__name__',\n",
       " '__package__',\n",
       " '__spec__',\n",
       " 'acos',\n",
       " 'acosh',\n",
       " 'asin',\n",
       " 'asinh',\n",
       " 'atan',\n",
       " 'atan2',\n",
       " 'atanh',\n",
       " 'ceil',\n",
       " 'comb',\n",
       " 'copysign',\n",
       " 'cos',\n",
       " 'cosh',\n",
       " 'degrees',\n",
       " 'dist',\n",
       " 'e',\n",
       " 'erf',\n",
       " 'erfc',\n",
       " 'exp',\n",
       " 'expm1',\n",
       " 'fabs',\n",
       " 'factorial',\n",
       " 'floor',\n",
       " 'fmod',\n",
       " 'frexp',\n",
       " 'fsum',\n",
       " 'gamma',\n",
       " 'gcd',\n",
       " 'hypot',\n",
       " 'inf',\n",
       " 'isclose',\n",
       " 'isfinite',\n",
       " 'isinf',\n",
       " 'isnan',\n",
       " 'isqrt',\n",
       " 'lcm',\n",
       " 'ldexp',\n",
       " 'lgamma',\n",
       " 'log',\n",
       " 'log10',\n",
       " 'log1p',\n",
       " 'log2',\n",
       " 'modf',\n",
       " 'nan',\n",
       " 'nextafter',\n",
       " 'perm',\n",
       " 'pi',\n",
       " 'pow',\n",
       " 'prod',\n",
       " 'radians',\n",
       " 'remainder',\n",
       " 'sin',\n",
       " 'sinh',\n",
       " 'sqrt',\n",
       " 'tan',\n",
       " 'tanh',\n",
       " 'tau',\n",
       " 'trunc',\n",
       " 'ulp']"
      ]
     },
     "execution_count": 62,
     "metadata": {},
     "output_type": "execute_result"
    }
   ],
   "source": [
    "functions = dir(math)\n",
    "#The dir () function returns all properties and methods of the specified object, without the values. This function wil\n",
    "functions"
   ]
  },
  {
   "cell_type": "code",
   "execution_count": 42,
   "id": "58855d4b",
   "metadata": {},
   "outputs": [
    {
     "data": {
      "text/plain": [
       "list"
      ]
     },
     "execution_count": 42,
     "metadata": {},
     "output_type": "execute_result"
    }
   ],
   "source": [
    "type(functions) #functions è una list"
   ]
  },
  {
   "cell_type": "code",
   "execution_count": 43,
   "id": "5fda8c8a",
   "metadata": {},
   "outputs": [
    {
     "data": {
      "text/plain": [
       "64"
      ]
     },
     "execution_count": 43,
     "metadata": {},
     "output_type": "execute_result"
    }
   ],
   "source": [
    "len(functions)"
   ]
  },
  {
   "cell_type": "code",
   "execution_count": 49,
   "id": "f0ddcfe0",
   "metadata": {},
   "outputs": [
    {
     "data": {
      "text/plain": [
       "'math'"
      ]
     },
     "execution_count": 49,
     "metadata": {},
     "output_type": "execute_result"
    }
   ],
   "source": [
    "math.__name__ #it is a string. It is an attribute ( not a function like log & co che chiamo con le parentesi tonde aperte e chiuse alla fine)"
   ]
  },
  {
   "cell_type": "code",
   "execution_count": 46,
   "id": "449842e0",
   "metadata": {},
   "outputs": [
    {
     "data": {
      "text/plain": [
       "'This module provides access to the mathematical functions\\ndefined by the C standard.'"
      ]
     },
     "execution_count": 46,
     "metadata": {},
     "output_type": "execute_result"
    }
   ],
   "source": [
    "math.__doc__"
   ]
  },
  {
   "cell_type": "code",
   "execution_count": 55,
   "id": "a992bc3e",
   "metadata": {},
   "outputs": [
    {
     "data": {
      "text/plain": [
       "['acos', 'acosh', 'asin', 'asinh']"
      ]
     },
     "execution_count": 55,
     "metadata": {},
     "output_type": "execute_result"
    }
   ],
   "source": [
    "functions[6:10]"
   ]
  },
  {
   "cell_type": "code",
   "execution_count": 57,
   "id": "7bfe51c5",
   "metadata": {},
   "outputs": [
    {
     "data": {
      "text/plain": [
       "['__add__',\n",
       " '__class__',\n",
       " '__class_getitem__',\n",
       " '__contains__',\n",
       " '__delattr__',\n",
       " '__delitem__',\n",
       " '__dir__',\n",
       " '__doc__',\n",
       " '__eq__',\n",
       " '__format__',\n",
       " '__ge__',\n",
       " '__getattribute__',\n",
       " '__getitem__',\n",
       " '__gt__',\n",
       " '__hash__',\n",
       " '__iadd__',\n",
       " '__imul__',\n",
       " '__init__',\n",
       " '__init_subclass__',\n",
       " '__iter__',\n",
       " '__le__',\n",
       " '__len__',\n",
       " '__lt__',\n",
       " '__mul__',\n",
       " '__ne__',\n",
       " '__new__',\n",
       " '__reduce__',\n",
       " '__reduce_ex__',\n",
       " '__repr__',\n",
       " '__reversed__',\n",
       " '__rmul__',\n",
       " '__setattr__',\n",
       " '__setitem__',\n",
       " '__sizeof__',\n",
       " '__str__',\n",
       " '__subclasshook__',\n",
       " 'append',\n",
       " 'clear',\n",
       " 'copy',\n",
       " 'count',\n",
       " 'extend',\n",
       " 'index',\n",
       " 'insert',\n",
       " 'pop',\n",
       " 'remove',\n",
       " 'reverse',\n",
       " 'sort']"
      ]
     },
     "execution_count": 57,
     "metadata": {},
     "output_type": "execute_result"
    }
   ],
   "source": [
    "dir(functions)"
   ]
  },
  {
   "cell_type": "markdown",
   "id": "3b7f641d",
   "metadata": {},
   "source": [
    "When a function is __ they are not called directly, they are accessed by other native python functions generally"
   ]
  },
  {
   "cell_type": "code",
   "execution_count": 83,
   "id": "047f4ab8",
   "metadata": {},
   "outputs": [
    {
     "name": "stdout",
     "output_type": "stream",
     "text": [
      "3\n",
      "['rice', 'salad', 'apple', 'pasta']\n"
     ]
    }
   ],
   "source": [
    "shopping = ['rice', 'salad', 'apple']\n",
    "print(len(shopping))\n",
    "shopping.append('pasta')\n",
    "print(shopping)"
   ]
  },
  {
   "cell_type": "code",
   "execution_count": 84,
   "id": "a896b991",
   "metadata": {},
   "outputs": [
    {
     "data": {
      "text/plain": [
       "['rice', 'salad', 'apple', 'banana', 'pasta']"
      ]
     },
     "execution_count": 84,
     "metadata": {},
     "output_type": "execute_result"
    }
   ],
   "source": [
    "shopping.insert(3,'banana')\n",
    "shopping"
   ]
  },
  {
   "cell_type": "code",
   "execution_count": 85,
   "id": "9f42685e",
   "metadata": {},
   "outputs": [
    {
     "data": {
      "text/plain": [
       "['rice', 'salad', 'banana', 'pasta']"
      ]
     },
     "execution_count": 85,
     "metadata": {},
     "output_type": "execute_result"
    }
   ],
   "source": [
    "shopping.remove('apple') #prende un valore degli elementi della listo, non una posizione\n",
    "# removes only the FIRST occurrence of the object in the list\n",
    "shopping"
   ]
  },
  {
   "cell_type": "code",
   "execution_count": 87,
   "id": "85341e12",
   "metadata": {},
   "outputs": [
    {
     "name": "stdout",
     "output_type": "stream",
     "text": [
      "--2022-03-28 21:41:42--  https://swcarpentry.github.io/python-novice-gapminder/files/python-novice-gapminder-data.zip\n",
      "Risoluzione di swcarpentry.github.io (swcarpentry.github.io)... 185.199.110.153, 185.199.109.153, 185.199.111.153, ...\n",
      "Connessione a swcarpentry.github.io (swcarpentry.github.io)|185.199.110.153|:443... connesso.\n",
      "Richiesta HTTP inviata, in attesa di risposta... 200 OK\n",
      "Lunghezza: 38471 (38K) [application/zip]\n",
      "Salvataggio in: «python-novice-gapminder-data.zip»\n",
      "\n",
      "python-novice-gapmi 100%[===================>]  37,57K   163KB/s    in 0,2s    \n",
      "\n",
      "2022-03-28 21:41:43 (163 KB/s) - «python-novice-gapminder-data.zip» salvato [38471/38471]\n",
      "\n"
     ]
    }
   ],
   "source": [
    "!wget https://swcarpentry.github.io/python-novice-gapminder/files/python-novice-gapminder-data.zip"
   ]
  },
  {
   "cell_type": "code",
   "execution_count": 88,
   "id": "2ccd1bb1",
   "metadata": {},
   "outputs": [
    {
     "name": "stdout",
     "output_type": "stream",
     "text": [
      "Archive:  python-novice-gapminder-data.zip\r\n",
      "  inflating: ./data/gapminder_all.csv  \r\n",
      "  inflating: ./data/gapminder_gdp_africa.csv  \r\n",
      "  inflating: ./data/gapminder_gdp_americas.csv  \r\n",
      "  inflating: ./data/gapminder_gdp_asia.csv  \r\n",
      "  inflating: ./data/gapminder_gdp_europe.csv  \r\n",
      "  inflating: ./data/gapminder_gdp_oceania.csv  \r\n"
     ]
    }
   ],
   "source": [
    "!unzip python-novice-gapminder-data.zip -d ."
   ]
  },
  {
   "cell_type": "code",
   "execution_count": 94,
   "id": "3ec27cef",
   "metadata": {},
   "outputs": [
    {
     "name": "stdout",
     "output_type": "stream",
     "text": [
      "data\t\tpython_I_part2-buildprograms.ipynb\r\n",
      "python_I.ipynb\tpython-novice-gapminder-data.zip\r\n"
     ]
    }
   ],
   "source": [
    "!ls"
   ]
  },
  {
   "cell_type": "code",
   "execution_count": 92,
   "id": "915969ec",
   "metadata": {},
   "outputs": [],
   "source": []
  },
  {
   "cell_type": "code",
   "execution_count": 93,
   "id": "04496110",
   "metadata": {},
   "outputs": [
    {
     "name": "stdout",
     "output_type": "stream",
     "text": [
      "data\t\tpython_I_part2-buildprograms.ipynb\r\n",
      "python_I.ipynb\tpython-novice-gapminder-data.zip\r\n"
     ]
    }
   ],
   "source": [
    "!ls"
   ]
  },
  {
   "cell_type": "code",
   "execution_count": 95,
   "id": "c7eb3ea6",
   "metadata": {},
   "outputs": [],
   "source": [
    "import pandas as pd"
   ]
  },
  {
   "cell_type": "code",
   "execution_count": 102,
   "id": "e89a7149",
   "metadata": {},
   "outputs": [],
   "source": [
    "data = pd.read_csv('data/gapminder_all.csv')"
   ]
  },
  {
   "cell_type": "code",
   "execution_count": 103,
   "id": "ebe2e48e",
   "metadata": {},
   "outputs": [
    {
     "data": {
      "text/plain": [
       "continent              Africa\n",
       "country               Algeria\n",
       "gdpPercap_1952    2449.008185\n",
       "gdpPercap_1957    3013.976023\n",
       "gdpPercap_1962     2550.81688\n",
       "gdpPercap_1967    3246.991771\n",
       "gdpPercap_1972    4182.663766\n",
       "gdpPercap_1977    4910.416756\n",
       "gdpPercap_1982    5745.160213\n",
       "gdpPercap_1987    5681.358539\n",
       "gdpPercap_1992    5023.216647\n",
       "gdpPercap_1997    4797.295051\n",
       "gdpPercap_2002    5288.040382\n",
       "gdpPercap_2007    6223.367465\n",
       "lifeExp_1952           43.077\n",
       "lifeExp_1957           45.685\n",
       "lifeExp_1962           48.303\n",
       "lifeExp_1967           51.407\n",
       "lifeExp_1972           54.518\n",
       "lifeExp_1977           58.014\n",
       "lifeExp_1982           61.368\n",
       "lifeExp_1987           65.799\n",
       "lifeExp_1992           67.744\n",
       "lifeExp_1997           69.152\n",
       "lifeExp_2002           70.994\n",
       "lifeExp_2007           72.301\n",
       "pop_1952            9279525.0\n",
       "pop_1957           10270856.0\n",
       "pop_1962           11000948.0\n",
       "pop_1967           12760499.0\n",
       "pop_1972           14760787.0\n",
       "pop_1977           17152804.0\n",
       "pop_1982           20033753.0\n",
       "pop_1987           23254956.0\n",
       "pop_1992           26298373.0\n",
       "pop_1997           29072015.0\n",
       "pop_2002             31287142\n",
       "pop_2007             33333216\n",
       "Name: 0, dtype: object"
      ]
     },
     "execution_count": 103,
     "metadata": {},
     "output_type": "execute_result"
    }
   ],
   "source": [
    "data.iloc[0] #trova riga numero x"
   ]
  },
  {
   "cell_type": "code",
   "execution_count": 104,
   "id": "f867125f",
   "metadata": {},
   "outputs": [
    {
     "data": {
      "text/plain": [
       "['continent',\n",
       " 'country',\n",
       " 'gdpPercap_1952',\n",
       " 'gdpPercap_1957',\n",
       " 'gdpPercap_1962',\n",
       " 'gdpPercap_1967',\n",
       " 'gdpPercap_1972',\n",
       " 'gdpPercap_1977',\n",
       " 'gdpPercap_1982',\n",
       " 'gdpPercap_1987',\n",
       " 'gdpPercap_1992',\n",
       " 'gdpPercap_1997',\n",
       " 'gdpPercap_2002',\n",
       " 'gdpPercap_2007',\n",
       " 'lifeExp_1952',\n",
       " 'lifeExp_1957',\n",
       " 'lifeExp_1962',\n",
       " 'lifeExp_1967',\n",
       " 'lifeExp_1972',\n",
       " 'lifeExp_1977',\n",
       " 'lifeExp_1982',\n",
       " 'lifeExp_1987',\n",
       " 'lifeExp_1992',\n",
       " 'lifeExp_1997',\n",
       " 'lifeExp_2002',\n",
       " 'lifeExp_2007',\n",
       " 'pop_1952',\n",
       " 'pop_1957',\n",
       " 'pop_1962',\n",
       " 'pop_1967',\n",
       " 'pop_1972',\n",
       " 'pop_1977',\n",
       " 'pop_1982',\n",
       " 'pop_1987',\n",
       " 'pop_1992',\n",
       " 'pop_1997',\n",
       " 'pop_2002',\n",
       " 'pop_2007']"
      ]
     },
     "execution_count": 104,
     "metadata": {},
     "output_type": "execute_result"
    }
   ],
   "source": [
    "list(data) #casto dataframe come list e quindji mi dice solo i nomi delle colonne"
   ]
  },
  {
   "cell_type": "code",
   "execution_count": 105,
   "id": "2445dbff",
   "metadata": {},
   "outputs": [
    {
     "data": {
      "text/plain": [
       "0             Algeria\n",
       "1              Angola\n",
       "2               Benin\n",
       "3            Botswana\n",
       "4        Burkina Faso\n",
       "            ...      \n",
       "137       Switzerland\n",
       "138            Turkey\n",
       "139    United Kingdom\n",
       "140         Australia\n",
       "141       New Zealand\n",
       "Name: country, Length: 142, dtype: object"
      ]
     },
     "execution_count": 105,
     "metadata": {},
     "output_type": "execute_result"
    }
   ],
   "source": [
    "data.loc[:,'country'] #[indiceriga , indice colonna]\n",
    "#loc = location"
   ]
  },
  {
   "cell_type": "code",
   "execution_count": 107,
   "id": "be5d290f",
   "metadata": {},
   "outputs": [
    {
     "name": "stdout",
     "output_type": "stream",
     "text": [
      "[0, 1, 2, 3, 4, 5, 6, 7, 8, 9, 10, 11, 12, 13, 14, 15, 16, 17, 18, 19, 20, 21, 22, 23, 24, 25, 26, 27, 28, 29, 30, 31, 32, 33, 34, 35, 36, 37, 38, 39, 40, 41, 42, 43, 44, 45, 46, 47, 48, 49, 50, 51, 52, 53, 54, 55, 56, 57, 58, 59, 60, 61, 62, 63, 64, 65, 66, 67, 68, 69, 70, 71, 72, 73, 74, 75, 76, 77, 78, 79, 80, 81, 82, 83, 84, 85, 86, 87, 88, 89, 90, 91, 92, 93, 94, 95, 96, 97, 98, 99, 100, 101, 102, 103, 104, 105, 106, 107, 108, 109, 110, 111, 112, 113, 114, 115, 116, 117, 118, 119, 120, 121, 122, 123, 124, 125, 126, 127, 128, 129, 130, 131, 132, 133, 134, 135, 136, 137, 138, 139, 140, 141]\n"
     ]
    }
   ],
   "source": [
    "print(list(data.index))"
   ]
  },
  {
   "cell_type": "code",
   "execution_count": 112,
   "id": "47538686",
   "metadata": {},
   "outputs": [],
   "source": [
    "data = pd.read_csv('data/gapminder_all.csv', index_col='country')\n",
    "#setto come indice la country e quindi sparice come colonna"
   ]
  },
  {
   "cell_type": "code",
   "execution_count": 109,
   "id": "19296e37",
   "metadata": {},
   "outputs": [
    {
     "data": {
      "text/html": [
       "<div>\n",
       "<style scoped>\n",
       "    .dataframe tbody tr th:only-of-type {\n",
       "        vertical-align: middle;\n",
       "    }\n",
       "\n",
       "    .dataframe tbody tr th {\n",
       "        vertical-align: top;\n",
       "    }\n",
       "\n",
       "    .dataframe thead th {\n",
       "        text-align: right;\n",
       "    }\n",
       "</style>\n",
       "<table border=\"1\" class=\"dataframe\">\n",
       "  <thead>\n",
       "    <tr style=\"text-align: right;\">\n",
       "      <th></th>\n",
       "      <th>continent</th>\n",
       "      <th>gdpPercap_1952</th>\n",
       "      <th>gdpPercap_1957</th>\n",
       "      <th>gdpPercap_1962</th>\n",
       "      <th>gdpPercap_1967</th>\n",
       "      <th>gdpPercap_1972</th>\n",
       "      <th>gdpPercap_1977</th>\n",
       "      <th>gdpPercap_1982</th>\n",
       "      <th>gdpPercap_1987</th>\n",
       "      <th>gdpPercap_1992</th>\n",
       "      <th>...</th>\n",
       "      <th>pop_1962</th>\n",
       "      <th>pop_1967</th>\n",
       "      <th>pop_1972</th>\n",
       "      <th>pop_1977</th>\n",
       "      <th>pop_1982</th>\n",
       "      <th>pop_1987</th>\n",
       "      <th>pop_1992</th>\n",
       "      <th>pop_1997</th>\n",
       "      <th>pop_2002</th>\n",
       "      <th>pop_2007</th>\n",
       "    </tr>\n",
       "    <tr>\n",
       "      <th>country</th>\n",
       "      <th></th>\n",
       "      <th></th>\n",
       "      <th></th>\n",
       "      <th></th>\n",
       "      <th></th>\n",
       "      <th></th>\n",
       "      <th></th>\n",
       "      <th></th>\n",
       "      <th></th>\n",
       "      <th></th>\n",
       "      <th></th>\n",
       "      <th></th>\n",
       "      <th></th>\n",
       "      <th></th>\n",
       "      <th></th>\n",
       "      <th></th>\n",
       "      <th></th>\n",
       "      <th></th>\n",
       "      <th></th>\n",
       "      <th></th>\n",
       "      <th></th>\n",
       "    </tr>\n",
       "  </thead>\n",
       "  <tbody>\n",
       "    <tr>\n",
       "      <th>Algeria</th>\n",
       "      <td>Africa</td>\n",
       "      <td>2449.008185</td>\n",
       "      <td>3013.976023</td>\n",
       "      <td>2550.816880</td>\n",
       "      <td>3246.991771</td>\n",
       "      <td>4182.663766</td>\n",
       "      <td>4910.416756</td>\n",
       "      <td>5745.160213</td>\n",
       "      <td>5681.358539</td>\n",
       "      <td>5023.216647</td>\n",
       "      <td>...</td>\n",
       "      <td>11000948.0</td>\n",
       "      <td>12760499.0</td>\n",
       "      <td>14760787.0</td>\n",
       "      <td>17152804.0</td>\n",
       "      <td>20033753.0</td>\n",
       "      <td>23254956.0</td>\n",
       "      <td>26298373.0</td>\n",
       "      <td>29072015.0</td>\n",
       "      <td>31287142</td>\n",
       "      <td>33333216</td>\n",
       "    </tr>\n",
       "    <tr>\n",
       "      <th>Angola</th>\n",
       "      <td>Africa</td>\n",
       "      <td>3520.610273</td>\n",
       "      <td>3827.940465</td>\n",
       "      <td>4269.276742</td>\n",
       "      <td>5522.776375</td>\n",
       "      <td>5473.288005</td>\n",
       "      <td>3008.647355</td>\n",
       "      <td>2756.953672</td>\n",
       "      <td>2430.208311</td>\n",
       "      <td>2627.845685</td>\n",
       "      <td>...</td>\n",
       "      <td>4826015.0</td>\n",
       "      <td>5247469.0</td>\n",
       "      <td>5894858.0</td>\n",
       "      <td>6162675.0</td>\n",
       "      <td>7016384.0</td>\n",
       "      <td>7874230.0</td>\n",
       "      <td>8735988.0</td>\n",
       "      <td>9875024.0</td>\n",
       "      <td>10866106</td>\n",
       "      <td>12420476</td>\n",
       "    </tr>\n",
       "    <tr>\n",
       "      <th>Benin</th>\n",
       "      <td>Africa</td>\n",
       "      <td>1062.752200</td>\n",
       "      <td>959.601080</td>\n",
       "      <td>949.499064</td>\n",
       "      <td>1035.831411</td>\n",
       "      <td>1085.796879</td>\n",
       "      <td>1029.161251</td>\n",
       "      <td>1277.897616</td>\n",
       "      <td>1225.856010</td>\n",
       "      <td>1191.207681</td>\n",
       "      <td>...</td>\n",
       "      <td>2151895.0</td>\n",
       "      <td>2427334.0</td>\n",
       "      <td>2761407.0</td>\n",
       "      <td>3168267.0</td>\n",
       "      <td>3641603.0</td>\n",
       "      <td>4243788.0</td>\n",
       "      <td>4981671.0</td>\n",
       "      <td>6066080.0</td>\n",
       "      <td>7026113</td>\n",
       "      <td>8078314</td>\n",
       "    </tr>\n",
       "    <tr>\n",
       "      <th>Botswana</th>\n",
       "      <td>Africa</td>\n",
       "      <td>851.241141</td>\n",
       "      <td>918.232535</td>\n",
       "      <td>983.653976</td>\n",
       "      <td>1214.709294</td>\n",
       "      <td>2263.611114</td>\n",
       "      <td>3214.857818</td>\n",
       "      <td>4551.142150</td>\n",
       "      <td>6205.883850</td>\n",
       "      <td>7954.111645</td>\n",
       "      <td>...</td>\n",
       "      <td>512764.0</td>\n",
       "      <td>553541.0</td>\n",
       "      <td>619351.0</td>\n",
       "      <td>781472.0</td>\n",
       "      <td>970347.0</td>\n",
       "      <td>1151184.0</td>\n",
       "      <td>1342614.0</td>\n",
       "      <td>1536536.0</td>\n",
       "      <td>1630347</td>\n",
       "      <td>1639131</td>\n",
       "    </tr>\n",
       "    <tr>\n",
       "      <th>Burkina Faso</th>\n",
       "      <td>Africa</td>\n",
       "      <td>543.255241</td>\n",
       "      <td>617.183465</td>\n",
       "      <td>722.512021</td>\n",
       "      <td>794.826560</td>\n",
       "      <td>854.735976</td>\n",
       "      <td>743.387037</td>\n",
       "      <td>807.198586</td>\n",
       "      <td>912.063142</td>\n",
       "      <td>931.752773</td>\n",
       "      <td>...</td>\n",
       "      <td>4919632.0</td>\n",
       "      <td>5127935.0</td>\n",
       "      <td>5433886.0</td>\n",
       "      <td>5889574.0</td>\n",
       "      <td>6634596.0</td>\n",
       "      <td>7586551.0</td>\n",
       "      <td>8878303.0</td>\n",
       "      <td>10352843.0</td>\n",
       "      <td>12251209</td>\n",
       "      <td>14326203</td>\n",
       "    </tr>\n",
       "    <tr>\n",
       "      <th>...</th>\n",
       "      <td>...</td>\n",
       "      <td>...</td>\n",
       "      <td>...</td>\n",
       "      <td>...</td>\n",
       "      <td>...</td>\n",
       "      <td>...</td>\n",
       "      <td>...</td>\n",
       "      <td>...</td>\n",
       "      <td>...</td>\n",
       "      <td>...</td>\n",
       "      <td>...</td>\n",
       "      <td>...</td>\n",
       "      <td>...</td>\n",
       "      <td>...</td>\n",
       "      <td>...</td>\n",
       "      <td>...</td>\n",
       "      <td>...</td>\n",
       "      <td>...</td>\n",
       "      <td>...</td>\n",
       "      <td>...</td>\n",
       "      <td>...</td>\n",
       "    </tr>\n",
       "    <tr>\n",
       "      <th>Switzerland</th>\n",
       "      <td>Europe</td>\n",
       "      <td>14734.232750</td>\n",
       "      <td>17909.489730</td>\n",
       "      <td>20431.092700</td>\n",
       "      <td>22966.144320</td>\n",
       "      <td>27195.113040</td>\n",
       "      <td>26982.290520</td>\n",
       "      <td>28397.715120</td>\n",
       "      <td>30281.704590</td>\n",
       "      <td>31871.530300</td>\n",
       "      <td>...</td>\n",
       "      <td>5666000.0</td>\n",
       "      <td>6063000.0</td>\n",
       "      <td>6401400.0</td>\n",
       "      <td>6316424.0</td>\n",
       "      <td>6468126.0</td>\n",
       "      <td>6649942.0</td>\n",
       "      <td>6995447.0</td>\n",
       "      <td>7193761.0</td>\n",
       "      <td>7361757</td>\n",
       "      <td>7554661</td>\n",
       "    </tr>\n",
       "    <tr>\n",
       "      <th>Turkey</th>\n",
       "      <td>Europe</td>\n",
       "      <td>1969.100980</td>\n",
       "      <td>2218.754257</td>\n",
       "      <td>2322.869908</td>\n",
       "      <td>2826.356387</td>\n",
       "      <td>3450.696380</td>\n",
       "      <td>4269.122326</td>\n",
       "      <td>4241.356344</td>\n",
       "      <td>5089.043686</td>\n",
       "      <td>5678.348271</td>\n",
       "      <td>...</td>\n",
       "      <td>29788695.0</td>\n",
       "      <td>33411317.0</td>\n",
       "      <td>37492953.0</td>\n",
       "      <td>42404033.0</td>\n",
       "      <td>47328791.0</td>\n",
       "      <td>52881328.0</td>\n",
       "      <td>58179144.0</td>\n",
       "      <td>63047647.0</td>\n",
       "      <td>67308928</td>\n",
       "      <td>71158647</td>\n",
       "    </tr>\n",
       "    <tr>\n",
       "      <th>United Kingdom</th>\n",
       "      <td>Europe</td>\n",
       "      <td>9979.508487</td>\n",
       "      <td>11283.177950</td>\n",
       "      <td>12477.177070</td>\n",
       "      <td>14142.850890</td>\n",
       "      <td>15895.116410</td>\n",
       "      <td>17428.748460</td>\n",
       "      <td>18232.424520</td>\n",
       "      <td>21664.787670</td>\n",
       "      <td>22705.092540</td>\n",
       "      <td>...</td>\n",
       "      <td>53292000.0</td>\n",
       "      <td>54959000.0</td>\n",
       "      <td>56079000.0</td>\n",
       "      <td>56179000.0</td>\n",
       "      <td>56339704.0</td>\n",
       "      <td>56981620.0</td>\n",
       "      <td>57866349.0</td>\n",
       "      <td>58808266.0</td>\n",
       "      <td>59912431</td>\n",
       "      <td>60776238</td>\n",
       "    </tr>\n",
       "    <tr>\n",
       "      <th>Australia</th>\n",
       "      <td>Oceania</td>\n",
       "      <td>10039.595640</td>\n",
       "      <td>10949.649590</td>\n",
       "      <td>12217.226860</td>\n",
       "      <td>14526.124650</td>\n",
       "      <td>16788.629480</td>\n",
       "      <td>18334.197510</td>\n",
       "      <td>19477.009280</td>\n",
       "      <td>21888.889030</td>\n",
       "      <td>23424.766830</td>\n",
       "      <td>...</td>\n",
       "      <td>10794968.0</td>\n",
       "      <td>11872264.0</td>\n",
       "      <td>13177000.0</td>\n",
       "      <td>14074100.0</td>\n",
       "      <td>15184200.0</td>\n",
       "      <td>16257249.0</td>\n",
       "      <td>17481977.0</td>\n",
       "      <td>18565243.0</td>\n",
       "      <td>19546792</td>\n",
       "      <td>20434176</td>\n",
       "    </tr>\n",
       "    <tr>\n",
       "      <th>New Zealand</th>\n",
       "      <td>Oceania</td>\n",
       "      <td>10556.575660</td>\n",
       "      <td>12247.395320</td>\n",
       "      <td>13175.678000</td>\n",
       "      <td>14463.918930</td>\n",
       "      <td>16046.037280</td>\n",
       "      <td>16233.717700</td>\n",
       "      <td>17632.410400</td>\n",
       "      <td>19007.191290</td>\n",
       "      <td>18363.324940</td>\n",
       "      <td>...</td>\n",
       "      <td>2488550.0</td>\n",
       "      <td>2728150.0</td>\n",
       "      <td>2929100.0</td>\n",
       "      <td>3164900.0</td>\n",
       "      <td>3210650.0</td>\n",
       "      <td>3317166.0</td>\n",
       "      <td>3437674.0</td>\n",
       "      <td>3676187.0</td>\n",
       "      <td>3908037</td>\n",
       "      <td>4115771</td>\n",
       "    </tr>\n",
       "  </tbody>\n",
       "</table>\n",
       "<p>142 rows × 37 columns</p>\n",
       "</div>"
      ],
      "text/plain": [
       "               continent  gdpPercap_1952  gdpPercap_1957  gdpPercap_1962  \\\n",
       "country                                                                    \n",
       "Algeria           Africa     2449.008185     3013.976023     2550.816880   \n",
       "Angola            Africa     3520.610273     3827.940465     4269.276742   \n",
       "Benin             Africa     1062.752200      959.601080      949.499064   \n",
       "Botswana          Africa      851.241141      918.232535      983.653976   \n",
       "Burkina Faso      Africa      543.255241      617.183465      722.512021   \n",
       "...                  ...             ...             ...             ...   \n",
       "Switzerland       Europe    14734.232750    17909.489730    20431.092700   \n",
       "Turkey            Europe     1969.100980     2218.754257     2322.869908   \n",
       "United Kingdom    Europe     9979.508487    11283.177950    12477.177070   \n",
       "Australia        Oceania    10039.595640    10949.649590    12217.226860   \n",
       "New Zealand      Oceania    10556.575660    12247.395320    13175.678000   \n",
       "\n",
       "                gdpPercap_1967  gdpPercap_1972  gdpPercap_1977  \\\n",
       "country                                                          \n",
       "Algeria            3246.991771     4182.663766     4910.416756   \n",
       "Angola             5522.776375     5473.288005     3008.647355   \n",
       "Benin              1035.831411     1085.796879     1029.161251   \n",
       "Botswana           1214.709294     2263.611114     3214.857818   \n",
       "Burkina Faso        794.826560      854.735976      743.387037   \n",
       "...                        ...             ...             ...   \n",
       "Switzerland       22966.144320    27195.113040    26982.290520   \n",
       "Turkey             2826.356387     3450.696380     4269.122326   \n",
       "United Kingdom    14142.850890    15895.116410    17428.748460   \n",
       "Australia         14526.124650    16788.629480    18334.197510   \n",
       "New Zealand       14463.918930    16046.037280    16233.717700   \n",
       "\n",
       "                gdpPercap_1982  gdpPercap_1987  gdpPercap_1992  ...  \\\n",
       "country                                                         ...   \n",
       "Algeria            5745.160213     5681.358539     5023.216647  ...   \n",
       "Angola             2756.953672     2430.208311     2627.845685  ...   \n",
       "Benin              1277.897616     1225.856010     1191.207681  ...   \n",
       "Botswana           4551.142150     6205.883850     7954.111645  ...   \n",
       "Burkina Faso        807.198586      912.063142      931.752773  ...   \n",
       "...                        ...             ...             ...  ...   \n",
       "Switzerland       28397.715120    30281.704590    31871.530300  ...   \n",
       "Turkey             4241.356344     5089.043686     5678.348271  ...   \n",
       "United Kingdom    18232.424520    21664.787670    22705.092540  ...   \n",
       "Australia         19477.009280    21888.889030    23424.766830  ...   \n",
       "New Zealand       17632.410400    19007.191290    18363.324940  ...   \n",
       "\n",
       "                  pop_1962    pop_1967    pop_1972    pop_1977    pop_1982  \\\n",
       "country                                                                      \n",
       "Algeria         11000948.0  12760499.0  14760787.0  17152804.0  20033753.0   \n",
       "Angola           4826015.0   5247469.0   5894858.0   6162675.0   7016384.0   \n",
       "Benin            2151895.0   2427334.0   2761407.0   3168267.0   3641603.0   \n",
       "Botswana          512764.0    553541.0    619351.0    781472.0    970347.0   \n",
       "Burkina Faso     4919632.0   5127935.0   5433886.0   5889574.0   6634596.0   \n",
       "...                    ...         ...         ...         ...         ...   \n",
       "Switzerland      5666000.0   6063000.0   6401400.0   6316424.0   6468126.0   \n",
       "Turkey          29788695.0  33411317.0  37492953.0  42404033.0  47328791.0   \n",
       "United Kingdom  53292000.0  54959000.0  56079000.0  56179000.0  56339704.0   \n",
       "Australia       10794968.0  11872264.0  13177000.0  14074100.0  15184200.0   \n",
       "New Zealand      2488550.0   2728150.0   2929100.0   3164900.0   3210650.0   \n",
       "\n",
       "                  pop_1987    pop_1992    pop_1997  pop_2002  pop_2007  \n",
       "country                                                                 \n",
       "Algeria         23254956.0  26298373.0  29072015.0  31287142  33333216  \n",
       "Angola           7874230.0   8735988.0   9875024.0  10866106  12420476  \n",
       "Benin            4243788.0   4981671.0   6066080.0   7026113   8078314  \n",
       "Botswana         1151184.0   1342614.0   1536536.0   1630347   1639131  \n",
       "Burkina Faso     7586551.0   8878303.0  10352843.0  12251209  14326203  \n",
       "...                    ...         ...         ...       ...       ...  \n",
       "Switzerland      6649942.0   6995447.0   7193761.0   7361757   7554661  \n",
       "Turkey          52881328.0  58179144.0  63047647.0  67308928  71158647  \n",
       "United Kingdom  56981620.0  57866349.0  58808266.0  59912431  60776238  \n",
       "Australia       16257249.0  17481977.0  18565243.0  19546792  20434176  \n",
       "New Zealand      3317166.0   3437674.0   3676187.0   3908037   4115771  \n",
       "\n",
       "[142 rows x 37 columns]"
      ]
     },
     "execution_count": 109,
     "metadata": {},
     "output_type": "execute_result"
    }
   ],
   "source": [
    "data"
   ]
  },
  {
   "cell_type": "code",
   "execution_count": 111,
   "id": "166174a3",
   "metadata": {},
   "outputs": [
    {
     "data": {
      "text/plain": [
       "continent              Africa\n",
       "gdpPercap_1952    2449.008185\n",
       "gdpPercap_1957    3013.976023\n",
       "gdpPercap_1962     2550.81688\n",
       "gdpPercap_1967    3246.991771\n",
       "gdpPercap_1972    4182.663766\n",
       "gdpPercap_1977    4910.416756\n",
       "gdpPercap_1982    5745.160213\n",
       "gdpPercap_1987    5681.358539\n",
       "gdpPercap_1992    5023.216647\n",
       "gdpPercap_1997    4797.295051\n",
       "gdpPercap_2002    5288.040382\n",
       "gdpPercap_2007    6223.367465\n",
       "lifeExp_1952           43.077\n",
       "lifeExp_1957           45.685\n",
       "lifeExp_1962           48.303\n",
       "lifeExp_1967           51.407\n",
       "lifeExp_1972           54.518\n",
       "lifeExp_1977           58.014\n",
       "lifeExp_1982           61.368\n",
       "lifeExp_1987           65.799\n",
       "lifeExp_1992           67.744\n",
       "lifeExp_1997           69.152\n",
       "lifeExp_2002           70.994\n",
       "lifeExp_2007           72.301\n",
       "pop_1952            9279525.0\n",
       "pop_1957           10270856.0\n",
       "pop_1962           11000948.0\n",
       "pop_1967           12760499.0\n",
       "pop_1972           14760787.0\n",
       "pop_1977           17152804.0\n",
       "pop_1982           20033753.0\n",
       "pop_1987           23254956.0\n",
       "pop_1992           26298373.0\n",
       "pop_1997           29072015.0\n",
       "pop_2002             31287142\n",
       "pop_2007             33333216\n",
       "Name: Algeria, dtype: object"
      ]
     },
     "execution_count": 111,
     "metadata": {},
     "output_type": "execute_result"
    }
   ],
   "source": [
    "data.loc['Algeria'] #.loc[0] non funziona perchè l'indice è la country ora"
   ]
  },
  {
   "cell_type": "code",
   "execution_count": 113,
   "id": "bca591b5",
   "metadata": {},
   "outputs": [
    {
     "data": {
      "text/plain": [
       "country\n",
       "Algeria            Africa\n",
       "Angola             Africa\n",
       "Benin              Africa\n",
       "Botswana           Africa\n",
       "Burkina Faso       Africa\n",
       "                   ...   \n",
       "Switzerland        Europe\n",
       "Turkey             Europe\n",
       "United Kingdom     Europe\n",
       "Australia         Oceania\n",
       "New Zealand       Oceania\n",
       "Name: continent, Length: 142, dtype: object"
      ]
     },
     "execution_count": 113,
     "metadata": {},
     "output_type": "execute_result"
    }
   ],
   "source": [
    "data.loc[:,'continent'] #all elements in the continent column"
   ]
  },
  {
   "cell_type": "code",
   "execution_count": 114,
   "id": "29c22332",
   "metadata": {},
   "outputs": [
    {
     "data": {
      "text/plain": [
       "country\n",
       "Algeria            Africa\n",
       "Angola             Africa\n",
       "Benin              Africa\n",
       "Botswana           Africa\n",
       "Burkina Faso       Africa\n",
       "                   ...   \n",
       "Switzerland        Europe\n",
       "Turkey             Europe\n",
       "United Kingdom     Europe\n",
       "Australia         Oceania\n",
       "New Zealand       Oceania\n",
       "Name: continent, Length: 142, dtype: object"
      ]
     },
     "execution_count": 114,
     "metadata": {},
     "output_type": "execute_result"
    }
   ],
   "source": [
    "#iloc = index location\n",
    "data.iloc[:,0] #access the first column"
   ]
  },
  {
   "cell_type": "code",
   "execution_count": 115,
   "id": "9bfbc248",
   "metadata": {},
   "outputs": [
    {
     "data": {
      "text/plain": [
       "continent              Africa\n",
       "gdpPercap_1952     851.241141\n",
       "gdpPercap_1957     918.232535\n",
       "gdpPercap_1962     983.653976\n",
       "gdpPercap_1967    1214.709294\n",
       "gdpPercap_1972    2263.611114\n",
       "gdpPercap_1977    3214.857818\n",
       "gdpPercap_1982     4551.14215\n",
       "gdpPercap_1987     6205.88385\n",
       "gdpPercap_1992    7954.111645\n",
       "gdpPercap_1997    8647.142313\n",
       "gdpPercap_2002    11003.60508\n",
       "gdpPercap_2007    12569.85177\n",
       "lifeExp_1952           47.622\n",
       "lifeExp_1957           49.618\n",
       "lifeExp_1962            51.52\n",
       "lifeExp_1967           53.298\n",
       "lifeExp_1972           56.024\n",
       "lifeExp_1977           59.319\n",
       "lifeExp_1982           61.484\n",
       "lifeExp_1987           63.622\n",
       "lifeExp_1992           62.745\n",
       "lifeExp_1997           52.556\n",
       "lifeExp_2002           46.634\n",
       "lifeExp_2007           50.728\n",
       "pop_1952             442308.0\n",
       "pop_1957             474639.0\n",
       "pop_1962             512764.0\n",
       "pop_1967             553541.0\n",
       "pop_1972             619351.0\n",
       "pop_1977             781472.0\n",
       "pop_1982             970347.0\n",
       "pop_1987            1151184.0\n",
       "pop_1992            1342614.0\n",
       "pop_1997            1536536.0\n",
       "pop_2002              1630347\n",
       "pop_2007              1639131\n",
       "Name: Botswana, dtype: object"
      ]
     },
     "execution_count": 115,
     "metadata": {},
     "output_type": "execute_result"
    }
   ],
   "source": [
    "data.iloc[3] #terza riga"
   ]
  },
  {
   "cell_type": "code",
   "execution_count": 116,
   "id": "0fa0aa74",
   "metadata": {},
   "outputs": [
    {
     "data": {
      "text/html": [
       "<div>\n",
       "<style scoped>\n",
       "    .dataframe tbody tr th:only-of-type {\n",
       "        vertical-align: middle;\n",
       "    }\n",
       "\n",
       "    .dataframe tbody tr th {\n",
       "        vertical-align: top;\n",
       "    }\n",
       "\n",
       "    .dataframe thead th {\n",
       "        text-align: right;\n",
       "    }\n",
       "</style>\n",
       "<table border=\"1\" class=\"dataframe\">\n",
       "  <thead>\n",
       "    <tr style=\"text-align: right;\">\n",
       "      <th></th>\n",
       "      <th>continent</th>\n",
       "      <th>gdpPercap_1952</th>\n",
       "      <th>gdpPercap_1957</th>\n",
       "    </tr>\n",
       "    <tr>\n",
       "      <th>country</th>\n",
       "      <th></th>\n",
       "      <th></th>\n",
       "      <th></th>\n",
       "    </tr>\n",
       "  </thead>\n",
       "  <tbody>\n",
       "    <tr>\n",
       "      <th>Algeria</th>\n",
       "      <td>Africa</td>\n",
       "      <td>2449.008185</td>\n",
       "      <td>3013.976023</td>\n",
       "    </tr>\n",
       "    <tr>\n",
       "      <th>Angola</th>\n",
       "      <td>Africa</td>\n",
       "      <td>3520.610273</td>\n",
       "      <td>3827.940465</td>\n",
       "    </tr>\n",
       "    <tr>\n",
       "      <th>Benin</th>\n",
       "      <td>Africa</td>\n",
       "      <td>1062.752200</td>\n",
       "      <td>959.601080</td>\n",
       "    </tr>\n",
       "  </tbody>\n",
       "</table>\n",
       "</div>"
      ],
      "text/plain": [
       "        continent  gdpPercap_1952  gdpPercap_1957\n",
       "country                                          \n",
       "Algeria    Africa     2449.008185     3013.976023\n",
       "Angola     Africa     3520.610273     3827.940465\n",
       "Benin      Africa     1062.752200      959.601080"
      ]
     },
     "execution_count": 116,
     "metadata": {},
     "output_type": "execute_result"
    }
   ],
   "source": [
    "data.iloc[0:3,0:3] #3x3 matrix of the dataframe"
   ]
  },
  {
   "cell_type": "markdown",
   "id": "b8fdd3d6",
   "metadata": {},
   "source": [
    "MATPLOTLIB"
   ]
  },
  {
   "cell_type": "code",
   "execution_count": 117,
   "id": "9b885015",
   "metadata": {},
   "outputs": [],
   "source": [
    "import matplotlib.pyplot as plt"
   ]
  },
  {
   "cell_type": "code",
   "execution_count": 118,
   "id": "a9804f64",
   "metadata": {},
   "outputs": [
    {
     "name": "stdout",
     "output_type": "stream",
     "text": [
      "Help on function plot in module matplotlib.pyplot:\n",
      "\n",
      "plot(*args, scalex=True, scaley=True, data=None, **kwargs)\n",
      "    Plot y versus x as lines and/or markers.\n",
      "    \n",
      "    Call signatures::\n",
      "    \n",
      "        plot([x], y, [fmt], *, data=None, **kwargs)\n",
      "        plot([x], y, [fmt], [x2], y2, [fmt2], ..., **kwargs)\n",
      "    \n",
      "    The coordinates of the points or line nodes are given by *x*, *y*.\n",
      "    \n",
      "    The optional parameter *fmt* is a convenient way for defining basic\n",
      "    formatting like color, marker and linestyle. It's a shortcut string\n",
      "    notation described in the *Notes* section below.\n",
      "    \n",
      "    >>> plot(x, y)        # plot x and y using default line style and color\n",
      "    >>> plot(x, y, 'bo')  # plot x and y using blue circle markers\n",
      "    >>> plot(y)           # plot y using x as index array 0..N-1\n",
      "    >>> plot(y, 'r+')     # ditto, but with red plusses\n",
      "    \n",
      "    You can use `.Line2D` properties as keyword arguments for more\n",
      "    control on the appearance. Line properties and *fmt* can be mixed.\n",
      "    The following two calls yield identical results:\n",
      "    \n",
      "    >>> plot(x, y, 'go--', linewidth=2, markersize=12)\n",
      "    >>> plot(x, y, color='green', marker='o', linestyle='dashed',\n",
      "    ...      linewidth=2, markersize=12)\n",
      "    \n",
      "    When conflicting with *fmt*, keyword arguments take precedence.\n",
      "    \n",
      "    \n",
      "    **Plotting labelled data**\n",
      "    \n",
      "    There's a convenient way for plotting objects with labelled data (i.e.\n",
      "    data that can be accessed by index ``obj['y']``). Instead of giving\n",
      "    the data in *x* and *y*, you can provide the object in the *data*\n",
      "    parameter and just give the labels for *x* and *y*::\n",
      "    \n",
      "    >>> plot('xlabel', 'ylabel', data=obj)\n",
      "    \n",
      "    All indexable objects are supported. This could e.g. be a `dict`, a\n",
      "    `pandas.DataFrame` or a structured numpy array.\n",
      "    \n",
      "    \n",
      "    **Plotting multiple sets of data**\n",
      "    \n",
      "    There are various ways to plot multiple sets of data.\n",
      "    \n",
      "    - The most straight forward way is just to call `plot` multiple times.\n",
      "      Example:\n",
      "    \n",
      "      >>> plot(x1, y1, 'bo')\n",
      "      >>> plot(x2, y2, 'go')\n",
      "    \n",
      "    - If *x* and/or *y* are 2D arrays a separate data set will be drawn\n",
      "      for every column. If both *x* and *y* are 2D, they must have the\n",
      "      same shape. If only one of them is 2D with shape (N, m) the other\n",
      "      must have length N and will be used for every data set m.\n",
      "    \n",
      "      Example:\n",
      "    \n",
      "      >>> x = [1, 2, 3]\n",
      "      >>> y = np.array([[1, 2], [3, 4], [5, 6]])\n",
      "      >>> plot(x, y)\n",
      "    \n",
      "      is equivalent to:\n",
      "    \n",
      "      >>> for col in range(y.shape[1]):\n",
      "      ...     plot(x, y[:, col])\n",
      "    \n",
      "    - The third way is to specify multiple sets of *[x]*, *y*, *[fmt]*\n",
      "      groups::\n",
      "    \n",
      "      >>> plot(x1, y1, 'g^', x2, y2, 'g-')\n",
      "    \n",
      "      In this case, any additional keyword argument applies to all\n",
      "      datasets. Also this syntax cannot be combined with the *data*\n",
      "      parameter.\n",
      "    \n",
      "    By default, each line is assigned a different style specified by a\n",
      "    'style cycle'. The *fmt* and line property parameters are only\n",
      "    necessary if you want explicit deviations from these defaults.\n",
      "    Alternatively, you can also change the style cycle using\n",
      "    :rc:`axes.prop_cycle`.\n",
      "    \n",
      "    \n",
      "    Parameters\n",
      "    ----------\n",
      "    x, y : array-like or scalar\n",
      "        The horizontal / vertical coordinates of the data points.\n",
      "        *x* values are optional and default to ``range(len(y))``.\n",
      "    \n",
      "        Commonly, these parameters are 1D arrays.\n",
      "    \n",
      "        They can also be scalars, or two-dimensional (in that case, the\n",
      "        columns represent separate data sets).\n",
      "    \n",
      "        These arguments cannot be passed as keywords.\n",
      "    \n",
      "    fmt : str, optional\n",
      "        A format string, e.g. 'ro' for red circles. See the *Notes*\n",
      "        section for a full description of the format strings.\n",
      "    \n",
      "        Format strings are just an abbreviation for quickly setting\n",
      "        basic line properties. All of these and more can also be\n",
      "        controlled by keyword arguments.\n",
      "    \n",
      "        This argument cannot be passed as keyword.\n",
      "    \n",
      "    data : indexable object, optional\n",
      "        An object with labelled data. If given, provide the label names to\n",
      "        plot in *x* and *y*.\n",
      "    \n",
      "        .. note::\n",
      "            Technically there's a slight ambiguity in calls where the\n",
      "            second label is a valid *fmt*. ``plot('n', 'o', data=obj)``\n",
      "            could be ``plt(x, y)`` or ``plt(y, fmt)``. In such cases,\n",
      "            the former interpretation is chosen, but a warning is issued.\n",
      "            You may suppress the warning by adding an empty format string\n",
      "            ``plot('n', 'o', '', data=obj)``.\n",
      "    \n",
      "    Returns\n",
      "    -------\n",
      "    list of `.Line2D`\n",
      "        A list of lines representing the plotted data.\n",
      "    \n",
      "    Other Parameters\n",
      "    ----------------\n",
      "    scalex, scaley : bool, default: True\n",
      "        These parameters determine if the view limits are adapted to the\n",
      "        data limits. The values are passed on to `autoscale_view`.\n",
      "    \n",
      "    **kwargs : `.Line2D` properties, optional\n",
      "        *kwargs* are used to specify properties like a line label (for\n",
      "        auto legends), linewidth, antialiasing, marker face color.\n",
      "        Example::\n",
      "    \n",
      "        >>> plot([1, 2, 3], [1, 2, 3], 'go-', label='line 1', linewidth=2)\n",
      "        >>> plot([1, 2, 3], [1, 4, 9], 'rs', label='line 2')\n",
      "    \n",
      "        If you specify multiple lines with one plot call, the kwargs apply\n",
      "        to all those lines. In case the label object is iterable, each\n",
      "        element is used as labels for each set of data.\n",
      "    \n",
      "        Here is a list of available `.Line2D` properties:\n",
      "    \n",
      "        Properties:\n",
      "        agg_filter: a filter function, which takes a (m, n, 3) float array and a dpi value, and returns a (m, n, 3) array\n",
      "        alpha: scalar or None\n",
      "        animated: bool\n",
      "        antialiased or aa: bool\n",
      "        clip_box: `.Bbox`\n",
      "        clip_on: bool\n",
      "        clip_path: Patch or (Path, Transform) or None\n",
      "        color or c: color\n",
      "        contains: unknown\n",
      "        dash_capstyle: `.CapStyle` or {'butt', 'projecting', 'round'}\n",
      "        dash_joinstyle: `.JoinStyle` or {'miter', 'round', 'bevel'}\n",
      "        dashes: sequence of floats (on/off ink in points) or (None, None)\n",
      "        data: (2, N) array or two 1D arrays\n",
      "        drawstyle or ds: {'default', 'steps', 'steps-pre', 'steps-mid', 'steps-post'}, default: 'default'\n",
      "        figure: `.Figure`\n",
      "        fillstyle: {'full', 'left', 'right', 'bottom', 'top', 'none'}\n",
      "        gid: str\n",
      "        in_layout: bool\n",
      "        label: object\n",
      "        linestyle or ls: {'-', '--', '-.', ':', '', (offset, on-off-seq), ...}\n",
      "        linewidth or lw: float\n",
      "        marker: marker style string, `~.path.Path` or `~.markers.MarkerStyle`\n",
      "        markeredgecolor or mec: color\n",
      "        markeredgewidth or mew: float\n",
      "        markerfacecolor or mfc: color\n",
      "        markerfacecoloralt or mfcalt: color\n",
      "        markersize or ms: float\n",
      "        markevery: None or int or (int, int) or slice or list[int] or float or (float, float) or list[bool]\n",
      "        path_effects: `.AbstractPathEffect`\n",
      "        picker: float or callable[[Artist, Event], tuple[bool, dict]]\n",
      "        pickradius: float\n",
      "        rasterized: bool\n",
      "        sketch_params: (scale: float, length: float, randomness: float)\n",
      "        snap: bool or None\n",
      "        solid_capstyle: `.CapStyle` or {'butt', 'projecting', 'round'}\n",
      "        solid_joinstyle: `.JoinStyle` or {'miter', 'round', 'bevel'}\n",
      "        transform: `matplotlib.transforms.Transform`\n",
      "        url: str\n",
      "        visible: bool\n",
      "        xdata: 1D array\n",
      "        ydata: 1D array\n",
      "        zorder: float\n",
      "    \n",
      "    See Also\n",
      "    --------\n",
      "    scatter : XY scatter plot with markers of varying size and/or color (\n",
      "        sometimes also called bubble chart).\n",
      "    \n",
      "    Notes\n",
      "    -----\n",
      "    **Format Strings**\n",
      "    \n",
      "    A format string consists of a part for color, marker and line::\n",
      "    \n",
      "        fmt = '[marker][line][color]'\n",
      "    \n",
      "    Each of them is optional. If not provided, the value from the style\n",
      "    cycle is used. Exception: If ``line`` is given, but no ``marker``,\n",
      "    the data will be a line without markers.\n",
      "    \n",
      "    Other combinations such as ``[color][marker][line]`` are also\n",
      "    supported, but note that their parsing may be ambiguous.\n",
      "    \n",
      "    **Markers**\n",
      "    \n",
      "    =============   ===============================\n",
      "    character       description\n",
      "    =============   ===============================\n",
      "    ``'.'``         point marker\n",
      "    ``','``         pixel marker\n",
      "    ``'o'``         circle marker\n",
      "    ``'v'``         triangle_down marker\n",
      "    ``'^'``         triangle_up marker\n",
      "    ``'<'``         triangle_left marker\n",
      "    ``'>'``         triangle_right marker\n",
      "    ``'1'``         tri_down marker\n",
      "    ``'2'``         tri_up marker\n",
      "    ``'3'``         tri_left marker\n",
      "    ``'4'``         tri_right marker\n",
      "    ``'8'``         octagon marker\n",
      "    ``'s'``         square marker\n",
      "    ``'p'``         pentagon marker\n",
      "    ``'P'``         plus (filled) marker\n",
      "    ``'*'``         star marker\n",
      "    ``'h'``         hexagon1 marker\n",
      "    ``'H'``         hexagon2 marker\n",
      "    ``'+'``         plus marker\n",
      "    ``'x'``         x marker\n",
      "    ``'X'``         x (filled) marker\n",
      "    ``'D'``         diamond marker\n",
      "    ``'d'``         thin_diamond marker\n",
      "    ``'|'``         vline marker\n",
      "    ``'_'``         hline marker\n",
      "    =============   ===============================\n",
      "    \n",
      "    **Line Styles**\n",
      "    \n",
      "    =============    ===============================\n",
      "    character        description\n",
      "    =============    ===============================\n",
      "    ``'-'``          solid line style\n",
      "    ``'--'``         dashed line style\n",
      "    ``'-.'``         dash-dot line style\n",
      "    ``':'``          dotted line style\n",
      "    =============    ===============================\n",
      "    \n",
      "    Example format strings::\n",
      "    \n",
      "        'b'    # blue markers with default shape\n",
      "        'or'   # red circles\n",
      "        '-g'   # green solid line\n",
      "        '--'   # dashed line with default color\n",
      "        '^k:'  # black triangle_up markers connected by a dotted line\n",
      "    \n",
      "    **Colors**\n",
      "    \n",
      "    The supported color abbreviations are the single letter codes\n",
      "    \n",
      "    =============    ===============================\n",
      "    character        color\n",
      "    =============    ===============================\n",
      "    ``'b'``          blue\n",
      "    ``'g'``          green\n",
      "    ``'r'``          red\n",
      "    ``'c'``          cyan\n",
      "    ``'m'``          magenta\n",
      "    ``'y'``          yellow\n",
      "    ``'k'``          black\n",
      "    ``'w'``          white\n",
      "    =============    ===============================\n",
      "    \n",
      "    and the ``'CN'`` colors that index into the default property cycle.\n",
      "    \n",
      "    If the color is the only part of the format string, you can\n",
      "    additionally use any  `matplotlib.colors` spec, e.g. full names\n",
      "    (``'green'``) or hex strings (``'#008000'``).\n",
      "\n"
     ]
    }
   ],
   "source": [
    "help(plt.plot)"
   ]
  },
  {
   "cell_type": "code",
   "execution_count": 119,
   "id": "4a00c260",
   "metadata": {},
   "outputs": [],
   "source": [
    "plot_data = data.loc['Argentina':'Ecuador', 'lifeExp_2007'] #devo usare i inomi perchè ho messo come index la country"
   ]
  },
  {
   "cell_type": "code",
   "execution_count": 120,
   "id": "e6876986",
   "metadata": {},
   "outputs": [
    {
     "data": {
      "text/plain": [
       "country\n",
       "Argentina             75.320\n",
       "Bolivia               65.554\n",
       "Brazil                72.390\n",
       "Canada                80.653\n",
       "Chile                 78.553\n",
       "Colombia              72.889\n",
       "Costa Rica            78.782\n",
       "Cuba                  78.273\n",
       "Dominican Republic    72.235\n",
       "Ecuador               74.994\n",
       "Name: lifeExp_2007, dtype: float64"
      ]
     },
     "execution_count": 120,
     "metadata": {},
     "output_type": "execute_result"
    }
   ],
   "source": [
    "plot_data"
   ]
  },
  {
   "cell_type": "code",
   "execution_count": 122,
   "id": "e378ac67",
   "metadata": {},
   "outputs": [
    {
     "data": {
      "text/plain": [
       "Index(['Argentina', 'Bolivia', 'Brazil', 'Canada', 'Chile', 'Colombia',\n",
       "       'Costa Rica', 'Cuba', 'Dominican Republic', 'Ecuador'],\n",
       "      dtype='object', name='country')"
      ]
     },
     "execution_count": 122,
     "metadata": {},
     "output_type": "execute_result"
    }
   ],
   "source": [
    "plot_data.index"
   ]
  },
  {
   "cell_type": "code",
   "execution_count": 129,
   "id": "dabec236",
   "metadata": {},
   "outputs": [
    {
     "data": {
      "text/plain": [
       "Text(0, 0.5, 'life expectancy')"
      ]
     },
     "execution_count": 129,
     "metadata": {},
     "output_type": "execute_result"
    },
    {
     "data": {
      "image/png": "[encoded data removed]",
      "text/plain": [
       "<Figure size 432x288 with 1 Axes>"
      ]
     },
     "metadata": {
      "needs_background": "light"
     },
     "output_type": "display_data"
    }
   ],
   "source": [
    "plt.plot(plot_data.index, plot_data) #plot(x,y)\n",
    "plt.xticks(rotation=90)\n",
    "plt.xlabel('country')\n",
    "plt.ylabel('life expectancy')"
   ]
  },
  {
   "cell_type": "code",
   "execution_count": null,
   "id": "57056656",
   "metadata": {},
   "outputs": [],
   "source": []
  }
 ],
 "metadata": {
  "kernelspec": {
   "display_name": "Python 3 (ipykernel)",
   "language": "python",
   "name": "python3"
  },
  "language_info": {
   "codemirror_mode": {
    "name": "ipython",
    "version": 3
   },
   "file_extension": ".py",
   "mimetype": "text/x-python",
   "name": "python",
   "nbconvert_exporter": "python",
   "pygments_lexer": "ipython3",
   "version": "3.9.9"
  }
 },
 "nbformat": 4,
 "nbformat_minor": 5
}
