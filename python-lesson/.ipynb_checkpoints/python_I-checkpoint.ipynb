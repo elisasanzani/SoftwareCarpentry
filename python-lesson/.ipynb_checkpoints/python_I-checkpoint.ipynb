{
 "cells": [
  {
   "cell_type": "code",
   "execution_count": 32,
   "id": "2b7e2fd5",
   "metadata": {},
   "outputs": [],
   "source": [
    "#var_name = value \n",
    "my_name = 'Elisa'\n",
    "age = 22"
   ]
  },
  {
   "cell_type": "code",
   "execution_count": 33,
   "id": "044c6a62",
   "metadata": {},
   "outputs": [],
   "source": [
    "_my_name = 'ee'\n",
    "_ = 'ee'"
   ]
  },
  {
   "cell_type": "code",
   "execution_count": 34,
   "id": "1baf8e35",
   "metadata": {
    "scrolled": false
   },
   "outputs": [
    {
     "name": "stdout",
     "output_type": "stream",
     "text": [
      "ee\n"
     ]
    },
    {
     "data": {
      "text/plain": [
       "'ee'"
      ]
     },
     "execution_count": 34,
     "metadata": {},
     "output_type": "execute_result"
    }
   ],
   "source": [
    "print(_) #prints value\n",
    "_ #also shows type"
   ]
  },
  {
   "cell_type": "code",
   "execution_count": 35,
   "id": "6f955565",
   "metadata": {},
   "outputs": [
    {
     "data": {
      "text/plain": [
       "22"
      ]
     },
     "execution_count": 35,
     "metadata": {},
     "output_type": "execute_result"
    }
   ],
   "source": [
    "age"
   ]
  },
  {
   "cell_type": "markdown",
   "id": "edc1ab63",
   "metadata": {},
   "source": [
    "#Basic data types: bool int float str (not char, they are strings instead)"
   ]
  },
  {
   "cell_type": "code",
   "execution_count": 36,
   "id": "04b23228",
   "metadata": {},
   "outputs": [
    {
     "name": "stdout",
     "output_type": "stream",
     "text": [
      "<class 'bool'> <class 'float'>\n"
     ]
    }
   ],
   "source": [
    "boolval = True\n",
    "boolval2 = False\n",
    "pi = 3.141592\n",
    "print(type(boolval), type(pi))"
   ]
  },
  {
   "cell_type": "markdown",
   "id": "60a741f1",
   "metadata": {},
   "source": [
    "#OPERATORS: + - * / % **(esponenziale)"
   ]
  },
  {
   "cell_type": "code",
   "execution_count": 37,
   "id": "3982b81b",
   "metadata": {},
   "outputs": [
    {
     "name": "stdout",
     "output_type": "stream",
     "text": [
      "0.5\n"
     ]
    }
   ],
   "source": [
    "#even if divido due interi ho un float\n",
    "half = 1/2\n",
    "print(half)"
   ]
  },
  {
   "cell_type": "code",
   "execution_count": 38,
   "id": "942e9344",
   "metadata": {},
   "outputs": [
    {
     "data": {
      "text/plain": [
       "8"
      ]
     },
     "execution_count": 38,
     "metadata": {},
     "output_type": "execute_result"
    }
   ],
   "source": [
    "2**3"
   ]
  },
  {
   "cell_type": "code",
   "execution_count": 39,
   "id": "d2e87fca",
   "metadata": {},
   "outputs": [
    {
     "data": {
      "text/plain": [
       "1"
      ]
     },
     "execution_count": 39,
     "metadata": {},
     "output_type": "execute_result"
    }
   ],
   "source": [
    "81%2"
   ]
  },
  {
   "cell_type": "code",
   "execution_count": 41,
   "id": "cbd4577d",
   "metadata": {},
   "outputs": [
    {
     "data": {
      "text/plain": [
       "'appleappleapple'"
      ]
     },
     "execution_count": 41,
     "metadata": {},
     "output_type": "execute_result"
    }
   ],
   "source": [
    "'apple' * 3"
   ]
  },
  {
   "cell_type": "code",
   "execution_count": 45,
   "id": "1f6a9d39",
   "metadata": {},
   "outputs": [
    {
     "name": "stdout",
     "output_type": "stream",
     "text": [
      "my age is22\n"
     ]
    }
   ],
   "source": [
    "#how to convert in to string\n",
    "ciao ='my age is ' + str(age)\n",
    "print(ciao)"
   ]
  },
  {
   "cell_type": "code",
   "execution_count": 46,
   "id": "566eb98e",
   "metadata": {},
   "outputs": [
    {
     "data": {
      "text/plain": [
       "1.0"
      ]
     },
     "execution_count": 46,
     "metadata": {},
     "output_type": "execute_result"
    }
   ],
   "source": [
    "float(1)"
   ]
  },
  {
   "cell_type": "code",
   "execution_count": 47,
   "id": "2e9fedae",
   "metadata": {},
   "outputs": [
    {
     "data": {
      "text/plain": [
       "1"
      ]
     },
     "execution_count": 47,
     "metadata": {},
     "output_type": "execute_result"
    }
   ],
   "source": [
    "int(1.32)"
   ]
  },
  {
   "cell_type": "markdown",
   "id": "07aff0da",
   "metadata": {},
   "source": [
    "#index is zero-based --> [0,1,2,...]\n",
    "reversed index: al primo assegna -1 e va a calare, cioè -2,-3,... [..., -3, -2,-1]"
   ]
  },
  {
   "cell_type": "code",
   "execution_count": 48,
   "id": "d8af2498",
   "metadata": {},
   "outputs": [
    {
     "data": {
      "text/plain": [
       "'Eli'"
      ]
     },
     "execution_count": 48,
     "metadata": {},
     "output_type": "execute_result"
    }
   ],
   "source": [
    "my_name[0:3] #la quarta lettera è ESCLUSA --> stampa le prime tre"
   ]
  },
  {
   "cell_type": "code",
   "execution_count": 52,
   "id": "6b8456a6",
   "metadata": {},
   "outputs": [
    {
     "data": {
      "text/plain": [
       "'i'"
      ]
     },
     "execution_count": 52,
     "metadata": {},
     "output_type": "execute_result"
    }
   ],
   "source": [
    "my_name[2:3]"
   ]
  },
  {
   "cell_type": "code",
   "execution_count": 53,
   "id": "23e9a57a",
   "metadata": {},
   "outputs": [
    {
     "data": {
      "text/plain": [
       "'a'"
      ]
     },
     "execution_count": 53,
     "metadata": {},
     "output_type": "execute_result"
    }
   ],
   "source": [
    "my_name[-1:]"
   ]
  },
  {
   "cell_type": "code",
   "execution_count": 60,
   "id": "197bc480",
   "metadata": {},
   "outputs": [
    {
     "data": {
      "text/plain": [
       "'li'"
      ]
     },
     "execution_count": 60,
     "metadata": {},
     "output_type": "execute_result"
    }
   ],
   "source": [
    "my_name[-4:3]"
   ]
  },
  {
   "cell_type": "code",
   "execution_count": 63,
   "id": "bca74ca6",
   "metadata": {},
   "outputs": [
    {
     "name": "stdout",
     "output_type": "stream",
     "text": [
      "Help on built-in function len in module builtins:\n",
      "\n",
      "len(obj, /)\n",
      "    Return the number of items in a container.\n",
      "\n"
     ]
    }
   ],
   "source": [
    "help(len)"
   ]
  },
  {
   "cell_type": "code",
   "execution_count": 67,
   "id": "fe91f4aa",
   "metadata": {},
   "outputs": [
    {
     "data": {
      "text/plain": [
       "7"
      ]
     },
     "execution_count": 67,
     "metadata": {},
     "output_type": "execute_result"
    }
   ],
   "source": [
    "max(1,4,7,)"
   ]
  },
  {
   "cell_type": "code",
   "execution_count": 69,
   "id": "965bed58",
   "metadata": {},
   "outputs": [
    {
     "data": {
      "text/plain": [
       "'Totoro'"
      ]
     },
     "execution_count": 69,
     "metadata": {},
     "output_type": "execute_result"
    }
   ],
   "source": [
    "max('Elisa', 'Totoro')"
   ]
  },
  {
   "cell_type": "code",
   "execution_count": 70,
   "id": "69c0e9c2",
   "metadata": {},
   "outputs": [
    {
     "data": {
      "text/plain": [
       "'Elisa'"
      ]
     },
     "execution_count": 70,
     "metadata": {},
     "output_type": "execute_result"
    }
   ],
   "source": [
    "min('Elisa', 'Totoro')"
   ]
  },
  {
   "cell_type": "code",
   "execution_count": 71,
   "id": "ae0b1358",
   "metadata": {},
   "outputs": [
    {
     "data": {
      "text/plain": [
       "3"
      ]
     },
     "execution_count": 71,
     "metadata": {},
     "output_type": "execute_result"
    }
   ],
   "source": [
    "len(my_name[:3])"
   ]
  },
  {
   "cell_type": "code",
   "execution_count": null,
   "id": "04d5f729",
   "metadata": {},
   "outputs": [],
   "source": []
  }
 ],
 "metadata": {
  "kernelspec": {
   "display_name": "Python 3 (ipykernel)",
   "language": "python",
   "name": "python3"
  },
  "language_info": {
   "codemirror_mode": {
    "name": "ipython",
    "version": 3
   },
   "file_extension": ".py",
   "mimetype": "text/x-python",
   "name": "python",
   "nbconvert_exporter": "python",
   "pygments_lexer": "ipython3",
   "version": "3.9.9"
  }
 },
 "nbformat": 4,
 "nbformat_minor": 5
}
